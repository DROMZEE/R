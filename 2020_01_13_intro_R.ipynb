{
 "cells": [
  {
   "cell_type": "markdown",
   "metadata": {},
   "source": [
    "# Introduction à R"
   ]
  },
  {
   "cell_type": "markdown",
   "metadata": {
    "toc": true
   },
   "source": [
    "<h1>Table of Contents<span class=\"tocSkip\"></span></h1>\n",
    "<div class=\"toc\"><ul class=\"toc-item\"><li><span><a href=\"#Introduction-à-R\" data-toc-modified-id=\"Introduction-à-R-1\">Introduction à R</a></span><ul class=\"toc-item\"><li><span><a href=\"#I.-Prise-en-main-du-logiciel\" data-toc-modified-id=\"I.-Prise-en-main-du-logiciel-1.1\">I. Prise en main du logiciel</a></span><ul class=\"toc-item\"><li><span><a href=\"#I.A.-Quelques-astuces-avant-de-commencer\" data-toc-modified-id=\"I.A.-Quelques-astuces-avant-de-commencer-1.1.1\">I.A. Quelques astuces avant de commencer</a></span></li><li><span><a href=\"#I.B.-Premières-manipulations\" data-toc-modified-id=\"I.B.-Premières-manipulations-1.1.2\">I.B. Premières manipulations</a></span><ul class=\"toc-item\"><li><span><a href=\"#I.B.1.-Faites-tourner-le-code-ci-dessus-puis-faites-un-appel-à-la-fonction-ls().-À-quoi-sert-cette-fonction?\" data-toc-modified-id=\"I.B.1.-Faites-tourner-le-code-ci-dessus-puis-faites-un-appel-à-la-fonction-ls().-À-quoi-sert-cette-fonction?-1.1.2.1\">I.B.1. Faites tourner le code ci-dessus puis faites un appel à la fonction ls(). À quoi sert cette fonction?</a></span></li><li><span><a href=\"#I.B.2.-Appliquez-la-fonction-mode()-à-chacun-de-ces-objets.-Décrivez-les-différents-types-d’objets-obtenus.\" data-toc-modified-id=\"I.B.2.-Appliquez-la-fonction-mode()-à-chacun-de-ces-objets.-Décrivez-les-différents-types-d’objets-obtenus.-1.1.2.2\">I.B.2. Appliquez la fonction mode() à chacun de ces objets. Décrivez les différents types d’objets obtenus.</a></span></li><li><span><a href=\"#I.B.3.-Que-font-les-fonctions-is.numeric,-is.logical-et-is.character?-Testez-les-sur-ces-objets.\" data-toc-modified-id=\"I.B.3.-Que-font-les-fonctions-is.numeric,-is.logical-et-is.character?-Testez-les-sur-ces-objets.-1.1.2.3\">I.B.3. Que font les fonctions is.numeric, is.logical et is.character? Testez-les sur ces objets.</a></span></li><li><span><a href=\"#I.B.4.-Même-question-avec-as.numeric,-as.logical-et-as.character.-Expliquez-les-résultats-de-as.numeric(c)-et-as.logical(a).\" data-toc-modified-id=\"I.B.4.-Même-question-avec-as.numeric,-as.logical-et-as.character.-Expliquez-les-résultats-de-as.numeric(c)-et-as.logical(a).-1.1.2.4\">I.B.4. Même question avec as.numeric, as.logical et as.character. Expliquez les résultats de as.numeric(c) et as.logical(a).</a></span></li><li><span><a href=\"#I.B.5.-Trouvez-une-fonction-permettant-de-supprimer-des-objets-en-mémoire.-Utilisez-là-pour-supprimer-a,-puis-pour-supprimer-b-et-c.\" data-toc-modified-id=\"I.B.5.-Trouvez-une-fonction-permettant-de-supprimer-des-objets-en-mémoire.-Utilisez-là-pour-supprimer-a,-puis-pour-supprimer-b-et-c.-1.1.2.5\">I.B.5. Trouvez une fonction permettant de supprimer des objets en mémoire. Utilisez-là pour supprimer a, puis pour supprimer b et c.</a></span></li><li><span><a href=\"#I.B.6.-Aprés-avoir-créé-de-nouveau-ces-objets,-trouvez-une-manière-de-supprimer-l’ensemble-des-objets-en-mémoire-(sans-faire-référence-à-leurs-noms).\" data-toc-modified-id=\"I.B.6.-Aprés-avoir-créé-de-nouveau-ces-objets,-trouvez-une-manière-de-supprimer-l’ensemble-des-objets-en-mémoire-(sans-faire-référence-à-leurs-noms).-1.1.2.6\">I.B.6. Aprés avoir créé de nouveau ces objets, trouvez une manière de supprimer l’ensemble des objets en mémoire (sans faire référence à leurs noms).</a></span></li></ul></li><li><span><a href=\"#I.C.-Documentation-des-fonctions\" data-toc-modified-id=\"I.C.-Documentation-des-fonctions-1.1.3\">I.C. Documentation des fonctions</a></span><ul class=\"toc-item\"><li><span><a href=\"#I.C.1.-Trouvez-une-manière-d’afficher-l’aide-de-la-fonction-is.numeric.-Essayez-d’identifier-les-grandes-parties-de-cette-documentation.\" data-toc-modified-id=\"I.C.1.-Trouvez-une-manière-d’afficher-l’aide-de-la-fonction-is.numeric.-Essayez-d’identifier-les-grandes-parties-de-cette-documentation.-1.1.3.1\">I.C.1. Trouvez une manière d’afficher l’aide de la fonction is.numeric. Essayez d’identifier les grandes parties de cette documentation.</a></span></li><li><span><a href=\"#I.C.2.-Lancez-??is.numeric.-Qu’est-ce-qu’on-obtient?\" data-toc-modified-id=\"I.C.2.-Lancez-??is.numeric.-Qu’est-ce-qu’on-obtient?-1.1.3.2\">I.C.2. Lancez ??is.numeric. Qu’est-ce qu’on obtient?</a></span></li><li><span><a href=\"#I.C.3.-Trouvez-comment-afficher-le-code-d’une-fonction-R-dans-la-console.\" data-toc-modified-id=\"I.C.3.-Trouvez-comment-afficher-le-code-d’une-fonction-R-dans-la-console.-1.1.3.3\">I.C.3. Trouvez comment afficher le code d’une fonction R dans la console.</a></span></li></ul></li></ul></li><li><span><a href=\"#II.-Manipulations-d’objets\" data-toc-modified-id=\"II.-Manipulations-d’objets-1.2\">II. Manipulations d’objets</a></span><ul class=\"toc-item\"><li><span><a href=\"#II.A.-Création-de-vecteurs\" data-toc-modified-id=\"II.A.-Création-de-vecteurs-1.2.1\">II.A. Création de vecteurs</a></span><ul class=\"toc-item\"><li><span><a href=\"#II.A.1.-Affichez-la-documentation-de-la-fonction-c().\" data-toc-modified-id=\"II.A.1.-Affichez-la-documentation-de-la-fonction-c().-1.2.1.1\">II.A.1. Affichez la documentation de la fonction c().</a></span></li><li><span><a href=\"#II.A.2.-Trouvez-une-fonction-permettant-de-vérifier-que-ce-vecteur-est-bien-numérique.\" data-toc-modified-id=\"II.A.2.-Trouvez-une-fonction-permettant-de-vérifier-que-ce-vecteur-est-bien-numérique.-1.2.1.2\">II.A.2. Trouvez une fonction permettant de vérifier que ce vecteur est bien numérique.</a></span></li><li><span><a href=\"#II.A.3.-Trouvez-une-manière-d’afficher-la-longueur-de-ce-vecteur.\" data-toc-modified-id=\"II.A.3.-Trouvez-une-manière-d’afficher-la-longueur-de-ce-vecteur.-1.2.1.3\">II.A.3. Trouvez une manière d’afficher la longueur de ce vecteur.</a></span></li><li><span><a href=\"#II.A.4.-Faites-tourner-str(my_vec).-Qu’obtient-on?\" data-toc-modified-id=\"II.A.4.-Faites-tourner-str(my_vec).-Qu’obtient-on?-1.2.1.4\">II.A.4. Faites tourner str(my_vec). Qu’obtient-on?</a></span></li><li><span><a href=\"#II.A.5.-Ajoutez-deux-valeurs-numériques-à-votre-vecteur-sans-le-créer-de-nouveau.\" data-toc-modified-id=\"II.A.5.-Ajoutez-deux-valeurs-numériques-à-votre-vecteur-sans-le-créer-de-nouveau.-1.2.1.5\">II.A.5. Ajoutez deux valeurs numériques à votre vecteur sans le créer de nouveau.</a></span></li><li><span><a href=\"#II.A.6.-Refaire-les-étapes-ci-dessus-avec-cette-fois-my_vec_logi-composé-d’éléments-logiques-et-my_vec_charac-composé-d’éléments-caractères.\" data-toc-modified-id=\"II.A.6.-Refaire-les-étapes-ci-dessus-avec-cette-fois-my_vec_logi-composé-d’éléments-logiques-et-my_vec_charac-composé-d’éléments-caractères.-1.2.1.6\">II.A.6. Refaire les étapes ci-dessus avec cette fois my_vec_logi composé d’éléments logiques et my_vec_charac composé d’éléments caractères.</a></span></li><li><span><a href=\"#II.A.7.-Concaténez-my_vec_num,-my_vec_logi-et-my_vec_charac.-Quel-type-de-vecteur-obtient-on?\" data-toc-modified-id=\"II.A.7.-Concaténez-my_vec_num,-my_vec_logi-et-my_vec_charac.-Quel-type-de-vecteur-obtient-on?-1.2.1.7\">II.A.7. Concaténez my_vec_num, my_vec_logi et my_vec_charac. Quel type de vecteur obtient-on?</a></span></li></ul></li><li><span><a href=\"#II.B.-Opérations-de-base-sur-les-vecteurs\" data-toc-modified-id=\"II.B.-Opérations-de-base-sur-les-vecteurs-1.2.2\">II.B. Opérations de base sur les vecteurs</a></span><ul class=\"toc-item\"><li><span><a href=\"#II.B.1.-Trouvez-une-manière-de-créer-un-vecteur-répliquant-le-même-élément-n-fois.\" data-toc-modified-id=\"II.B.1.-Trouvez-une-manière-de-créer-un-vecteur-répliquant-le-même-élément-n-fois.-1.2.2.1\">II.B.1. Trouvez une manière de créer un vecteur répliquant le même élément n fois.</a></span></li><li><span><a href=\"#II.B.2.-Créez-un-vecteur-c1-contenant-les-chiffres-allant-de-8-à-30-en-utilisant-deux-méthodes-différentes.\" data-toc-modified-id=\"II.B.2.-Créez-un-vecteur-c1-contenant-les-chiffres-allant-de-8-à-30-en-utilisant-deux-méthodes-différentes.-1.2.2.2\">II.B.2. Créez un vecteur c1 contenant les chiffres allant de 8 à 30 en utilisant deux méthodes différentes.</a></span></li><li><span><a href=\"#II.B.3.-Trouvez-une-manière-d’afficher-le-1er-élément-de-c1,-puis-le-15e.-Vous-notez-une-différence-avec-Python?\" data-toc-modified-id=\"II.B.3.-Trouvez-une-manière-d’afficher-le-1er-élément-de-c1,-puis-le-15e.-Vous-notez-une-différence-avec-Python?-1.2.2.3\">II.B.3. Trouvez une manière d’afficher le 1er élément de c1, puis le 15e. Vous notez une différence avec Python?</a></span></li><li><span><a href=\"#II.B.4.-Créez-un-vecteur-c2-contenant-le-2nd,-le-5e-et-le-8e-élément-de-c1.\" data-toc-modified-id=\"II.B.4.-Créez-un-vecteur-c2-contenant-le-2nd,-le-5e-et-le-8e-élément-de-c1.-1.2.2.4\">II.B.4. Créez un vecteur c2 contenant le 2nd, le 5e et le 8e élément de c1.</a></span></li><li><span><a href=\"#II.B.5.-Créez-un-vecteur-c3-contenant-tous-les-éléments-de-c2-sauf-le-2e.\" data-toc-modified-id=\"II.B.5.-Créez-un-vecteur-c3-contenant-tous-les-éléments-de-c2-sauf-le-2e.-1.2.2.5\">II.B.5. Créez un vecteur c3 contenant tous les éléments de c2 sauf le 2e.</a></span></li><li><span><a href=\"#II.B.6.-Faites-tourner-names(c2)-<--c(&quot;pommes&quot;,&quot;poires&quot;,-&quot;prunes&quot;)-puis-affichez-c2-et-str(c2).-Que-s’est-il-passé?\" data-toc-modified-id=\"II.B.6.-Faites-tourner-names(c2)-<--c(&quot;pommes&quot;,&quot;poires&quot;,-&quot;prunes&quot;)-puis-affichez-c2-et-str(c2).-Que-s’est-il-passé?-1.2.2.6\">II.B.6. Faites tourner names(c2) &lt;- c(\"pommes\",\"poires\", \"prunes\") puis affichez c2 et str(c2). Que s’est-il passé?</a></span></li><li><span><a href=\"#II.B.7.-Essayez-d’utiliser-des-fonctions-de-statistiques-de-base-directement-sur-des-vecteurs-(somme,-moyenne,-min,-max).-Comment-s’appliquent-elles?\" data-toc-modified-id=\"II.B.7.-Essayez-d’utiliser-des-fonctions-de-statistiques-de-base-directement-sur-des-vecteurs-(somme,-moyenne,-min,-max).-Comment-s’appliquent-elles?-1.2.2.7\">II.B.7. Essayez d’utiliser des fonctions de statistiques de base directement sur des vecteurs (somme, moyenne, min, max). Comment s’appliquent-elles?</a></span></li></ul></li><li><span><a href=\"#II.C.-Expressions-logiques-et-conditions\" data-toc-modified-id=\"II.C.-Expressions-logiques-et-conditions-1.2.3\">II.C. Expressions logiques et conditions</a></span><ul class=\"toc-item\"><li><span><a href=\"#II.C.1.-Faites-tourner-c1-<-16.\" data-toc-modified-id=\"II.C.1.-Faites-tourner-c1-<-16.-1.2.3.1\">II.C.1. Faites tourner c1 &lt; 16.</a></span></li><li><span><a href=\"#II.C.2.-Sortez-le-vecteur-de-condition-“c1-est-égal-à-12-ou-à-28”.\" data-toc-modified-id=\"II.C.2.-Sortez-le-vecteur-de-condition-“c1-est-égal-à-12-ou-à-28”.-1.2.3.2\">II.C.2. Sortez le vecteur de condition “c1 est égal à 12 ou à 28”.</a></span></li><li><span><a href=\"#II.C.3.-Créez-le-vecteur-de-condition-cond1-“c1-est-supérieur-à-16-et-inférieur-à-22”.\" data-toc-modified-id=\"II.C.3.-Créez-le-vecteur-de-condition-cond1-“c1-est-supérieur-à-16-et-inférieur-à-22”.-1.2.3.3\">II.C.3. Créez le vecteur de condition cond1 “c1 est supérieur à 16 et inférieur à 22”.</a></span></li><li><span><a href=\"#II.C.4.-Faites-tourner-c1[cond1].-Qu’observez-vous?\" data-toc-modified-id=\"II.C.4.-Faites-tourner-c1[cond1].-Qu’observez-vous?-1.2.3.4\">II.C.4. Faites tourner c1[cond1]. Qu’observez vous?</a></span></li><li><span><a href=\"#II.C.5.-Utilisez-la-même-logique-pour-créer-un-vecteur-c4-contenant-les-valeurs-entre-8-et-12-et-entre-15-et-17-de-c1.\" data-toc-modified-id=\"II.C.5.-Utilisez-la-même-logique-pour-créer-un-vecteur-c4-contenant-les-valeurs-entre-8-et-12-et-entre-15-et-17-de-c1.-1.2.3.5\">II.C.5. Utilisez la même logique pour créer un vecteur c4 contenant les valeurs entre 8 et 12 et entre 15 et 17 de c1.</a></span></li><li><span><a href=\"#II.C.6.-Trouvez-une-manière-de-remplacer-les-éléments-de-c1-respectant-la-condition-cond1-par-zéro.\" data-toc-modified-id=\"II.C.6.-Trouvez-une-manière-de-remplacer-les-éléments-de-c1-respectant-la-condition-cond1-par-zéro.-1.2.3.6\">II.C.6. Trouvez une manière de remplacer les éléments de c1 respectant la condition cond1 par zéro.</a></span></li></ul></li><li><span><a href=\"#II.D.-Création-de-matrices\" data-toc-modified-id=\"II.D.-Création-de-matrices-1.2.4\">II.D. Création de matrices</a></span><ul class=\"toc-item\"><li><span><a href=\"#II.D.1.-Lisez-la-documentation-de-la-fonction-matrix.-Utilisez-cette-fonction-pour-créer-une-matrice-mat1-de-cette-forme-:\" data-toc-modified-id=\"II.D.1.-Lisez-la-documentation-de-la-fonction-matrix.-Utilisez-cette-fonction-pour-créer-une-matrice-mat1-de-cette-forme-:-1.2.4.1\">II.D.1. Lisez la documentation de la fonction matrix. Utilisez cette fonction pour créer une matrice mat1 de cette forme :</a></span></li><li><span><a href=\"#II.D.2.-Toujours-avec-matrix,-essayez-de-créer-une-matrice-mat2-de-cette-forme\" data-toc-modified-id=\"II.D.2.-Toujours-avec-matrix,-essayez-de-créer-une-matrice-mat2-de-cette-forme-1.2.4.2\">II.D.2. Toujours avec matrix, essayez de créer une matrice mat2 de cette forme</a></span></li><li><span><a href=\"#II.D.3.-Que-sortent-mat1[1,-],-mat1[5,-],-mat1[,-2],-mat1[1,-4]?\" data-toc-modified-id=\"II.D.3.-Que-sortent-mat1[1,-],-mat1[5,-],-mat1[,-2],-mat1[1,-4]?-1.2.4.3\">II.D.3. Que sortent mat1[1, ], mat1[5, ], mat1[, 2], mat1[1, 4]?</a></span></li><li><span><a href=\"#II.D.4.--On-travaille-maintenant-avec-la-matrice-mat2-définie-ainsi-:\" data-toc-modified-id=\"II.D.4.--On-travaille-maintenant-avec-la-matrice-mat2-définie-ainsi-:-1.2.4.4\">II.D.4.  On travaille maintenant avec la matrice mat2 définie ainsi :</a></span></li><li><span><a href=\"#II.D.5.-Affichez-les-éléments-de-la-matrice-supérieurs-à-10.\" data-toc-modified-id=\"II.D.5.-Affichez-les-éléments-de-la-matrice-supérieurs-à-10.-1.2.4.5\">II.D.5. Affichez les éléments de la matrice supérieurs à 10.</a></span></li><li><span><a href=\"#II.D.6.-Remplacez-les-éléments-de-la-matrice-supérieurs-à-10-par-zéro.\" data-toc-modified-id=\"II.D.6.-Remplacez-les-éléments-de-la-matrice-supérieurs-à-10-par-zéro.-1.2.4.6\">II.D.6. Remplacez les éléments de la matrice supérieurs à 10 par zéro.</a></span></li><li><span><a href=\"#II.D.7.-Selon-vous,-que-va-donner-l’instruction-suivante-:\" data-toc-modified-id=\"II.D.7.-Selon-vous,-que-va-donner-l’instruction-suivante-:-1.2.4.7\">II.D.7. Selon vous, que va donner l’instruction suivante :</a></span></li><li><span><a href=\"#II.D.8.-Essayez-à-votre-tour-:-affichez-les-3e-et-4e-colonnes-de-la-matrice-mat4-lorsque-la-2nde-colonne-est-inférieure-à-50.\" data-toc-modified-id=\"II.D.8.-Essayez-à-votre-tour-:-affichez-les-3e-et-4e-colonnes-de-la-matrice-mat4-lorsque-la-2nde-colonne-est-inférieure-à-50.-1.2.4.8\">II.D.8. Essayez à votre tour : affichez les 3e et 4e colonnes de la matrice mat4 lorsque la 2nde colonne est inférieure à 50.</a></span></li><li><span><a href=\"#II.D.9.-Utilisez-la-fonction-colnames()-pour-nommer-les-4-colonnes-de-mat4-comme-vous-le-souhaitez.\" data-toc-modified-id=\"II.D.9.-Utilisez-la-fonction-colnames()-pour-nommer-les-4-colonnes-de-mat4-comme-vous-le-souhaitez.-1.2.4.9\">II.D.9. Utilisez la fonction colnames() pour nommer les 4 colonnes de mat4 comme vous le souhaitez.</a></span></li><li><span><a href=\"#II.D.10.-Sélectionnez-deux-colonnes-par-leurs-noms.\" data-toc-modified-id=\"II.D.10.-Sélectionnez-deux-colonnes-par-leurs-noms.-1.2.4.10\">II.D.10. Sélectionnez deux colonnes par leurs noms.</a></span></li><li><span><a href=\"#II.D.11.-Essayez-d’utiliser-des-fonctions-de-statistiques-de-base-directement-sur-des-matrices-(somme,-moyenne,-min,-max).-Comment-s’appliquent-elles?\" data-toc-modified-id=\"II.D.11.-Essayez-d’utiliser-des-fonctions-de-statistiques-de-base-directement-sur-des-matrices-(somme,-moyenne,-min,-max).-Comment-s’appliquent-elles?-1.2.4.11\">II.D.11. Essayez d’utiliser des fonctions de statistiques de base directement sur des matrices (somme, moyenne, min, max). Comment s’appliquent-elles?</a></span></li></ul></li></ul></li><li><span><a href=\"#III.-Les-conditions-et-les-boucles\" data-toc-modified-id=\"III.-Les-conditions-et-les-boucles-1.3\">III. Les conditions et les boucles</a></span><ul class=\"toc-item\"><li><span><a href=\"#III.A.-Les-boucles\" data-toc-modified-id=\"III.A.-Les-boucles-1.3.1\">III.A. Les boucles</a></span></li><li><span><a href=\"#III.B.-If…then…\" data-toc-modified-id=\"III.B.-If…then…-1.3.2\">III.B. If…then…</a></span><ul class=\"toc-item\"><li><span><a href=\"#III.B.1.-À-vous!-En-faisant-tourner-une-boucle,-renvoyez-les-indices-des-lignes-de-mat4-dont-la-troisième-colonne-est-<-40.\" data-toc-modified-id=\"III.B.1.-À-vous!-En-faisant-tourner-une-boucle,-renvoyez-les-indices-des-lignes-de-mat4-dont-la-troisième-colonne-est-<-40.-1.3.2.1\">III.B.1. À vous! En faisant tourner une boucle, renvoyez les indices des lignes de mat4 dont la troisième colonne est &lt; 40.</a></span></li><li><span><a href=\"#III.B.2.-Bonus-:-seriez-vous-capables-de-me-stocker-les-résultats-dans-un-vecteur,-comme-je-l’ai-fait-ici-:\" data-toc-modified-id=\"III.B.2.-Bonus-:-seriez-vous-capables-de-me-stocker-les-résultats-dans-un-vecteur,-comme-je-l’ai-fait-ici-:-1.3.2.2\">III.B.2. Bonus : seriez-vous capables de me stocker les résultats dans un vecteur, comme je l’ai fait ici :</a></span></li></ul></li></ul></li><li><span><a href=\"#IV.-Les-listes-et-les-fonctions\" data-toc-modified-id=\"IV.-Les-listes-et-les-fonctions-1.4\">IV. Les listes et les fonctions</a></span><ul class=\"toc-item\"><li><span><a href=\"#IV.A.-Les-listes\" data-toc-modified-id=\"IV.A.-Les-listes-1.4.1\">IV.A. Les listes</a></span><ul class=\"toc-item\"><li><span><a href=\"#IV.A.1.-À-vous!-créez-une-liste-contenant-une-matrice-numérique-que-vous-nommerez-mat_liste,-un-charactère-ch_liste-et-un-booléen-bool_liste.-Faites-la-somme-des-éléments-de-la-matrice-appelée-depuis-la-liste.\" data-toc-modified-id=\"IV.A.1.-À-vous!-créez-une-liste-contenant-une-matrice-numérique-que-vous-nommerez-mat_liste,-un-charactère-ch_liste-et-un-booléen-bool_liste.-Faites-la-somme-des-éléments-de-la-matrice-appelée-depuis-la-liste.-1.4.1.1\">IV.A.1. À vous! créez une liste contenant une matrice numérique que vous nommerez mat_liste, un charactère ch_liste et un booléen bool_liste. Faites la somme des éléments de la matrice appelée depuis la liste.</a></span></li></ul></li><li><span><a href=\"#IV.B.-Les-fonctions\" data-toc-modified-id=\"IV.B.-Les-fonctions-1.4.2\">IV.B. Les fonctions</a></span><ul class=\"toc-item\"><li><span><a href=\"#IV.B.1.-À-vous!-Créez-une-fonction-is_pair\" data-toc-modified-id=\"IV.B.1.-À-vous!-Créez-une-fonction-is_pair-1.4.2.1\">IV.B.1. À vous! Créez une fonction is_pair</a></span></li></ul></li></ul></li><li><span><a href=\"#VI.-Appliquer-des-fonctions-à-un-ensemble-d’éléments-avec-*apply\" data-toc-modified-id=\"VI.-Appliquer-des-fonctions-à-un-ensemble-d’éléments-avec-*apply-1.5\">VI. Appliquer des fonctions à un ensemble d’éléments avec *apply</a></span><ul class=\"toc-item\"><li><span><a href=\"#VI.1-Exemple-:-Créez-une-matrice-numérique-mat5-de-dimension-20-*-3-avec-la-fonction-sample.\" data-toc-modified-id=\"VI.1-Exemple-:-Créez-une-matrice-numérique-mat5-de-dimension-20-*-3-avec-la-fonction-sample.-1.5.1\">VI.1 Exemple : Créez une matrice numérique mat5 de dimension 20 * 3 avec la fonction sample.</a></span></li><li><span><a href=\"#VI.2.-Sortez-le-numéro-de-la-ligne-de-votre-matrice-correspondant-à-la-plus-faible-somme-des-colonnes.\" data-toc-modified-id=\"VI.2.-Sortez-le-numéro-de-la-ligne-de-votre-matrice-correspondant-à-la-plus-faible-somme-des-colonnes.-1.5.2\">VI.2. Sortez le numéro de la ligne de votre matrice correspondant à la plus faible somme des colonnes.</a></span></li><li><span><a href=\"#VI.3.-En-utilisant-sum-et-is_pair,-sortez-le-numéro-de-la-ligne-contenant-le-plus-de-nombres-pairs.\" data-toc-modified-id=\"VI.3.-En-utilisant-sum-et-is_pair,-sortez-le-numéro-de-la-ligne-contenant-le-plus-de-nombres-pairs.-1.5.3\">VI.3. En utilisant sum et is_pair, sortez le numéro de la ligne contenant le plus de nombres pairs.</a></span></li></ul></li><li><span><a href=\"#Pour-illustrer-tapply,-nous-allons-définir-la-matrice-mat6-ainsi-:\" data-toc-modified-id=\"Pour-illustrer-tapply,-nous-allons-définir-la-matrice-mat6-ainsi-:-1.6\">Pour illustrer tapply, nous allons définir la matrice mat6 ainsi :</a></span></li><li><span><a href=\"#VII.-Les-packages\" data-toc-modified-id=\"VII.-Les-packages-1.7\">VII. Les packages</a></span><ul class=\"toc-item\"><li><span><a href=\"#VII.1.-Trouvez-comment-installer-un-package-sous-R-et-installez-le-package-readxl.\" data-toc-modified-id=\"VII.1.-Trouvez-comment-installer-un-package-sous-R-et-installez-le-package-readxl.-1.7.1\">VII.1. Trouvez comment installer un package sous R et installez le package readxl.</a></span></li><li><span><a href=\"#VII.2.-Trouvez-comment-charger-le-package-dans-votre-session-pour-accéder-aux-fonctions.-Pouvez-vous-ne-charger-qu’une-des-fonctions-du-package?-Comment?\" data-toc-modified-id=\"VII.2.-Trouvez-comment-charger-le-package-dans-votre-session-pour-accéder-aux-fonctions.-Pouvez-vous-ne-charger-qu’une-des-fonctions-du-package?-Comment?-1.7.2\">VII.2. Trouvez comment charger le package dans votre session pour accéder aux fonctions. Pouvez-vous ne charger qu’une des fonctions du package? Comment?</a></span></li></ul></li></ul></li></ul></div>"
   ]
  },
  {
   "cell_type": "markdown",
   "metadata": {},
   "source": [
    "## I. Prise en main du logiciel"
   ]
  },
  {
   "cell_type": "markdown",
   "metadata": {},
   "source": [
    "On commence par installer R : http://cran.r-project.org/bin/windows/base/. \n",
    "Puis, on installe la version opensource de RStudio à partir de ce lien : http://www.rstudio.com/products/rstudio/download/"
   ]
  },
  {
   "cell_type": "markdown",
   "metadata": {},
   "source": [
    "### I.A. Quelques astuces avant de commencer"
   ]
  },
  {
   "cell_type": "markdown",
   "metadata": {},
   "source": [
    "Sur R, on assigne une valeur à un objet avec <-. Dans RStudio, vous pouvez le sortir directement avec le raccourci clavier Alt + 6.\n",
    "Sur R, les lignes de commentaires commencent par #. Dans RStudio, vous pouvez passer ou dépasser rapidement une ou plusieurs lignes en commentaire avec le raccourci Ctrl + Maj + C.\n",
    "Sur Rstudio, vous pouvez aussi organiser votre code en sections en faisant commencer votre section par # Mon titre de section ####. Essayez avec ces petits exercices!"
   ]
  },
  {
   "cell_type": "markdown",
   "metadata": {},
   "source": [
    "### I.B. Premières manipulations"
   ]
  },
  {
   "cell_type": "markdown",
   "metadata": {},
   "source": [
    "On crée les objets suivants dans une nouvelle session R :"
   ]
  },
  {
   "cell_type": "code",
   "execution_count": 1,
   "metadata": {},
   "outputs": [],
   "source": [
    "a <- 3\n",
    "b <- \"ah tiens\"\n",
    "c <- TRUE"
   ]
  },
  {
   "cell_type": "markdown",
   "metadata": {},
   "source": [
    "#### I.B.1. Faites tourner le code ci-dessus puis faites un appel à la fonction ls(). À quoi sert cette fonction?"
   ]
  },
  {
   "cell_type": "code",
   "execution_count": 2,
   "metadata": {},
   "outputs": [
    {
     "data": {
      "text/html": [
       "<ol class=list-inline>\n",
       "\t<li>'a'</li>\n",
       "\t<li>'b'</li>\n",
       "\t<li>'c'</li>\n",
       "</ol>\n"
      ],
      "text/latex": [
       "\\begin{enumerate*}\n",
       "\\item 'a'\n",
       "\\item 'b'\n",
       "\\item 'c'\n",
       "\\end{enumerate*}\n"
      ],
      "text/markdown": [
       "1. 'a'\n",
       "2. 'b'\n",
       "3. 'c'\n",
       "\n",
       "\n"
      ],
      "text/plain": [
       "[1] \"a\" \"b\" \"c\""
      ]
     },
     "metadata": {},
     "output_type": "display_data"
    }
   ],
   "source": [
    "ls()"
   ]
  },
  {
   "cell_type": "markdown",
   "metadata": {},
   "source": [
    "#### I.B.2. Appliquez la fonction mode() à chacun de ces objets. Décrivez les différents types d’objets obtenus."
   ]
  },
  {
   "cell_type": "code",
   "execution_count": 3,
   "metadata": {},
   "outputs": [
    {
     "data": {
      "text/html": [
       "'numeric'"
      ],
      "text/latex": [
       "'numeric'"
      ],
      "text/markdown": [
       "'numeric'"
      ],
      "text/plain": [
       "[1] \"numeric\""
      ]
     },
     "metadata": {},
     "output_type": "display_data"
    },
    {
     "data": {
      "text/html": [
       "'character'"
      ],
      "text/latex": [
       "'character'"
      ],
      "text/markdown": [
       "'character'"
      ],
      "text/plain": [
       "[1] \"character\""
      ]
     },
     "metadata": {},
     "output_type": "display_data"
    },
    {
     "data": {
      "text/html": [
       "'logical'"
      ],
      "text/latex": [
       "'logical'"
      ],
      "text/markdown": [
       "'logical'"
      ],
      "text/plain": [
       "[1] \"logical\""
      ]
     },
     "metadata": {},
     "output_type": "display_data"
    }
   ],
   "source": [
    "mode(a)\n",
    "mode(b)\n",
    "mode(c)"
   ]
  },
  {
   "cell_type": "markdown",
   "metadata": {},
   "source": [
    "#### I.B.3. Que font les fonctions is.numeric, is.logical et is.character? Testez-les sur ces objets."
   ]
  },
  {
   "cell_type": "code",
   "execution_count": 6,
   "metadata": {},
   "outputs": [
    {
     "data": {
      "text/html": [
       "TRUE"
      ],
      "text/latex": [
       "TRUE"
      ],
      "text/markdown": [
       "TRUE"
      ],
      "text/plain": [
       "[1] TRUE"
      ]
     },
     "metadata": {},
     "output_type": "display_data"
    },
    {
     "data": {
      "text/html": [
       "FALSE"
      ],
      "text/latex": [
       "FALSE"
      ],
      "text/markdown": [
       "FALSE"
      ],
      "text/plain": [
       "[1] FALSE"
      ]
     },
     "metadata": {},
     "output_type": "display_data"
    },
    {
     "data": {
      "text/html": [
       "FALSE"
      ],
      "text/latex": [
       "FALSE"
      ],
      "text/markdown": [
       "FALSE"
      ],
      "text/plain": [
       "[1] FALSE"
      ]
     },
     "metadata": {},
     "output_type": "display_data"
    },
    {
     "data": {
      "text/html": [
       "FALSE"
      ],
      "text/latex": [
       "FALSE"
      ],
      "text/markdown": [
       "FALSE"
      ],
      "text/plain": [
       "[1] FALSE"
      ]
     },
     "metadata": {},
     "output_type": "display_data"
    },
    {
     "data": {
      "text/html": [
       "TRUE"
      ],
      "text/latex": [
       "TRUE"
      ],
      "text/markdown": [
       "TRUE"
      ],
      "text/plain": [
       "[1] TRUE"
      ]
     },
     "metadata": {},
     "output_type": "display_data"
    },
    {
     "data": {
      "text/html": [
       "FALSE"
      ],
      "text/latex": [
       "FALSE"
      ],
      "text/markdown": [
       "FALSE"
      ],
      "text/plain": [
       "[1] FALSE"
      ]
     },
     "metadata": {},
     "output_type": "display_data"
    },
    {
     "data": {
      "text/html": [
       "FALSE"
      ],
      "text/latex": [
       "FALSE"
      ],
      "text/markdown": [
       "FALSE"
      ],
      "text/plain": [
       "[1] FALSE"
      ]
     },
     "metadata": {},
     "output_type": "display_data"
    },
    {
     "data": {
      "text/html": [
       "FALSE"
      ],
      "text/latex": [
       "FALSE"
      ],
      "text/markdown": [
       "FALSE"
      ],
      "text/plain": [
       "[1] FALSE"
      ]
     },
     "metadata": {},
     "output_type": "display_data"
    },
    {
     "data": {
      "text/html": [
       "TRUE"
      ],
      "text/latex": [
       "TRUE"
      ],
      "text/markdown": [
       "TRUE"
      ],
      "text/plain": [
       "[1] TRUE"
      ]
     },
     "metadata": {},
     "output_type": "display_data"
    }
   ],
   "source": [
    "is.numeric(a)\n",
    "is.logical(b)\n",
    "is.character(c)\n",
    "is.numeric(b)\n",
    "is.logical(c)\n",
    "is.character(a)\n",
    "is.numeric(c)\n",
    "is.logical(a)\n",
    "is.character(b)"
   ]
  },
  {
   "cell_type": "markdown",
   "metadata": {},
   "source": [
    "#### I.B.4. Même question avec as.numeric, as.logical et as.character. Expliquez les résultats de as.numeric(c) et as.logical(a)."
   ]
  },
  {
   "cell_type": "code",
   "execution_count": 7,
   "metadata": {},
   "outputs": [
    {
     "data": {
      "text/html": [
       "3"
      ],
      "text/latex": [
       "3"
      ],
      "text/markdown": [
       "3"
      ],
      "text/plain": [
       "[1] 3"
      ]
     },
     "metadata": {},
     "output_type": "display_data"
    },
    {
     "data": {
      "text/html": [
       "&lt;NA&gt;"
      ],
      "text/latex": [
       "<NA>"
      ],
      "text/markdown": [
       "&lt;NA&gt;"
      ],
      "text/plain": [
       "[1] NA"
      ]
     },
     "metadata": {},
     "output_type": "display_data"
    },
    {
     "data": {
      "text/html": [
       "'TRUE'"
      ],
      "text/latex": [
       "'TRUE'"
      ],
      "text/markdown": [
       "'TRUE'"
      ],
      "text/plain": [
       "[1] \"TRUE\""
      ]
     },
     "metadata": {},
     "output_type": "display_data"
    },
    {
     "name": "stderr",
     "output_type": "stream",
     "text": [
      "Warning message in eval(expr, envir, enclos):\n",
      "\"NAs introduits lors de la conversion automatique\""
     ]
    },
    {
     "data": {
      "text/html": [
       "&lt;NA&gt;"
      ],
      "text/latex": [
       "<NA>"
      ],
      "text/markdown": [
       "&lt;NA&gt;"
      ],
      "text/plain": [
       "[1] NA"
      ]
     },
     "metadata": {},
     "output_type": "display_data"
    },
    {
     "data": {
      "text/html": [
       "TRUE"
      ],
      "text/latex": [
       "TRUE"
      ],
      "text/markdown": [
       "TRUE"
      ],
      "text/plain": [
       "[1] TRUE"
      ]
     },
     "metadata": {},
     "output_type": "display_data"
    },
    {
     "data": {
      "text/html": [
       "'3'"
      ],
      "text/latex": [
       "'3'"
      ],
      "text/markdown": [
       "'3'"
      ],
      "text/plain": [
       "[1] \"3\""
      ]
     },
     "metadata": {},
     "output_type": "display_data"
    },
    {
     "data": {
      "text/html": [
       "1"
      ],
      "text/latex": [
       "1"
      ],
      "text/markdown": [
       "1"
      ],
      "text/plain": [
       "[1] 1"
      ]
     },
     "metadata": {},
     "output_type": "display_data"
    },
    {
     "data": {
      "text/html": [
       "TRUE"
      ],
      "text/latex": [
       "TRUE"
      ],
      "text/markdown": [
       "TRUE"
      ],
      "text/plain": [
       "[1] TRUE"
      ]
     },
     "metadata": {},
     "output_type": "display_data"
    },
    {
     "data": {
      "text/html": [
       "'ah tiens'"
      ],
      "text/latex": [
       "'ah tiens'"
      ],
      "text/markdown": [
       "'ah tiens'"
      ],
      "text/plain": [
       "[1] \"ah tiens\""
      ]
     },
     "metadata": {},
     "output_type": "display_data"
    }
   ],
   "source": [
    "as.numeric(a)\n",
    "as.logical(b)\n",
    "as.character(c)\n",
    "as.numeric(b)\n",
    "as.logical(c)\n",
    "as.character(a)\n",
    "as.numeric(c)\n",
    "as.logical(a)\n",
    "as.character(b)"
   ]
  },
  {
   "cell_type": "markdown",
   "metadata": {},
   "source": [
    "#### I.B.5. Trouvez une fonction permettant de supprimer des objets en mémoire. Utilisez-là pour supprimer a, puis pour supprimer b et c."
   ]
  },
  {
   "cell_type": "code",
   "execution_count": 12,
   "metadata": {},
   "outputs": [],
   "source": [
    "rm(a)"
   ]
  },
  {
   "cell_type": "markdown",
   "metadata": {},
   "source": [
    "#### I.B.6. Aprés avoir créé de nouveau ces objets, trouvez une manière de supprimer l’ensemble des objets en mémoire (sans faire référence à leurs noms)."
   ]
  },
  {
   "cell_type": "code",
   "execution_count": 10,
   "metadata": {},
   "outputs": [
    {
     "name": "stderr",
     "output_type": "stream",
     "text": [
      "Warning message in rm(ls):\n",
      "\"objet 'ls' introuvable\""
     ]
    }
   ],
   "source": [
    "rm(ls)"
   ]
  },
  {
   "cell_type": "markdown",
   "metadata": {},
   "source": [
    "### I.C. Documentation des fonctions"
   ]
  },
  {
   "cell_type": "markdown",
   "metadata": {},
   "source": [
    "#### I.C.1. Trouvez une manière d’afficher l’aide de la fonction is.numeric. Essayez d’identifier les grandes parties de cette documentation."
   ]
  },
  {
   "cell_type": "code",
   "execution_count": 8,
   "metadata": {},
   "outputs": [],
   "source": [
    "?is.numeric"
   ]
  },
  {
   "cell_type": "markdown",
   "metadata": {},
   "source": [
    "#### I.C.2. Lancez ??is.numeric. Qu’est-ce qu’on obtient?"
   ]
  },
  {
   "cell_type": "code",
   "execution_count": 9,
   "metadata": {},
   "outputs": [
    {
     "name": "stderr",
     "output_type": "stream",
     "text": [
      "starting httpd help server ... done\n"
     ]
    }
   ],
   "source": [
    "??is.numeric"
   ]
  },
  {
   "cell_type": "markdown",
   "metadata": {},
   "source": [
    "! pb connu avec python 3.6 et RStudio pour cette commande"
   ]
  },
  {
   "cell_type": "code",
   "execution_count": null,
   "metadata": {},
   "outputs": [],
   "source": [
    "help.search(\"is.numeric\")\n",
    "help.search(\"numeric\")"
   ]
  },
  {
   "cell_type": "markdown",
   "metadata": {},
   "source": [
    "#### I.C.3. Trouvez comment afficher le code d’une fonction R dans la console."
   ]
  },
  {
   "cell_type": "markdown",
   "metadata": {},
   "source": [
    "fct #sans les parenthèses"
   ]
  },
  {
   "cell_type": "code",
   "execution_count": 13,
   "metadata": {},
   "outputs": [
    {
     "data": {
      "text/html": [
       "<pre class=language-r><code>.Primitive(\"is.numeric\")</code></pre>"
      ],
      "text/latex": [
       "\\begin{minted}{r}\n",
       ".Primitive(\"is.numeric\")\n",
       "\\end{minted}"
      ],
      "text/markdown": [
       "```r\n",
       ".Primitive(\"is.numeric\")\n",
       "```"
      ],
      "text/plain": [
       "function (x)  .Primitive(\"is.numeric\")"
      ]
     },
     "metadata": {},
     "output_type": "display_data"
    }
   ],
   "source": [
    "is.numeric"
   ]
  },
  {
   "cell_type": "markdown",
   "metadata": {},
   "source": [
    "## II. Manipulations d’objets"
   ]
  },
  {
   "cell_type": "markdown",
   "metadata": {},
   "source": [
    "### II.A. Création de vecteurs"
   ]
  },
  {
   "cell_type": "markdown",
   "metadata": {},
   "source": [
    "#### II.A.1. Affichez la documentation de la fonction c(). \n",
    "Utilisez là pour créer un vecteur my_vec_num de 6 éléments numériques de votre choix."
   ]
  },
  {
   "cell_type": "code",
   "execution_count": 23,
   "metadata": {},
   "outputs": [],
   "source": [
    "?c()"
   ]
  },
  {
   "cell_type": "code",
   "execution_count": 14,
   "metadata": {},
   "outputs": [],
   "source": [
    "my_vec_num <- c(1, 2, 3, 4, 5, 6)"
   ]
  },
  {
   "cell_type": "code",
   "execution_count": 4,
   "metadata": {},
   "outputs": [
    {
     "data": {
      "text/html": [
       "<ol class=list-inline>\n",
       "\t<li>1</li>\n",
       "\t<li>2</li>\n",
       "\t<li>3</li>\n",
       "\t<li>4</li>\n",
       "\t<li>5</li>\n",
       "\t<li>6</li>\n",
       "</ol>\n"
      ],
      "text/latex": [
       "\\begin{enumerate*}\n",
       "\\item 1\n",
       "\\item 2\n",
       "\\item 3\n",
       "\\item 4\n",
       "\\item 5\n",
       "\\item 6\n",
       "\\end{enumerate*}\n"
      ],
      "text/markdown": [
       "1. 1\n",
       "2. 2\n",
       "3. 3\n",
       "4. 4\n",
       "5. 5\n",
       "6. 6\n",
       "\n",
       "\n"
      ],
      "text/plain": [
       "[1] 1 2 3 4 5 6"
      ]
     },
     "metadata": {},
     "output_type": "display_data"
    }
   ],
   "source": [
    "my_vec_num"
   ]
  },
  {
   "cell_type": "markdown",
   "metadata": {},
   "source": [
    "#### II.A.2. Trouvez une fonction permettant de vérifier que ce vecteur est bien numérique."
   ]
  },
  {
   "cell_type": "code",
   "execution_count": 5,
   "metadata": {},
   "outputs": [
    {
     "data": {
      "text/html": [
       "TRUE"
      ],
      "text/latex": [
       "TRUE"
      ],
      "text/markdown": [
       "TRUE"
      ],
      "text/plain": [
       "[1] TRUE"
      ]
     },
     "metadata": {},
     "output_type": "display_data"
    }
   ],
   "source": [
    "is.numeric(my_vec_num)"
   ]
  },
  {
   "cell_type": "markdown",
   "metadata": {},
   "source": [
    "#### II.A.3. Trouvez une manière d’afficher la longueur de ce vecteur."
   ]
  },
  {
   "cell_type": "code",
   "execution_count": 10,
   "metadata": {},
   "outputs": [
    {
     "ename": "ERROR",
     "evalue": "Error in lenght(my_vec_num): impossible de trouver la fonction \"lenght\"\n",
     "output_type": "error",
     "traceback": [
      "Error in lenght(my_vec_num): impossible de trouver la fonction \"lenght\"\nTraceback:\n"
     ]
    }
   ],
   "source": [
    "lenght(my_vec_num)"
   ]
  },
  {
   "cell_type": "code",
   "execution_count": null,
   "metadata": {},
   "outputs": [],
   "source": [
    "length()"
   ]
  },
  {
   "cell_type": "markdown",
   "metadata": {},
   "source": [
    "#### II.A.4. Faites tourner str(my_vec). Qu’obtient-on?"
   ]
  },
  {
   "cell_type": "code",
   "execution_count": 11,
   "metadata": {},
   "outputs": [
    {
     "ename": "ERROR",
     "evalue": "Error in str(my_vec): objet 'my_vec' introuvable\n",
     "output_type": "error",
     "traceback": [
      "Error in str(my_vec): objet 'my_vec' introuvable\nTraceback:\n",
      "1. str(my_vec)"
     ]
    }
   ],
   "source": [
    "str(my_vec)"
   ]
  },
  {
   "cell_type": "markdown",
   "metadata": {},
   "source": [
    "#### II.A.5. Ajoutez deux valeurs numériques à votre vecteur sans le créer de nouveau."
   ]
  },
  {
   "cell_type": "code",
   "execution_count": 12,
   "metadata": {},
   "outputs": [],
   "source": [
    "my_vec_num <- c(7, 8)"
   ]
  },
  {
   "cell_type": "code",
   "execution_count": 15,
   "metadata": {},
   "outputs": [
    {
     "data": {
      "text/html": [
       "<ol class=list-inline>\n",
       "\t<li>1</li>\n",
       "\t<li>2</li>\n",
       "\t<li>3</li>\n",
       "\t<li>4</li>\n",
       "\t<li>5</li>\n",
       "\t<li>6</li>\n",
       "</ol>\n"
      ],
      "text/latex": [
       "\\begin{enumerate*}\n",
       "\\item 1\n",
       "\\item 2\n",
       "\\item 3\n",
       "\\item 4\n",
       "\\item 5\n",
       "\\item 6\n",
       "\\end{enumerate*}\n"
      ],
      "text/markdown": [
       "1. 1\n",
       "2. 2\n",
       "3. 3\n",
       "4. 4\n",
       "5. 5\n",
       "6. 6\n",
       "\n",
       "\n"
      ],
      "text/plain": [
       "[1] 1 2 3 4 5 6"
      ]
     },
     "metadata": {},
     "output_type": "display_data"
    }
   ],
   "source": [
    "my_vec_num"
   ]
  },
  {
   "cell_type": "markdown",
   "metadata": {},
   "source": [
    "#### II.A.6. Refaire les étapes ci-dessus avec cette fois my_vec_logi composé d’éléments logiques et my_vec_charac composé d’éléments caractères."
   ]
  },
  {
   "cell_type": "code",
   "execution_count": 20,
   "metadata": {},
   "outputs": [],
   "source": [
    "my_vec_logi <- c(l1 = TRUE, l2 = FALSE)\n",
    "my_vec_charac <- c(\"un\", \"deux\", \"trois\")"
   ]
  },
  {
   "cell_type": "markdown",
   "metadata": {},
   "source": [
    "#### II.A.7. Concaténez my_vec_num, my_vec_logi et my_vec_charac. Quel type de vecteur obtient-on?"
   ]
  },
  {
   "cell_type": "code",
   "execution_count": 21,
   "metadata": {},
   "outputs": [
    {
     "data": {
      "text/html": [
       "<dl class=dl-horizontal>\n",
       "\t<dt>1</dt>\n",
       "\t\t<dd>'1'</dd>\n",
       "\t<dt>2</dt>\n",
       "\t\t<dd>'2'</dd>\n",
       "\t<dt>3</dt>\n",
       "\t\t<dd>'3'</dd>\n",
       "\t<dt>4</dt>\n",
       "\t\t<dd>'4'</dd>\n",
       "\t<dt>5</dt>\n",
       "\t\t<dd>'5'</dd>\n",
       "\t<dt>6</dt>\n",
       "\t\t<dd>'6'</dd>\n",
       "\t<dt>l1</dt>\n",
       "\t\t<dd>'TRUE'</dd>\n",
       "\t<dt>l2</dt>\n",
       "\t\t<dd>'FALSE'</dd>\n",
       "\t<dt>9</dt>\n",
       "\t\t<dd>'un'</dd>\n",
       "\t<dt>10</dt>\n",
       "\t\t<dd>'deux'</dd>\n",
       "\t<dt>11</dt>\n",
       "\t\t<dd>'trois'</dd>\n",
       "</dl>\n"
      ],
      "text/latex": [
       "\\begin{description*}\n",
       "\\item[1] '1'\n",
       "\\item[2] '2'\n",
       "\\item[3] '3'\n",
       "\\item[4] '4'\n",
       "\\item[5] '5'\n",
       "\\item[6] '6'\n",
       "\\item[l1] 'TRUE'\n",
       "\\item[l2] 'FALSE'\n",
       "\\item[9] 'un'\n",
       "\\item[10] 'deux'\n",
       "\\item[11] 'trois'\n",
       "\\end{description*}\n"
      ],
      "text/markdown": [
       "1\n",
       ":   '1'2\n",
       ":   '2'3\n",
       ":   '3'4\n",
       ":   '4'5\n",
       ":   '5'6\n",
       ":   '6'l1\n",
       ":   'TRUE'l2\n",
       ":   'FALSE'9\n",
       ":   'un'10\n",
       ":   'deux'11\n",
       ":   'trois'\n",
       "\n"
      ],
      "text/plain": [
       "                                                     l1      l2                 \n",
       "    \"1\"     \"2\"     \"3\"     \"4\"     \"5\"     \"6\"  \"TRUE\" \"FALSE\"    \"un\"  \"deux\" \n",
       "        \n",
       "\"trois\" "
      ]
     },
     "metadata": {},
     "output_type": "display_data"
    }
   ],
   "source": [
    "c(my_vec_num, my_vec_logi, my_vec_charac)"
   ]
  },
  {
   "cell_type": "markdown",
   "metadata": {},
   "source": [
    "### II.B. Opérations de base sur les vecteurs"
   ]
  },
  {
   "cell_type": "markdown",
   "metadata": {},
   "source": [
    "#### II.B.1. Trouvez une manière de créer un vecteur répliquant le même élément n fois."
   ]
  },
  {
   "cell_type": "code",
   "execution_count": 17,
   "metadata": {},
   "outputs": [
    {
     "data": {
      "text/html": [
       "<ol class=list-inline>\n",
       "\t<li>4</li>\n",
       "\t<li>4</li>\n",
       "\t<li>4</li>\n",
       "\t<li>4</li>\n",
       "</ol>\n"
      ],
      "text/latex": [
       "\\begin{enumerate*}\n",
       "\\item 4\n",
       "\\item 4\n",
       "\\item 4\n",
       "\\item 4\n",
       "\\end{enumerate*}\n"
      ],
      "text/markdown": [
       "1. 4\n",
       "2. 4\n",
       "3. 4\n",
       "4. 4\n",
       "\n",
       "\n"
      ],
      "text/plain": [
       "[1] 4 4 4 4"
      ]
     },
     "metadata": {},
     "output_type": "display_data"
    }
   ],
   "source": [
    "rep(c(4),4)"
   ]
  },
  {
   "cell_type": "markdown",
   "metadata": {},
   "source": [
    "#### II.B.2. Créez un vecteur c1 contenant les chiffres allant de 8 à 30 en utilisant deux méthodes différentes."
   ]
  },
  {
   "cell_type": "code",
   "execution_count": 18,
   "metadata": {},
   "outputs": [],
   "source": [
    "c1 <- 8 : 30"
   ]
  },
  {
   "cell_type": "code",
   "execution_count": 19,
   "metadata": {},
   "outputs": [
    {
     "data": {
      "text/html": [
       "<ol class=list-inline>\n",
       "\t<li>8</li>\n",
       "\t<li>9</li>\n",
       "\t<li>10</li>\n",
       "\t<li>11</li>\n",
       "\t<li>12</li>\n",
       "\t<li>13</li>\n",
       "\t<li>14</li>\n",
       "\t<li>15</li>\n",
       "\t<li>16</li>\n",
       "\t<li>17</li>\n",
       "\t<li>18</li>\n",
       "\t<li>19</li>\n",
       "\t<li>20</li>\n",
       "\t<li>21</li>\n",
       "\t<li>22</li>\n",
       "\t<li>23</li>\n",
       "\t<li>24</li>\n",
       "\t<li>25</li>\n",
       "\t<li>26</li>\n",
       "\t<li>27</li>\n",
       "\t<li>28</li>\n",
       "\t<li>29</li>\n",
       "\t<li>30</li>\n",
       "</ol>\n"
      ],
      "text/latex": [
       "\\begin{enumerate*}\n",
       "\\item 8\n",
       "\\item 9\n",
       "\\item 10\n",
       "\\item 11\n",
       "\\item 12\n",
       "\\item 13\n",
       "\\item 14\n",
       "\\item 15\n",
       "\\item 16\n",
       "\\item 17\n",
       "\\item 18\n",
       "\\item 19\n",
       "\\item 20\n",
       "\\item 21\n",
       "\\item 22\n",
       "\\item 23\n",
       "\\item 24\n",
       "\\item 25\n",
       "\\item 26\n",
       "\\item 27\n",
       "\\item 28\n",
       "\\item 29\n",
       "\\item 30\n",
       "\\end{enumerate*}\n"
      ],
      "text/markdown": [
       "1. 8\n",
       "2. 9\n",
       "3. 10\n",
       "4. 11\n",
       "5. 12\n",
       "6. 13\n",
       "7. 14\n",
       "8. 15\n",
       "9. 16\n",
       "10. 17\n",
       "11. 18\n",
       "12. 19\n",
       "13. 20\n",
       "14. 21\n",
       "15. 22\n",
       "16. 23\n",
       "17. 24\n",
       "18. 25\n",
       "19. 26\n",
       "20. 27\n",
       "21. 28\n",
       "22. 29\n",
       "23. 30\n",
       "\n",
       "\n"
      ],
      "text/plain": [
       " [1]  8  9 10 11 12 13 14 15 16 17 18 19 20 21 22 23 24 25 26 27 28 29 30"
      ]
     },
     "metadata": {},
     "output_type": "display_data"
    }
   ],
   "source": [
    "c1"
   ]
  },
  {
   "cell_type": "code",
   "execution_count": 20,
   "metadata": {},
   "outputs": [
    {
     "data": {
      "text/html": [
       "<ol class=list-inline>\n",
       "\t<li>8</li>\n",
       "\t<li>9</li>\n",
       "\t<li>10</li>\n",
       "\t<li>11</li>\n",
       "\t<li>12</li>\n",
       "\t<li>13</li>\n",
       "\t<li>14</li>\n",
       "\t<li>15</li>\n",
       "\t<li>16</li>\n",
       "\t<li>17</li>\n",
       "\t<li>18</li>\n",
       "\t<li>19</li>\n",
       "\t<li>20</li>\n",
       "\t<li>21</li>\n",
       "\t<li>22</li>\n",
       "\t<li>23</li>\n",
       "\t<li>24</li>\n",
       "\t<li>25</li>\n",
       "\t<li>26</li>\n",
       "\t<li>27</li>\n",
       "\t<li>28</li>\n",
       "\t<li>29</li>\n",
       "\t<li>30</li>\n",
       "</ol>\n"
      ],
      "text/latex": [
       "\\begin{enumerate*}\n",
       "\\item 8\n",
       "\\item 9\n",
       "\\item 10\n",
       "\\item 11\n",
       "\\item 12\n",
       "\\item 13\n",
       "\\item 14\n",
       "\\item 15\n",
       "\\item 16\n",
       "\\item 17\n",
       "\\item 18\n",
       "\\item 19\n",
       "\\item 20\n",
       "\\item 21\n",
       "\\item 22\n",
       "\\item 23\n",
       "\\item 24\n",
       "\\item 25\n",
       "\\item 26\n",
       "\\item 27\n",
       "\\item 28\n",
       "\\item 29\n",
       "\\item 30\n",
       "\\end{enumerate*}\n"
      ],
      "text/markdown": [
       "1. 8\n",
       "2. 9\n",
       "3. 10\n",
       "4. 11\n",
       "5. 12\n",
       "6. 13\n",
       "7. 14\n",
       "8. 15\n",
       "9. 16\n",
       "10. 17\n",
       "11. 18\n",
       "12. 19\n",
       "13. 20\n",
       "14. 21\n",
       "15. 22\n",
       "16. 23\n",
       "17. 24\n",
       "18. 25\n",
       "19. 26\n",
       "20. 27\n",
       "21. 28\n",
       "22. 29\n",
       "23. 30\n",
       "\n",
       "\n"
      ],
      "text/plain": [
       " [1]  8  9 10 11 12 13 14 15 16 17 18 19 20 21 22 23 24 25 26 27 28 29 30"
      ]
     },
     "metadata": {},
     "output_type": "display_data"
    }
   ],
   "source": [
    "seq.int(8, 30)"
   ]
  },
  {
   "cell_type": "code",
   "execution_count": 21,
   "metadata": {},
   "outputs": [
    {
     "data": {
      "text/html": [
       "<ol class=list-inline>\n",
       "\t<li>8</li>\n",
       "\t<li>10</li>\n",
       "\t<li>12</li>\n",
       "\t<li>14</li>\n",
       "\t<li>16</li>\n",
       "\t<li>18</li>\n",
       "\t<li>20</li>\n",
       "\t<li>22</li>\n",
       "\t<li>24</li>\n",
       "\t<li>26</li>\n",
       "\t<li>28</li>\n",
       "\t<li>30</li>\n",
       "</ol>\n"
      ],
      "text/latex": [
       "\\begin{enumerate*}\n",
       "\\item 8\n",
       "\\item 10\n",
       "\\item 12\n",
       "\\item 14\n",
       "\\item 16\n",
       "\\item 18\n",
       "\\item 20\n",
       "\\item 22\n",
       "\\item 24\n",
       "\\item 26\n",
       "\\item 28\n",
       "\\item 30\n",
       "\\end{enumerate*}\n"
      ],
      "text/markdown": [
       "1. 8\n",
       "2. 10\n",
       "3. 12\n",
       "4. 14\n",
       "5. 16\n",
       "6. 18\n",
       "7. 20\n",
       "8. 22\n",
       "9. 24\n",
       "10. 26\n",
       "11. 28\n",
       "12. 30\n",
       "\n",
       "\n"
      ],
      "text/plain": [
       " [1]  8 10 12 14 16 18 20 22 24 26 28 30"
      ]
     },
     "metadata": {},
     "output_type": "display_data"
    }
   ],
   "source": [
    "seq(from=8, to=30, by=2)"
   ]
  },
  {
   "cell_type": "code",
   "execution_count": 22,
   "metadata": {},
   "outputs": [
    {
     "data": {
      "text/html": [
       "<ol class=list-inline>\n",
       "\t<li>8</li>\n",
       "\t<li>10</li>\n",
       "\t<li>12</li>\n",
       "\t<li>14</li>\n",
       "\t<li>16</li>\n",
       "\t<li>18</li>\n",
       "\t<li>20</li>\n",
       "\t<li>22</li>\n",
       "\t<li>24</li>\n",
       "\t<li>26</li>\n",
       "\t<li>28</li>\n",
       "\t<li>30</li>\n",
       "</ol>\n"
      ],
      "text/latex": [
       "\\begin{enumerate*}\n",
       "\\item 8\n",
       "\\item 10\n",
       "\\item 12\n",
       "\\item 14\n",
       "\\item 16\n",
       "\\item 18\n",
       "\\item 20\n",
       "\\item 22\n",
       "\\item 24\n",
       "\\item 26\n",
       "\\item 28\n",
       "\\item 30\n",
       "\\end{enumerate*}\n"
      ],
      "text/markdown": [
       "1. 8\n",
       "2. 10\n",
       "3. 12\n",
       "4. 14\n",
       "5. 16\n",
       "6. 18\n",
       "7. 20\n",
       "8. 22\n",
       "9. 24\n",
       "10. 26\n",
       "11. 28\n",
       "12. 30\n",
       "\n",
       "\n"
      ],
      "text/plain": [
       " [1]  8 10 12 14 16 18 20 22 24 26 28 30"
      ]
     },
     "metadata": {},
     "output_type": "display_data"
    }
   ],
   "source": [
    "seq(8, 30, 2)"
   ]
  },
  {
   "cell_type": "markdown",
   "metadata": {},
   "source": [
    "#### II.B.3. Trouvez une manière d’afficher le 1er élément de c1, puis le 15e. Vous notez une différence avec Python?"
   ]
  },
  {
   "cell_type": "code",
   "execution_count": 23,
   "metadata": {},
   "outputs": [
    {
     "data": {
      "text/html": [
       "8"
      ],
      "text/latex": [
       "8"
      ],
      "text/markdown": [
       "8"
      ],
      "text/plain": [
       "[1] 8"
      ]
     },
     "metadata": {},
     "output_type": "display_data"
    }
   ],
   "source": [
    "c1[1]"
   ]
  },
  {
   "cell_type": "code",
   "execution_count": 24,
   "metadata": {},
   "outputs": [
    {
     "data": {
      "text/html": [
       "22"
      ],
      "text/latex": [
       "22"
      ],
      "text/markdown": [
       "22"
      ],
      "text/plain": [
       "[1] 22"
      ]
     },
     "metadata": {},
     "output_type": "display_data"
    }
   ],
   "source": [
    "c1[15]"
   ]
  },
  {
   "cell_type": "markdown",
   "metadata": {},
   "source": [
    "#### II.B.4. Créez un vecteur c2 contenant le 2nd, le 5e et le 8e élément de c1."
   ]
  },
  {
   "cell_type": "code",
   "execution_count": 25,
   "metadata": {},
   "outputs": [],
   "source": [
    "c2 <- c(c1[2], c1[5], c1[8])"
   ]
  },
  {
   "cell_type": "code",
   "execution_count": 26,
   "metadata": {},
   "outputs": [
    {
     "data": {
      "text/html": [
       "<ol class=list-inline>\n",
       "\t<li>9</li>\n",
       "\t<li>12</li>\n",
       "\t<li>15</li>\n",
       "</ol>\n"
      ],
      "text/latex": [
       "\\begin{enumerate*}\n",
       "\\item 9\n",
       "\\item 12\n",
       "\\item 15\n",
       "\\end{enumerate*}\n"
      ],
      "text/markdown": [
       "1. 9\n",
       "2. 12\n",
       "3. 15\n",
       "\n",
       "\n"
      ],
      "text/plain": [
       "[1]  9 12 15"
      ]
     },
     "metadata": {},
     "output_type": "display_data"
    }
   ],
   "source": [
    "c2"
   ]
  },
  {
   "cell_type": "code",
   "execution_count": 27,
   "metadata": {},
   "outputs": [],
   "source": [
    "c2 <- c1[c(2,5,8)]"
   ]
  },
  {
   "cell_type": "code",
   "execution_count": 28,
   "metadata": {},
   "outputs": [
    {
     "data": {
      "text/html": [
       "<ol class=list-inline>\n",
       "\t<li>9</li>\n",
       "\t<li>12</li>\n",
       "\t<li>15</li>\n",
       "</ol>\n"
      ],
      "text/latex": [
       "\\begin{enumerate*}\n",
       "\\item 9\n",
       "\\item 12\n",
       "\\item 15\n",
       "\\end{enumerate*}\n"
      ],
      "text/markdown": [
       "1. 9\n",
       "2. 12\n",
       "3. 15\n",
       "\n",
       "\n"
      ],
      "text/plain": [
       "[1]  9 12 15"
      ]
     },
     "metadata": {},
     "output_type": "display_data"
    }
   ],
   "source": [
    "c2"
   ]
  },
  {
   "cell_type": "markdown",
   "metadata": {},
   "source": [
    "#### II.B.5. Créez un vecteur c3 contenant tous les éléments de c2 sauf le 2e."
   ]
  },
  {
   "cell_type": "code",
   "execution_count": 29,
   "metadata": {},
   "outputs": [],
   "source": [
    "c3 <- c2[-2]"
   ]
  },
  {
   "cell_type": "code",
   "execution_count": 30,
   "metadata": {},
   "outputs": [
    {
     "data": {
      "text/html": [
       "<ol class=list-inline>\n",
       "\t<li>9</li>\n",
       "\t<li>15</li>\n",
       "</ol>\n"
      ],
      "text/latex": [
       "\\begin{enumerate*}\n",
       "\\item 9\n",
       "\\item 15\n",
       "\\end{enumerate*}\n"
      ],
      "text/markdown": [
       "1. 9\n",
       "2. 15\n",
       "\n",
       "\n"
      ],
      "text/plain": [
       "[1]  9 15"
      ]
     },
     "metadata": {},
     "output_type": "display_data"
    }
   ],
   "source": [
    "c3"
   ]
  },
  {
   "cell_type": "markdown",
   "metadata": {},
   "source": [
    "#### II.B.6. Faites tourner names(c2) <- c(\"pommes\",\"poires\", \"prunes\") puis affichez c2 et str(c2). Que s’est-il passé? "
   ]
  },
  {
   "cell_type": "code",
   "execution_count": 31,
   "metadata": {},
   "outputs": [],
   "source": [
    "names(c2) <- c(\"pommes\",\"poires\", \"prunes\")"
   ]
  },
  {
   "cell_type": "code",
   "execution_count": 32,
   "metadata": {},
   "outputs": [
    {
     "data": {
      "text/html": [
       "<dl class=dl-horizontal>\n",
       "\t<dt>pommes</dt>\n",
       "\t\t<dd>9</dd>\n",
       "\t<dt>poires</dt>\n",
       "\t\t<dd>12</dd>\n",
       "\t<dt>prunes</dt>\n",
       "\t\t<dd>15</dd>\n",
       "</dl>\n"
      ],
      "text/latex": [
       "\\begin{description*}\n",
       "\\item[pommes] 9\n",
       "\\item[poires] 12\n",
       "\\item[prunes] 15\n",
       "\\end{description*}\n"
      ],
      "text/markdown": [
       "pommes\n",
       ":   9poires\n",
       ":   12prunes\n",
       ":   15\n",
       "\n"
      ],
      "text/plain": [
       "pommes poires prunes \n",
       "     9     12     15 "
      ]
     },
     "metadata": {},
     "output_type": "display_data"
    }
   ],
   "source": [
    "c2"
   ]
  },
  {
   "cell_type": "code",
   "execution_count": 33,
   "metadata": {},
   "outputs": [
    {
     "name": "stdout",
     "output_type": "stream",
     "text": [
      " Named int [1:3] 9 12 15\n",
      " - attr(*, \"names\")= chr [1:3] \"pommes\" \"poires\" \"prunes\"\n"
     ]
    }
   ],
   "source": [
    "str(c2)"
   ]
  },
  {
   "cell_type": "markdown",
   "metadata": {},
   "source": [
    "Quelle autre possibilité s’offre à moi pour sélectionner des éléments de c2 dorénavant?"
   ]
  },
  {
   "cell_type": "code",
   "execution_count": 34,
   "metadata": {},
   "outputs": [
    {
     "data": {
      "text/html": [
       "<strong>poires:</strong> 12"
      ],
      "text/latex": [
       "\\textbf{poires:} 12"
      ],
      "text/markdown": [
       "**poires:** 12"
      ],
      "text/plain": [
       "poires \n",
       "    12 "
      ]
     },
     "metadata": {},
     "output_type": "display_data"
    }
   ],
   "source": [
    "c2[\"poires\"]"
   ]
  },
  {
   "cell_type": "code",
   "execution_count": null,
   "metadata": {},
   "outputs": [],
   "source": []
  },
  {
   "cell_type": "markdown",
   "metadata": {},
   "source": [
    "#### II.B.7. Essayez d’utiliser des fonctions de statistiques de base directement sur des vecteurs (somme, moyenne, min, max). Comment s’appliquent-elles?"
   ]
  },
  {
   "cell_type": "code",
   "execution_count": 36,
   "metadata": {},
   "outputs": [
    {
     "data": {
      "text/html": [
       "15"
      ],
      "text/latex": [
       "15"
      ],
      "text/markdown": [
       "15"
      ],
      "text/plain": [
       "[1] 15"
      ]
     },
     "metadata": {},
     "output_type": "display_data"
    }
   ],
   "source": [
    "sum(1, 2, 3, 4, 5)"
   ]
  },
  {
   "cell_type": "code",
   "execution_count": 37,
   "metadata": {},
   "outputs": [
    {
     "data": {
      "text/html": [
       "3"
      ],
      "text/latex": [
       "3"
      ],
      "text/markdown": [
       "3"
      ],
      "text/plain": [
       "[1] 3"
      ]
     },
     "metadata": {},
     "output_type": "display_data"
    }
   ],
   "source": [
    "cx <- c(1, 2, 3, 4, 5)\n",
    "mean(cx)"
   ]
  },
  {
   "cell_type": "code",
   "execution_count": 38,
   "metadata": {},
   "outputs": [
    {
     "data": {
      "text/html": [
       "1"
      ],
      "text/latex": [
       "1"
      ],
      "text/markdown": [
       "1"
      ],
      "text/plain": [
       "[1] 1"
      ]
     },
     "metadata": {},
     "output_type": "display_data"
    }
   ],
   "source": [
    "min(cx)"
   ]
  },
  {
   "cell_type": "code",
   "execution_count": 39,
   "metadata": {},
   "outputs": [
    {
     "data": {
      "text/html": [
       "5"
      ],
      "text/latex": [
       "5"
      ],
      "text/markdown": [
       "5"
      ],
      "text/plain": [
       "[1] 5"
      ]
     },
     "metadata": {},
     "output_type": "display_data"
    }
   ],
   "source": [
    "max(cx)"
   ]
  },
  {
   "cell_type": "markdown",
   "metadata": {},
   "source": [
    "### II.C. Expressions logiques et conditions"
   ]
  },
  {
   "cell_type": "markdown",
   "metadata": {},
   "source": [
    "#### II.C.1. Faites tourner c1 < 16. \n",
    "Expliquez la sortie obtenue. Utilisez la même logique pour sortir les vecteurs des conditions “c1 égal à 14” et “c1 différent de 9”."
   ]
  },
  {
   "cell_type": "code",
   "execution_count": 40,
   "metadata": {},
   "outputs": [
    {
     "data": {
      "text/html": [
       "<ol class=list-inline>\n",
       "\t<li>TRUE</li>\n",
       "\t<li>TRUE</li>\n",
       "\t<li>TRUE</li>\n",
       "\t<li>TRUE</li>\n",
       "\t<li>TRUE</li>\n",
       "\t<li>TRUE</li>\n",
       "\t<li>TRUE</li>\n",
       "\t<li>TRUE</li>\n",
       "\t<li>FALSE</li>\n",
       "\t<li>FALSE</li>\n",
       "\t<li>FALSE</li>\n",
       "\t<li>FALSE</li>\n",
       "\t<li>FALSE</li>\n",
       "\t<li>FALSE</li>\n",
       "\t<li>FALSE</li>\n",
       "\t<li>FALSE</li>\n",
       "\t<li>FALSE</li>\n",
       "\t<li>FALSE</li>\n",
       "\t<li>FALSE</li>\n",
       "\t<li>FALSE</li>\n",
       "\t<li>FALSE</li>\n",
       "\t<li>FALSE</li>\n",
       "\t<li>FALSE</li>\n",
       "</ol>\n"
      ],
      "text/latex": [
       "\\begin{enumerate*}\n",
       "\\item TRUE\n",
       "\\item TRUE\n",
       "\\item TRUE\n",
       "\\item TRUE\n",
       "\\item TRUE\n",
       "\\item TRUE\n",
       "\\item TRUE\n",
       "\\item TRUE\n",
       "\\item FALSE\n",
       "\\item FALSE\n",
       "\\item FALSE\n",
       "\\item FALSE\n",
       "\\item FALSE\n",
       "\\item FALSE\n",
       "\\item FALSE\n",
       "\\item FALSE\n",
       "\\item FALSE\n",
       "\\item FALSE\n",
       "\\item FALSE\n",
       "\\item FALSE\n",
       "\\item FALSE\n",
       "\\item FALSE\n",
       "\\item FALSE\n",
       "\\end{enumerate*}\n"
      ],
      "text/markdown": [
       "1. TRUE\n",
       "2. TRUE\n",
       "3. TRUE\n",
       "4. TRUE\n",
       "5. TRUE\n",
       "6. TRUE\n",
       "7. TRUE\n",
       "8. TRUE\n",
       "9. FALSE\n",
       "10. FALSE\n",
       "11. FALSE\n",
       "12. FALSE\n",
       "13. FALSE\n",
       "14. FALSE\n",
       "15. FALSE\n",
       "16. FALSE\n",
       "17. FALSE\n",
       "18. FALSE\n",
       "19. FALSE\n",
       "20. FALSE\n",
       "21. FALSE\n",
       "22. FALSE\n",
       "23. FALSE\n",
       "\n",
       "\n"
      ],
      "text/plain": [
       " [1]  TRUE  TRUE  TRUE  TRUE  TRUE  TRUE  TRUE  TRUE FALSE FALSE FALSE FALSE\n",
       "[13] FALSE FALSE FALSE FALSE FALSE FALSE FALSE FALSE FALSE FALSE FALSE"
      ]
     },
     "metadata": {},
     "output_type": "display_data"
    }
   ],
   "source": [
    "c1 < 16"
   ]
  },
  {
   "cell_type": "code",
   "execution_count": 41,
   "metadata": {},
   "outputs": [
    {
     "data": {
      "text/html": [
       "<ol class=list-inline>\n",
       "\t<li>FALSE</li>\n",
       "\t<li>FALSE</li>\n",
       "\t<li>FALSE</li>\n",
       "\t<li>FALSE</li>\n",
       "\t<li>FALSE</li>\n",
       "\t<li>FALSE</li>\n",
       "\t<li>TRUE</li>\n",
       "\t<li>FALSE</li>\n",
       "\t<li>FALSE</li>\n",
       "\t<li>FALSE</li>\n",
       "\t<li>FALSE</li>\n",
       "\t<li>FALSE</li>\n",
       "\t<li>FALSE</li>\n",
       "\t<li>FALSE</li>\n",
       "\t<li>FALSE</li>\n",
       "\t<li>FALSE</li>\n",
       "\t<li>FALSE</li>\n",
       "\t<li>FALSE</li>\n",
       "\t<li>FALSE</li>\n",
       "\t<li>FALSE</li>\n",
       "\t<li>FALSE</li>\n",
       "\t<li>FALSE</li>\n",
       "\t<li>FALSE</li>\n",
       "</ol>\n"
      ],
      "text/latex": [
       "\\begin{enumerate*}\n",
       "\\item FALSE\n",
       "\\item FALSE\n",
       "\\item FALSE\n",
       "\\item FALSE\n",
       "\\item FALSE\n",
       "\\item FALSE\n",
       "\\item TRUE\n",
       "\\item FALSE\n",
       "\\item FALSE\n",
       "\\item FALSE\n",
       "\\item FALSE\n",
       "\\item FALSE\n",
       "\\item FALSE\n",
       "\\item FALSE\n",
       "\\item FALSE\n",
       "\\item FALSE\n",
       "\\item FALSE\n",
       "\\item FALSE\n",
       "\\item FALSE\n",
       "\\item FALSE\n",
       "\\item FALSE\n",
       "\\item FALSE\n",
       "\\item FALSE\n",
       "\\end{enumerate*}\n"
      ],
      "text/markdown": [
       "1. FALSE\n",
       "2. FALSE\n",
       "3. FALSE\n",
       "4. FALSE\n",
       "5. FALSE\n",
       "6. FALSE\n",
       "7. TRUE\n",
       "8. FALSE\n",
       "9. FALSE\n",
       "10. FALSE\n",
       "11. FALSE\n",
       "12. FALSE\n",
       "13. FALSE\n",
       "14. FALSE\n",
       "15. FALSE\n",
       "16. FALSE\n",
       "17. FALSE\n",
       "18. FALSE\n",
       "19. FALSE\n",
       "20. FALSE\n",
       "21. FALSE\n",
       "22. FALSE\n",
       "23. FALSE\n",
       "\n",
       "\n"
      ],
      "text/plain": [
       " [1] FALSE FALSE FALSE FALSE FALSE FALSE  TRUE FALSE FALSE FALSE FALSE FALSE\n",
       "[13] FALSE FALSE FALSE FALSE FALSE FALSE FALSE FALSE FALSE FALSE FALSE"
      ]
     },
     "metadata": {},
     "output_type": "display_data"
    }
   ],
   "source": [
    "c1 == 14"
   ]
  },
  {
   "cell_type": "code",
   "execution_count": 42,
   "metadata": {},
   "outputs": [
    {
     "data": {
      "text/html": [
       "<ol class=list-inline>\n",
       "\t<li>TRUE</li>\n",
       "\t<li>FALSE</li>\n",
       "\t<li>TRUE</li>\n",
       "\t<li>TRUE</li>\n",
       "\t<li>TRUE</li>\n",
       "\t<li>TRUE</li>\n",
       "\t<li>TRUE</li>\n",
       "\t<li>TRUE</li>\n",
       "\t<li>TRUE</li>\n",
       "\t<li>TRUE</li>\n",
       "\t<li>TRUE</li>\n",
       "\t<li>TRUE</li>\n",
       "\t<li>TRUE</li>\n",
       "\t<li>TRUE</li>\n",
       "\t<li>TRUE</li>\n",
       "\t<li>TRUE</li>\n",
       "\t<li>TRUE</li>\n",
       "\t<li>TRUE</li>\n",
       "\t<li>TRUE</li>\n",
       "\t<li>TRUE</li>\n",
       "\t<li>TRUE</li>\n",
       "\t<li>TRUE</li>\n",
       "\t<li>TRUE</li>\n",
       "</ol>\n"
      ],
      "text/latex": [
       "\\begin{enumerate*}\n",
       "\\item TRUE\n",
       "\\item FALSE\n",
       "\\item TRUE\n",
       "\\item TRUE\n",
       "\\item TRUE\n",
       "\\item TRUE\n",
       "\\item TRUE\n",
       "\\item TRUE\n",
       "\\item TRUE\n",
       "\\item TRUE\n",
       "\\item TRUE\n",
       "\\item TRUE\n",
       "\\item TRUE\n",
       "\\item TRUE\n",
       "\\item TRUE\n",
       "\\item TRUE\n",
       "\\item TRUE\n",
       "\\item TRUE\n",
       "\\item TRUE\n",
       "\\item TRUE\n",
       "\\item TRUE\n",
       "\\item TRUE\n",
       "\\item TRUE\n",
       "\\end{enumerate*}\n"
      ],
      "text/markdown": [
       "1. TRUE\n",
       "2. FALSE\n",
       "3. TRUE\n",
       "4. TRUE\n",
       "5. TRUE\n",
       "6. TRUE\n",
       "7. TRUE\n",
       "8. TRUE\n",
       "9. TRUE\n",
       "10. TRUE\n",
       "11. TRUE\n",
       "12. TRUE\n",
       "13. TRUE\n",
       "14. TRUE\n",
       "15. TRUE\n",
       "16. TRUE\n",
       "17. TRUE\n",
       "18. TRUE\n",
       "19. TRUE\n",
       "20. TRUE\n",
       "21. TRUE\n",
       "22. TRUE\n",
       "23. TRUE\n",
       "\n",
       "\n"
      ],
      "text/plain": [
       " [1]  TRUE FALSE  TRUE  TRUE  TRUE  TRUE  TRUE  TRUE  TRUE  TRUE  TRUE  TRUE\n",
       "[13]  TRUE  TRUE  TRUE  TRUE  TRUE  TRUE  TRUE  TRUE  TRUE  TRUE  TRUE"
      ]
     },
     "metadata": {},
     "output_type": "display_data"
    }
   ],
   "source": [
    "c1 != 9"
   ]
  },
  {
   "cell_type": "markdown",
   "metadata": {},
   "source": [
    "#### II.C.2. Sortez le vecteur de condition “c1 est égal à 12 ou à 28”."
   ]
  },
  {
   "cell_type": "code",
   "execution_count": 43,
   "metadata": {},
   "outputs": [
    {
     "data": {
      "text/html": [
       "<ol class=list-inline>\n",
       "\t<li>FALSE</li>\n",
       "\t<li>FALSE</li>\n",
       "\t<li>FALSE</li>\n",
       "\t<li>FALSE</li>\n",
       "\t<li>TRUE</li>\n",
       "\t<li>FALSE</li>\n",
       "\t<li>FALSE</li>\n",
       "\t<li>FALSE</li>\n",
       "\t<li>FALSE</li>\n",
       "\t<li>FALSE</li>\n",
       "\t<li>FALSE</li>\n",
       "\t<li>FALSE</li>\n",
       "\t<li>FALSE</li>\n",
       "\t<li>FALSE</li>\n",
       "\t<li>FALSE</li>\n",
       "\t<li>FALSE</li>\n",
       "\t<li>FALSE</li>\n",
       "\t<li>FALSE</li>\n",
       "\t<li>FALSE</li>\n",
       "\t<li>FALSE</li>\n",
       "\t<li>TRUE</li>\n",
       "\t<li>FALSE</li>\n",
       "\t<li>FALSE</li>\n",
       "</ol>\n"
      ],
      "text/latex": [
       "\\begin{enumerate*}\n",
       "\\item FALSE\n",
       "\\item FALSE\n",
       "\\item FALSE\n",
       "\\item FALSE\n",
       "\\item TRUE\n",
       "\\item FALSE\n",
       "\\item FALSE\n",
       "\\item FALSE\n",
       "\\item FALSE\n",
       "\\item FALSE\n",
       "\\item FALSE\n",
       "\\item FALSE\n",
       "\\item FALSE\n",
       "\\item FALSE\n",
       "\\item FALSE\n",
       "\\item FALSE\n",
       "\\item FALSE\n",
       "\\item FALSE\n",
       "\\item FALSE\n",
       "\\item FALSE\n",
       "\\item TRUE\n",
       "\\item FALSE\n",
       "\\item FALSE\n",
       "\\end{enumerate*}\n"
      ],
      "text/markdown": [
       "1. FALSE\n",
       "2. FALSE\n",
       "3. FALSE\n",
       "4. FALSE\n",
       "5. TRUE\n",
       "6. FALSE\n",
       "7. FALSE\n",
       "8. FALSE\n",
       "9. FALSE\n",
       "10. FALSE\n",
       "11. FALSE\n",
       "12. FALSE\n",
       "13. FALSE\n",
       "14. FALSE\n",
       "15. FALSE\n",
       "16. FALSE\n",
       "17. FALSE\n",
       "18. FALSE\n",
       "19. FALSE\n",
       "20. FALSE\n",
       "21. TRUE\n",
       "22. FALSE\n",
       "23. FALSE\n",
       "\n",
       "\n"
      ],
      "text/plain": [
       " [1] FALSE FALSE FALSE FALSE  TRUE FALSE FALSE FALSE FALSE FALSE FALSE FALSE\n",
       "[13] FALSE FALSE FALSE FALSE FALSE FALSE FALSE FALSE  TRUE FALSE FALSE"
      ]
     },
     "metadata": {},
     "output_type": "display_data"
    }
   ],
   "source": [
    "c1 == 12 | c1 == 28"
   ]
  },
  {
   "cell_type": "markdown",
   "metadata": {},
   "source": [
    "#### II.C.3. Créez le vecteur de condition cond1 “c1 est supérieur à 16 et inférieur à 22”."
   ]
  },
  {
   "cell_type": "markdown",
   "metadata": {},
   "source": [
    "filtre"
   ]
  },
  {
   "cell_type": "code",
   "execution_count": 44,
   "metadata": {},
   "outputs": [],
   "source": [
    "cond1 <- c1 > 16 & c1 < 22"
   ]
  },
  {
   "cell_type": "code",
   "execution_count": 45,
   "metadata": {},
   "outputs": [
    {
     "data": {
      "text/html": [
       "<ol class=list-inline>\n",
       "\t<li>FALSE</li>\n",
       "\t<li>FALSE</li>\n",
       "\t<li>FALSE</li>\n",
       "\t<li>FALSE</li>\n",
       "\t<li>FALSE</li>\n",
       "\t<li>FALSE</li>\n",
       "\t<li>FALSE</li>\n",
       "\t<li>FALSE</li>\n",
       "\t<li>FALSE</li>\n",
       "\t<li>TRUE</li>\n",
       "\t<li>TRUE</li>\n",
       "\t<li>TRUE</li>\n",
       "\t<li>TRUE</li>\n",
       "\t<li>TRUE</li>\n",
       "\t<li>FALSE</li>\n",
       "\t<li>FALSE</li>\n",
       "\t<li>FALSE</li>\n",
       "\t<li>FALSE</li>\n",
       "\t<li>FALSE</li>\n",
       "\t<li>FALSE</li>\n",
       "\t<li>FALSE</li>\n",
       "\t<li>FALSE</li>\n",
       "\t<li>FALSE</li>\n",
       "</ol>\n"
      ],
      "text/latex": [
       "\\begin{enumerate*}\n",
       "\\item FALSE\n",
       "\\item FALSE\n",
       "\\item FALSE\n",
       "\\item FALSE\n",
       "\\item FALSE\n",
       "\\item FALSE\n",
       "\\item FALSE\n",
       "\\item FALSE\n",
       "\\item FALSE\n",
       "\\item TRUE\n",
       "\\item TRUE\n",
       "\\item TRUE\n",
       "\\item TRUE\n",
       "\\item TRUE\n",
       "\\item FALSE\n",
       "\\item FALSE\n",
       "\\item FALSE\n",
       "\\item FALSE\n",
       "\\item FALSE\n",
       "\\item FALSE\n",
       "\\item FALSE\n",
       "\\item FALSE\n",
       "\\item FALSE\n",
       "\\end{enumerate*}\n"
      ],
      "text/markdown": [
       "1. FALSE\n",
       "2. FALSE\n",
       "3. FALSE\n",
       "4. FALSE\n",
       "5. FALSE\n",
       "6. FALSE\n",
       "7. FALSE\n",
       "8. FALSE\n",
       "9. FALSE\n",
       "10. TRUE\n",
       "11. TRUE\n",
       "12. TRUE\n",
       "13. TRUE\n",
       "14. TRUE\n",
       "15. FALSE\n",
       "16. FALSE\n",
       "17. FALSE\n",
       "18. FALSE\n",
       "19. FALSE\n",
       "20. FALSE\n",
       "21. FALSE\n",
       "22. FALSE\n",
       "23. FALSE\n",
       "\n",
       "\n"
      ],
      "text/plain": [
       " [1] FALSE FALSE FALSE FALSE FALSE FALSE FALSE FALSE FALSE  TRUE  TRUE  TRUE\n",
       "[13]  TRUE  TRUE FALSE FALSE FALSE FALSE FALSE FALSE FALSE FALSE FALSE"
      ]
     },
     "metadata": {},
     "output_type": "display_data"
    }
   ],
   "source": [
    "cond1"
   ]
  },
  {
   "cell_type": "markdown",
   "metadata": {},
   "source": [
    "#### II.C.4. Faites tourner c1[cond1]. Qu’observez vous?"
   ]
  },
  {
   "cell_type": "code",
   "execution_count": 46,
   "metadata": {},
   "outputs": [
    {
     "data": {
      "text/html": [
       "<ol class=list-inline>\n",
       "\t<li>17</li>\n",
       "\t<li>18</li>\n",
       "\t<li>19</li>\n",
       "\t<li>20</li>\n",
       "\t<li>21</li>\n",
       "</ol>\n"
      ],
      "text/latex": [
       "\\begin{enumerate*}\n",
       "\\item 17\n",
       "\\item 18\n",
       "\\item 19\n",
       "\\item 20\n",
       "\\item 21\n",
       "\\end{enumerate*}\n"
      ],
      "text/markdown": [
       "1. 17\n",
       "2. 18\n",
       "3. 19\n",
       "4. 20\n",
       "5. 21\n",
       "\n",
       "\n"
      ],
      "text/plain": [
       "[1] 17 18 19 20 21"
      ]
     },
     "metadata": {},
     "output_type": "display_data"
    }
   ],
   "source": [
    "c1[cond1]"
   ]
  },
  {
   "cell_type": "markdown",
   "metadata": {},
   "source": [
    "#### II.C.5. Utilisez la même logique pour créer un vecteur c4 contenant les valeurs entre 8 et 12 et entre 15 et 17 de c1."
   ]
  },
  {
   "cell_type": "code",
   "execution_count": 47,
   "metadata": {},
   "outputs": [],
   "source": [
    "cond2 <- c1 > 8 & c1 < 13 | c1 > 15 & c1 < 18"
   ]
  },
  {
   "cell_type": "code",
   "execution_count": 48,
   "metadata": {},
   "outputs": [],
   "source": [
    "c4 <- c1[cond2]"
   ]
  },
  {
   "cell_type": "code",
   "execution_count": 49,
   "metadata": {},
   "outputs": [
    {
     "data": {
      "text/html": [
       "<ol class=list-inline>\n",
       "\t<li>9</li>\n",
       "\t<li>10</li>\n",
       "\t<li>11</li>\n",
       "\t<li>12</li>\n",
       "\t<li>16</li>\n",
       "\t<li>17</li>\n",
       "</ol>\n"
      ],
      "text/latex": [
       "\\begin{enumerate*}\n",
       "\\item 9\n",
       "\\item 10\n",
       "\\item 11\n",
       "\\item 12\n",
       "\\item 16\n",
       "\\item 17\n",
       "\\end{enumerate*}\n"
      ],
      "text/markdown": [
       "1. 9\n",
       "2. 10\n",
       "3. 11\n",
       "4. 12\n",
       "5. 16\n",
       "6. 17\n",
       "\n",
       "\n"
      ],
      "text/plain": [
       "[1]  9 10 11 12 16 17"
      ]
     },
     "metadata": {},
     "output_type": "display_data"
    }
   ],
   "source": [
    "c4"
   ]
  },
  {
   "cell_type": "markdown",
   "metadata": {},
   "source": [
    "#### II.C.6. Trouvez une manière de remplacer les éléments de c1 respectant la condition cond1 par zéro."
   ]
  },
  {
   "cell_type": "code",
   "execution_count": 78,
   "metadata": {},
   "outputs": [],
   "source": [
    "c1 <- c1[cond1] <- 0"
   ]
  },
  {
   "cell_type": "code",
   "execution_count": 79,
   "metadata": {},
   "outputs": [
    {
     "data": {
      "text/html": [
       "0"
      ],
      "text/latex": [
       "0"
      ],
      "text/markdown": [
       "0"
      ],
      "text/plain": [
       "[1] 0"
      ]
     },
     "metadata": {},
     "output_type": "display_data"
    }
   ],
   "source": [
    "c1"
   ]
  },
  {
   "cell_type": "markdown",
   "metadata": {},
   "source": [
    "### II.D. Création de matrices"
   ]
  },
  {
   "cell_type": "markdown",
   "metadata": {},
   "source": [
    "#### II.D.1. Lisez la documentation de la fonction matrix. Utilisez cette fonction pour créer une matrice mat1 de cette forme :"
   ]
  },
  {
   "cell_type": "code",
   "execution_count": 56,
   "metadata": {},
   "outputs": [],
   "source": [
    "##       [,1] [,2] [,3] [,4]\n",
    "##  [1,]    1   11   21   31\n",
    "##  [2,]    2   12   22   32\n",
    "##  [3,]    3   13   23   33\n",
    "##  [4,]    4   14   24   34\n",
    "##  [5,]    5   15   25   35\n",
    "##  [6,]    6   16   26   36\n",
    "##  [7,]    7   17   27   37\n",
    "##  [8,]    8   18   28   38\n",
    "##  [9,]    9   19   29   39\n",
    "## [10,]   10   20   30   40"
   ]
  },
  {
   "cell_type": "code",
   "execution_count": 57,
   "metadata": {},
   "outputs": [
    {
     "data": {
      "text/html": [
       "<table>\n",
       "<tbody>\n",
       "\t<tr><td>1</td></tr>\n",
       "\t<tr><td>2</td></tr>\n",
       "\t<tr><td>3</td></tr>\n",
       "</tbody>\n",
       "</table>\n"
      ],
      "text/latex": [
       "\\begin{tabular}{l}\n",
       "\t 1\\\\\n",
       "\t 2\\\\\n",
       "\t 3\\\\\n",
       "\\end{tabular}\n"
      ],
      "text/markdown": [
       "\n",
       "| 1 |\n",
       "| 2 |\n",
       "| 3 |\n",
       "\n"
      ],
      "text/plain": [
       "     [,1]\n",
       "[1,] 1   \n",
       "[2,] 2   \n",
       "[3,] 3   "
      ]
     },
     "metadata": {},
     "output_type": "display_data"
    }
   ],
   "source": [
    "rbind(1 ,2 ,3)"
   ]
  },
  {
   "cell_type": "code",
   "execution_count": 58,
   "metadata": {},
   "outputs": [
    {
     "data": {
      "text/html": [
       "<table>\n",
       "<tbody>\n",
       "\t<tr><td>1</td><td>2</td><td>3</td></tr>\n",
       "</tbody>\n",
       "</table>\n"
      ],
      "text/latex": [
       "\\begin{tabular}{lll}\n",
       "\t 1 & 2 & 3\\\\\n",
       "\\end{tabular}\n"
      ],
      "text/markdown": [
       "\n",
       "| 1 | 2 | 3 |\n",
       "\n"
      ],
      "text/plain": [
       "     [,1] [,2] [,3]\n",
       "[1,] 1    2    3   "
      ]
     },
     "metadata": {},
     "output_type": "display_data"
    }
   ],
   "source": [
    "cbind(1, 2, 3)"
   ]
  },
  {
   "cell_type": "code",
   "execution_count": 59,
   "metadata": {},
   "outputs": [
    {
     "data": {
      "text/html": [
       "<table>\n",
       "<tbody>\n",
       "\t<tr><td>1</td><td>2</td><td>3</td></tr>\n",
       "\t<tr><td>4</td><td>5</td><td>6</td></tr>\n",
       "</tbody>\n",
       "</table>\n"
      ],
      "text/latex": [
       "\\begin{tabular}{lll}\n",
       "\t 1 & 2 & 3\\\\\n",
       "\t 4 & 5 & 6\\\\\n",
       "\\end{tabular}\n"
      ],
      "text/markdown": [
       "\n",
       "| 1 | 2 | 3 |\n",
       "| 4 | 5 | 6 |\n",
       "\n"
      ],
      "text/plain": [
       "     [,1] [,2] [,3]\n",
       "[1,] 1    2    3   \n",
       "[2,] 4    5    6   "
      ]
     },
     "metadata": {},
     "output_type": "display_data"
    }
   ],
   "source": [
    "rbind(c(1, 2, 3), c(4, 5, 6))"
   ]
  },
  {
   "cell_type": "code",
   "execution_count": 60,
   "metadata": {},
   "outputs": [
    {
     "data": {
      "text/html": [
       "<table>\n",
       "<tbody>\n",
       "\t<tr><td>1</td><td>4</td></tr>\n",
       "\t<tr><td>2</td><td>5</td></tr>\n",
       "\t<tr><td>3</td><td>6</td></tr>\n",
       "</tbody>\n",
       "</table>\n"
      ],
      "text/latex": [
       "\\begin{tabular}{ll}\n",
       "\t 1 & 4\\\\\n",
       "\t 2 & 5\\\\\n",
       "\t 3 & 6\\\\\n",
       "\\end{tabular}\n"
      ],
      "text/markdown": [
       "\n",
       "| 1 | 4 |\n",
       "| 2 | 5 |\n",
       "| 3 | 6 |\n",
       "\n"
      ],
      "text/plain": [
       "     [,1] [,2]\n",
       "[1,] 1    4   \n",
       "[2,] 2    5   \n",
       "[3,] 3    6   "
      ]
     },
     "metadata": {},
     "output_type": "display_data"
    }
   ],
   "source": [
    "cbind(c(1, 2, 3), c(4, 5, 6))"
   ]
  },
  {
   "cell_type": "code",
   "execution_count": 61,
   "metadata": {},
   "outputs": [],
   "source": [
    "mat1 = matrix(data = 1:40, nrow = 10, ncol = 4)"
   ]
  },
  {
   "cell_type": "code",
   "execution_count": 62,
   "metadata": {},
   "outputs": [
    {
     "data": {
      "text/html": [
       "<table>\n",
       "<tbody>\n",
       "\t<tr><td> 1</td><td>11</td><td>21</td><td>31</td></tr>\n",
       "\t<tr><td> 2</td><td>12</td><td>22</td><td>32</td></tr>\n",
       "\t<tr><td> 3</td><td>13</td><td>23</td><td>33</td></tr>\n",
       "\t<tr><td> 4</td><td>14</td><td>24</td><td>34</td></tr>\n",
       "\t<tr><td> 5</td><td>15</td><td>25</td><td>35</td></tr>\n",
       "\t<tr><td> 6</td><td>16</td><td>26</td><td>36</td></tr>\n",
       "\t<tr><td> 7</td><td>17</td><td>27</td><td>37</td></tr>\n",
       "\t<tr><td> 8</td><td>18</td><td>28</td><td>38</td></tr>\n",
       "\t<tr><td> 9</td><td>19</td><td>29</td><td>39</td></tr>\n",
       "\t<tr><td>10</td><td>20</td><td>30</td><td>40</td></tr>\n",
       "</tbody>\n",
       "</table>\n"
      ],
      "text/latex": [
       "\\begin{tabular}{llll}\n",
       "\t  1 & 11 & 21 & 31\\\\\n",
       "\t  2 & 12 & 22 & 32\\\\\n",
       "\t  3 & 13 & 23 & 33\\\\\n",
       "\t  4 & 14 & 24 & 34\\\\\n",
       "\t  5 & 15 & 25 & 35\\\\\n",
       "\t  6 & 16 & 26 & 36\\\\\n",
       "\t  7 & 17 & 27 & 37\\\\\n",
       "\t  8 & 18 & 28 & 38\\\\\n",
       "\t  9 & 19 & 29 & 39\\\\\n",
       "\t 10 & 20 & 30 & 40\\\\\n",
       "\\end{tabular}\n"
      ],
      "text/markdown": [
       "\n",
       "|  1 | 11 | 21 | 31 |\n",
       "|  2 | 12 | 22 | 32 |\n",
       "|  3 | 13 | 23 | 33 |\n",
       "|  4 | 14 | 24 | 34 |\n",
       "|  5 | 15 | 25 | 35 |\n",
       "|  6 | 16 | 26 | 36 |\n",
       "|  7 | 17 | 27 | 37 |\n",
       "|  8 | 18 | 28 | 38 |\n",
       "|  9 | 19 | 29 | 39 |\n",
       "| 10 | 20 | 30 | 40 |\n",
       "\n"
      ],
      "text/plain": [
       "      [,1] [,2] [,3] [,4]\n",
       " [1,]  1   11   21   31  \n",
       " [2,]  2   12   22   32  \n",
       " [3,]  3   13   23   33  \n",
       " [4,]  4   14   24   34  \n",
       " [5,]  5   15   25   35  \n",
       " [6,]  6   16   26   36  \n",
       " [7,]  7   17   27   37  \n",
       " [8,]  8   18   28   38  \n",
       " [9,]  9   19   29   39  \n",
       "[10,] 10   20   30   40  "
      ]
     },
     "metadata": {},
     "output_type": "display_data"
    }
   ],
   "source": [
    "mat1"
   ]
  },
  {
   "cell_type": "markdown",
   "metadata": {},
   "source": [
    "Affichez le type, le nombre de colonnes, le nombre de lignes et la longueur de cette matrice."
   ]
  },
  {
   "cell_type": "code",
   "execution_count": 63,
   "metadata": {},
   "outputs": [
    {
     "data": {
      "text/html": [
       "<ol class=list-inline>\n",
       "\t<li>10</li>\n",
       "\t<li>4</li>\n",
       "</ol>\n"
      ],
      "text/latex": [
       "\\begin{enumerate*}\n",
       "\\item 10\n",
       "\\item 4\n",
       "\\end{enumerate*}\n"
      ],
      "text/markdown": [
       "1. 10\n",
       "2. 4\n",
       "\n",
       "\n"
      ],
      "text/plain": [
       "[1] 10  4"
      ]
     },
     "metadata": {},
     "output_type": "display_data"
    }
   ],
   "source": [
    "dim(mat1)"
   ]
  },
  {
   "cell_type": "code",
   "execution_count": 65,
   "metadata": {},
   "outputs": [
    {
     "data": {
      "text/html": [
       "40"
      ],
      "text/latex": [
       "40"
      ],
      "text/markdown": [
       "40"
      ],
      "text/plain": [
       "[1] 40"
      ]
     },
     "metadata": {},
     "output_type": "display_data"
    }
   ],
   "source": [
    "length(mat1)"
   ]
  },
  {
   "cell_type": "markdown",
   "metadata": {},
   "source": [
    "#### II.D.2. Toujours avec matrix, essayez de créer une matrice mat2 de cette forme"
   ]
  },
  {
   "cell_type": "code",
   "execution_count": 66,
   "metadata": {},
   "outputs": [],
   "source": [
    "##       [,1] [,2] [,3] [,4]\n",
    "##  [1,]    1    2    3    4\n",
    "##  [2,]    5    6    7    8\n",
    "##  [3,]    9   10   11   12\n",
    "##  [4,]   13   14   15   16\n",
    "##  [5,]   17   18   19   20\n",
    "##  [6,]   21   22   23   24\n",
    "##  [7,]   25   26   27   28\n",
    "##  [8,]   29   30   31   32\n",
    "##  [9,]   33   34   35   36\n",
    "## [10,]   37   38   39   40"
   ]
  },
  {
   "cell_type": "code",
   "execution_count": 67,
   "metadata": {},
   "outputs": [],
   "source": [
    "mat2 <- matrix (1:40, 10, 4, byrow=TRUE)"
   ]
  },
  {
   "cell_type": "code",
   "execution_count": 68,
   "metadata": {},
   "outputs": [
    {
     "data": {
      "text/html": [
       "<table>\n",
       "<tbody>\n",
       "\t<tr><td> 1</td><td> 2</td><td> 3</td><td> 4</td></tr>\n",
       "\t<tr><td> 5</td><td> 6</td><td> 7</td><td> 8</td></tr>\n",
       "\t<tr><td> 9</td><td>10</td><td>11</td><td>12</td></tr>\n",
       "\t<tr><td>13</td><td>14</td><td>15</td><td>16</td></tr>\n",
       "\t<tr><td>17</td><td>18</td><td>19</td><td>20</td></tr>\n",
       "\t<tr><td>21</td><td>22</td><td>23</td><td>24</td></tr>\n",
       "\t<tr><td>25</td><td>26</td><td>27</td><td>28</td></tr>\n",
       "\t<tr><td>29</td><td>30</td><td>31</td><td>32</td></tr>\n",
       "\t<tr><td>33</td><td>34</td><td>35</td><td>36</td></tr>\n",
       "\t<tr><td>37</td><td>38</td><td>39</td><td>40</td></tr>\n",
       "</tbody>\n",
       "</table>\n"
      ],
      "text/latex": [
       "\\begin{tabular}{llll}\n",
       "\t  1 &  2 &  3 &  4\\\\\n",
       "\t  5 &  6 &  7 &  8\\\\\n",
       "\t  9 & 10 & 11 & 12\\\\\n",
       "\t 13 & 14 & 15 & 16\\\\\n",
       "\t 17 & 18 & 19 & 20\\\\\n",
       "\t 21 & 22 & 23 & 24\\\\\n",
       "\t 25 & 26 & 27 & 28\\\\\n",
       "\t 29 & 30 & 31 & 32\\\\\n",
       "\t 33 & 34 & 35 & 36\\\\\n",
       "\t 37 & 38 & 39 & 40\\\\\n",
       "\\end{tabular}\n"
      ],
      "text/markdown": [
       "\n",
       "|  1 |  2 |  3 |  4 |\n",
       "|  5 |  6 |  7 |  8 |\n",
       "|  9 | 10 | 11 | 12 |\n",
       "| 13 | 14 | 15 | 16 |\n",
       "| 17 | 18 | 19 | 20 |\n",
       "| 21 | 22 | 23 | 24 |\n",
       "| 25 | 26 | 27 | 28 |\n",
       "| 29 | 30 | 31 | 32 |\n",
       "| 33 | 34 | 35 | 36 |\n",
       "| 37 | 38 | 39 | 40 |\n",
       "\n"
      ],
      "text/plain": [
       "      [,1] [,2] [,3] [,4]\n",
       " [1,]  1    2    3    4  \n",
       " [2,]  5    6    7    8  \n",
       " [3,]  9   10   11   12  \n",
       " [4,] 13   14   15   16  \n",
       " [5,] 17   18   19   20  \n",
       " [6,] 21   22   23   24  \n",
       " [7,] 25   26   27   28  \n",
       " [8,] 29   30   31   32  \n",
       " [9,] 33   34   35   36  \n",
       "[10,] 37   38   39   40  "
      ]
     },
     "metadata": {},
     "output_type": "display_data"
    }
   ],
   "source": [
    "mat2"
   ]
  },
  {
   "cell_type": "markdown",
   "metadata": {},
   "source": [
    "#### II.D.3. Que sortent mat1[1, ], mat1[5, ], mat1[, 2], mat1[1, 4]?"
   ]
  },
  {
   "cell_type": "code",
   "execution_count": 69,
   "metadata": {},
   "outputs": [
    {
     "data": {
      "text/html": [
       "<ol class=list-inline>\n",
       "\t<li>1</li>\n",
       "\t<li>11</li>\n",
       "\t<li>21</li>\n",
       "\t<li>31</li>\n",
       "</ol>\n"
      ],
      "text/latex": [
       "\\begin{enumerate*}\n",
       "\\item 1\n",
       "\\item 11\n",
       "\\item 21\n",
       "\\item 31\n",
       "\\end{enumerate*}\n"
      ],
      "text/markdown": [
       "1. 1\n",
       "2. 11\n",
       "3. 21\n",
       "4. 31\n",
       "\n",
       "\n"
      ],
      "text/plain": [
       "[1]  1 11 21 31"
      ]
     },
     "metadata": {},
     "output_type": "display_data"
    }
   ],
   "source": [
    "mat1[1, ]"
   ]
  },
  {
   "cell_type": "markdown",
   "metadata": {},
   "source": [
    "premiere ligne"
   ]
  },
  {
   "cell_type": "code",
   "execution_count": 70,
   "metadata": {},
   "outputs": [
    {
     "data": {
      "text/html": [
       "<ol class=list-inline>\n",
       "\t<li>5</li>\n",
       "\t<li>15</li>\n",
       "\t<li>25</li>\n",
       "\t<li>35</li>\n",
       "</ol>\n"
      ],
      "text/latex": [
       "\\begin{enumerate*}\n",
       "\\item 5\n",
       "\\item 15\n",
       "\\item 25\n",
       "\\item 35\n",
       "\\end{enumerate*}\n"
      ],
      "text/markdown": [
       "1. 5\n",
       "2. 15\n",
       "3. 25\n",
       "4. 35\n",
       "\n",
       "\n"
      ],
      "text/plain": [
       "[1]  5 15 25 35"
      ]
     },
     "metadata": {},
     "output_type": "display_data"
    }
   ],
   "source": [
    "mat1[5, ]"
   ]
  },
  {
   "cell_type": "code",
   "execution_count": 71,
   "metadata": {},
   "outputs": [
    {
     "data": {
      "text/html": [
       "<ol class=list-inline>\n",
       "\t<li>11</li>\n",
       "\t<li>12</li>\n",
       "\t<li>13</li>\n",
       "\t<li>14</li>\n",
       "\t<li>15</li>\n",
       "\t<li>16</li>\n",
       "\t<li>17</li>\n",
       "\t<li>18</li>\n",
       "\t<li>19</li>\n",
       "\t<li>20</li>\n",
       "</ol>\n"
      ],
      "text/latex": [
       "\\begin{enumerate*}\n",
       "\\item 11\n",
       "\\item 12\n",
       "\\item 13\n",
       "\\item 14\n",
       "\\item 15\n",
       "\\item 16\n",
       "\\item 17\n",
       "\\item 18\n",
       "\\item 19\n",
       "\\item 20\n",
       "\\end{enumerate*}\n"
      ],
      "text/markdown": [
       "1. 11\n",
       "2. 12\n",
       "3. 13\n",
       "4. 14\n",
       "5. 15\n",
       "6. 16\n",
       "7. 17\n",
       "8. 18\n",
       "9. 19\n",
       "10. 20\n",
       "\n",
       "\n"
      ],
      "text/plain": [
       " [1] 11 12 13 14 15 16 17 18 19 20"
      ]
     },
     "metadata": {},
     "output_type": "display_data"
    }
   ],
   "source": [
    "mat1[, 2]"
   ]
  },
  {
   "cell_type": "code",
   "execution_count": 72,
   "metadata": {},
   "outputs": [
    {
     "data": {
      "text/html": [
       "31"
      ],
      "text/latex": [
       "31"
      ],
      "text/markdown": [
       "31"
      ],
      "text/plain": [
       "[1] 31"
      ]
     },
     "metadata": {},
     "output_type": "display_data"
    }
   ],
   "source": [
    "mat1[1, 4]"
   ]
  },
  {
   "cell_type": "markdown",
   "metadata": {},
   "source": [
    "#### II.D.4.  On travaille maintenant avec la matrice mat2 définie ainsi :"
   ]
  },
  {
   "cell_type": "code",
   "execution_count": 87,
   "metadata": {},
   "outputs": [
    {
     "name": "stdout",
     "output_type": "stream",
     "text": [
      "      [,1] [,2] [,3] [,4]\n",
      " [1,]   51   83   15   43\n",
      " [2,]  100   52   79   25\n",
      " [3,]    4   72   26   46\n",
      " [4,]    6    1    5   60\n",
      " [5,]   64   34   90    7\n",
      " [6,]   49   95   42   82\n",
      " [7,]   98   62   29   73\n",
      " [8,]   18   97   39   92\n",
      " [9,]   27   16   94   76\n",
      "[10,]   88   81   85   36\n"
     ]
    }
   ],
   "source": [
    "mat4 <- matrix(sample(1:100, 40), nrow = 10, ncol = 4)\n",
    "print(mat4)"
   ]
  },
  {
   "cell_type": "markdown",
   "metadata": {},
   "source": [
    "melange la liste"
   ]
  },
  {
   "cell_type": "markdown",
   "metadata": {},
   "source": [
    "#### II.D.5. Affichez les éléments de la matrice supérieurs à 10."
   ]
  },
  {
   "cell_type": "code",
   "execution_count": 74,
   "metadata": {},
   "outputs": [],
   "source": [
    "cond10 <-mat4 > 10"
   ]
  },
  {
   "cell_type": "code",
   "execution_count": 75,
   "metadata": {},
   "outputs": [],
   "source": [
    "mat4 <- mat4[cond10]"
   ]
  },
  {
   "cell_type": "code",
   "execution_count": 76,
   "metadata": {},
   "outputs": [
    {
     "data": {
      "text/html": [
       "<ol class=list-inline>\n",
       "\t<li>83</li>\n",
       "\t<li>43</li>\n",
       "\t<li>92</li>\n",
       "\t<li>85</li>\n",
       "\t<li>31</li>\n",
       "\t<li>98</li>\n",
       "\t<li>57</li>\n",
       "\t<li>16</li>\n",
       "\t<li>63</li>\n",
       "\t<li>48</li>\n",
       "\t<li>26</li>\n",
       "\t<li>46</li>\n",
       "\t<li>23</li>\n",
       "\t<li>84</li>\n",
       "\t<li>89</li>\n",
       "\t<li>80</li>\n",
       "\t<li>24</li>\n",
       "\t<li>62</li>\n",
       "\t<li>51</li>\n",
       "\t<li>72</li>\n",
       "\t<li>30</li>\n",
       "\t<li>37</li>\n",
       "\t<li>35</li>\n",
       "\t<li>81</li>\n",
       "\t<li>18</li>\n",
       "\t<li>14</li>\n",
       "\t<li>34</li>\n",
       "\t<li>49</li>\n",
       "\t<li>71</li>\n",
       "\t<li>93</li>\n",
       "\t<li>17</li>\n",
       "\t<li>79</li>\n",
       "\t<li>70</li>\n",
       "\t<li>29</li>\n",
       "\t<li>36</li>\n",
       "\t<li>44</li>\n",
       "</ol>\n"
      ],
      "text/latex": [
       "\\begin{enumerate*}\n",
       "\\item 83\n",
       "\\item 43\n",
       "\\item 92\n",
       "\\item 85\n",
       "\\item 31\n",
       "\\item 98\n",
       "\\item 57\n",
       "\\item 16\n",
       "\\item 63\n",
       "\\item 48\n",
       "\\item 26\n",
       "\\item 46\n",
       "\\item 23\n",
       "\\item 84\n",
       "\\item 89\n",
       "\\item 80\n",
       "\\item 24\n",
       "\\item 62\n",
       "\\item 51\n",
       "\\item 72\n",
       "\\item 30\n",
       "\\item 37\n",
       "\\item 35\n",
       "\\item 81\n",
       "\\item 18\n",
       "\\item 14\n",
       "\\item 34\n",
       "\\item 49\n",
       "\\item 71\n",
       "\\item 93\n",
       "\\item 17\n",
       "\\item 79\n",
       "\\item 70\n",
       "\\item 29\n",
       "\\item 36\n",
       "\\item 44\n",
       "\\end{enumerate*}\n"
      ],
      "text/markdown": [
       "1. 83\n",
       "2. 43\n",
       "3. 92\n",
       "4. 85\n",
       "5. 31\n",
       "6. 98\n",
       "7. 57\n",
       "8. 16\n",
       "9. 63\n",
       "10. 48\n",
       "11. 26\n",
       "12. 46\n",
       "13. 23\n",
       "14. 84\n",
       "15. 89\n",
       "16. 80\n",
       "17. 24\n",
       "18. 62\n",
       "19. 51\n",
       "20. 72\n",
       "21. 30\n",
       "22. 37\n",
       "23. 35\n",
       "24. 81\n",
       "25. 18\n",
       "26. 14\n",
       "27. 34\n",
       "28. 49\n",
       "29. 71\n",
       "30. 93\n",
       "31. 17\n",
       "32. 79\n",
       "33. 70\n",
       "34. 29\n",
       "35. 36\n",
       "36. 44\n",
       "\n",
       "\n"
      ],
      "text/plain": [
       " [1] 83 43 92 85 31 98 57 16 63 48 26 46 23 84 89 80 24 62 51 72 30 37 35 81 18\n",
       "[26] 14 34 49 71 93 17 79 70 29 36 44"
      ]
     },
     "metadata": {},
     "output_type": "display_data"
    }
   ],
   "source": [
    "mat4"
   ]
  },
  {
   "cell_type": "markdown",
   "metadata": {},
   "source": [
    "autre"
   ]
  },
  {
   "cell_type": "code",
   "execution_count": 77,
   "metadata": {},
   "outputs": [
    {
     "data": {
      "text/html": [
       "<ol class=list-inline>\n",
       "\t<li>83</li>\n",
       "\t<li>43</li>\n",
       "\t<li>92</li>\n",
       "\t<li>85</li>\n",
       "\t<li>31</li>\n",
       "\t<li>98</li>\n",
       "\t<li>57</li>\n",
       "\t<li>16</li>\n",
       "\t<li>63</li>\n",
       "\t<li>48</li>\n",
       "\t<li>26</li>\n",
       "\t<li>46</li>\n",
       "\t<li>23</li>\n",
       "\t<li>84</li>\n",
       "\t<li>89</li>\n",
       "\t<li>80</li>\n",
       "\t<li>24</li>\n",
       "\t<li>62</li>\n",
       "\t<li>51</li>\n",
       "\t<li>72</li>\n",
       "\t<li>30</li>\n",
       "\t<li>37</li>\n",
       "\t<li>35</li>\n",
       "\t<li>81</li>\n",
       "\t<li>18</li>\n",
       "\t<li>14</li>\n",
       "\t<li>34</li>\n",
       "\t<li>49</li>\n",
       "\t<li>71</li>\n",
       "\t<li>93</li>\n",
       "\t<li>17</li>\n",
       "\t<li>79</li>\n",
       "\t<li>70</li>\n",
       "\t<li>29</li>\n",
       "\t<li>36</li>\n",
       "\t<li>44</li>\n",
       "</ol>\n"
      ],
      "text/latex": [
       "\\begin{enumerate*}\n",
       "\\item 83\n",
       "\\item 43\n",
       "\\item 92\n",
       "\\item 85\n",
       "\\item 31\n",
       "\\item 98\n",
       "\\item 57\n",
       "\\item 16\n",
       "\\item 63\n",
       "\\item 48\n",
       "\\item 26\n",
       "\\item 46\n",
       "\\item 23\n",
       "\\item 84\n",
       "\\item 89\n",
       "\\item 80\n",
       "\\item 24\n",
       "\\item 62\n",
       "\\item 51\n",
       "\\item 72\n",
       "\\item 30\n",
       "\\item 37\n",
       "\\item 35\n",
       "\\item 81\n",
       "\\item 18\n",
       "\\item 14\n",
       "\\item 34\n",
       "\\item 49\n",
       "\\item 71\n",
       "\\item 93\n",
       "\\item 17\n",
       "\\item 79\n",
       "\\item 70\n",
       "\\item 29\n",
       "\\item 36\n",
       "\\item 44\n",
       "\\end{enumerate*}\n"
      ],
      "text/markdown": [
       "1. 83\n",
       "2. 43\n",
       "3. 92\n",
       "4. 85\n",
       "5. 31\n",
       "6. 98\n",
       "7. 57\n",
       "8. 16\n",
       "9. 63\n",
       "10. 48\n",
       "11. 26\n",
       "12. 46\n",
       "13. 23\n",
       "14. 84\n",
       "15. 89\n",
       "16. 80\n",
       "17. 24\n",
       "18. 62\n",
       "19. 51\n",
       "20. 72\n",
       "21. 30\n",
       "22. 37\n",
       "23. 35\n",
       "24. 81\n",
       "25. 18\n",
       "26. 14\n",
       "27. 34\n",
       "28. 49\n",
       "29. 71\n",
       "30. 93\n",
       "31. 17\n",
       "32. 79\n",
       "33. 70\n",
       "34. 29\n",
       "35. 36\n",
       "36. 44\n",
       "\n",
       "\n"
      ],
      "text/plain": [
       " [1] 83 43 92 85 31 98 57 16 63 48 26 46 23 84 89 80 24 62 51 72 30 37 35 81 18\n",
       "[26] 14 34 49 71 93 17 79 70 29 36 44"
      ]
     },
     "metadata": {},
     "output_type": "display_data"
    }
   ],
   "source": [
    "mat4[mat4>10]"
   ]
  },
  {
   "cell_type": "markdown",
   "metadata": {},
   "source": [
    "#### II.D.6. Remplacez les éléments de la matrice supérieurs à 10 par zéro."
   ]
  },
  {
   "cell_type": "markdown",
   "metadata": {},
   "source": [
    "Contrairement aux vecteurs, les matrices ont deux dimensions (lignes et colonnes). La logique de manipulation et de sélection reste cependant la même."
   ]
  },
  {
   "cell_type": "code",
   "execution_count": null,
   "metadata": {},
   "outputs": [],
   "source": []
  },
  {
   "cell_type": "code",
   "execution_count": 84,
   "metadata": {},
   "outputs": [],
   "source": [
    "mat4[mat4>10] <- 0"
   ]
  },
  {
   "cell_type": "code",
   "execution_count": 85,
   "metadata": {},
   "outputs": [
    {
     "data": {
      "text/html": [
       "<table>\n",
       "<tbody>\n",
       "\t<tr><td>0</td><td>0</td><td>0</td><td>0</td></tr>\n",
       "\t<tr><td>0</td><td>0</td><td>0</td><td>0</td></tr>\n",
       "\t<tr><td>0</td><td>7</td><td>0</td><td>0</td></tr>\n",
       "\t<tr><td>0</td><td>0</td><td>0</td><td>0</td></tr>\n",
       "\t<tr><td>0</td><td>0</td><td>0</td><td>0</td></tr>\n",
       "\t<tr><td>0</td><td>0</td><td>0</td><td>0</td></tr>\n",
       "\t<tr><td>0</td><td>0</td><td>0</td><td>0</td></tr>\n",
       "\t<tr><td>9</td><td>0</td><td>0</td><td>0</td></tr>\n",
       "\t<tr><td>0</td><td>0</td><td>0</td><td>0</td></tr>\n",
       "\t<tr><td>0</td><td>0</td><td>0</td><td>3</td></tr>\n",
       "</tbody>\n",
       "</table>\n"
      ],
      "text/latex": [
       "\\begin{tabular}{llll}\n",
       "\t 0 & 0 & 0 & 0\\\\\n",
       "\t 0 & 0 & 0 & 0\\\\\n",
       "\t 0 & 7 & 0 & 0\\\\\n",
       "\t 0 & 0 & 0 & 0\\\\\n",
       "\t 0 & 0 & 0 & 0\\\\\n",
       "\t 0 & 0 & 0 & 0\\\\\n",
       "\t 0 & 0 & 0 & 0\\\\\n",
       "\t 9 & 0 & 0 & 0\\\\\n",
       "\t 0 & 0 & 0 & 0\\\\\n",
       "\t 0 & 0 & 0 & 3\\\\\n",
       "\\end{tabular}\n"
      ],
      "text/markdown": [
       "\n",
       "| 0 | 0 | 0 | 0 |\n",
       "| 0 | 0 | 0 | 0 |\n",
       "| 0 | 7 | 0 | 0 |\n",
       "| 0 | 0 | 0 | 0 |\n",
       "| 0 | 0 | 0 | 0 |\n",
       "| 0 | 0 | 0 | 0 |\n",
       "| 0 | 0 | 0 | 0 |\n",
       "| 9 | 0 | 0 | 0 |\n",
       "| 0 | 0 | 0 | 0 |\n",
       "| 0 | 0 | 0 | 3 |\n",
       "\n"
      ],
      "text/plain": [
       "      [,1] [,2] [,3] [,4]\n",
       " [1,] 0    0    0    0   \n",
       " [2,] 0    0    0    0   \n",
       " [3,] 0    7    0    0   \n",
       " [4,] 0    0    0    0   \n",
       " [5,] 0    0    0    0   \n",
       " [6,] 0    0    0    0   \n",
       " [7,] 0    0    0    0   \n",
       " [8,] 9    0    0    0   \n",
       " [9,] 0    0    0    0   \n",
       "[10,] 0    0    0    3   "
      ]
     },
     "metadata": {},
     "output_type": "display_data"
    }
   ],
   "source": [
    "mat4"
   ]
  },
  {
   "cell_type": "markdown",
   "metadata": {},
   "source": [
    "#### II.D.7. Selon vous, que va donner l’instruction suivante :"
   ]
  },
  {
   "cell_type": "code",
   "execution_count": 88,
   "metadata": {},
   "outputs": [
    {
     "data": {
      "text/html": [
       "<table>\n",
       "<tbody>\n",
       "\t<tr><td> 51</td><td>83 </td><td>15 </td><td>43 </td></tr>\n",
       "\t<tr><td>100</td><td>52 </td><td>79 </td><td>25 </td></tr>\n",
       "\t<tr><td> 64</td><td>34 </td><td>90 </td><td> 7 </td></tr>\n",
       "\t<tr><td> 49</td><td>95 </td><td>42 </td><td>82 </td></tr>\n",
       "\t<tr><td> 98</td><td>62 </td><td>29 </td><td>73 </td></tr>\n",
       "\t<tr><td> 18</td><td>97 </td><td>39 </td><td>92 </td></tr>\n",
       "\t<tr><td> 27</td><td>16 </td><td>94 </td><td>76 </td></tr>\n",
       "\t<tr><td> 88</td><td>81 </td><td>85 </td><td>36 </td></tr>\n",
       "</tbody>\n",
       "</table>\n"
      ],
      "text/latex": [
       "\\begin{tabular}{llll}\n",
       "\t  51 & 83  & 15  & 43 \\\\\n",
       "\t 100 & 52  & 79  & 25 \\\\\n",
       "\t  64 & 34  & 90  &  7 \\\\\n",
       "\t  49 & 95  & 42  & 82 \\\\\n",
       "\t  98 & 62  & 29  & 73 \\\\\n",
       "\t  18 & 97  & 39  & 92 \\\\\n",
       "\t  27 & 16  & 94  & 76 \\\\\n",
       "\t  88 & 81  & 85  & 36 \\\\\n",
       "\\end{tabular}\n"
      ],
      "text/markdown": [
       "\n",
       "|  51 | 83  | 15  | 43  |\n",
       "| 100 | 52  | 79  | 25  |\n",
       "|  64 | 34  | 90  |  7  |\n",
       "|  49 | 95  | 42  | 82  |\n",
       "|  98 | 62  | 29  | 73  |\n",
       "|  18 | 97  | 39  | 92  |\n",
       "|  27 | 16  | 94  | 76  |\n",
       "|  88 | 81  | 85  | 36  |\n",
       "\n"
      ],
      "text/plain": [
       "     [,1] [,2] [,3] [,4]\n",
       "[1,]  51  83   15   43  \n",
       "[2,] 100  52   79   25  \n",
       "[3,]  64  34   90    7  \n",
       "[4,]  49  95   42   82  \n",
       "[5,]  98  62   29   73  \n",
       "[6,]  18  97   39   92  \n",
       "[7,]  27  16   94   76  \n",
       "[8,]  88  81   85   36  "
      ]
     },
     "metadata": {},
     "output_type": "display_data"
    }
   ],
   "source": [
    "mat4[mat4[, 1] > 12, ]"
   ]
  },
  {
   "cell_type": "code",
   "execution_count": null,
   "metadata": {},
   "outputs": [],
   "source": []
  },
  {
   "cell_type": "markdown",
   "metadata": {},
   "source": [
    "#### II.D.8. Essayez à votre tour : affichez les 3e et 4e colonnes de la matrice mat4 lorsque la 2nde colonne est inférieure à 50."
   ]
  },
  {
   "cell_type": "code",
   "execution_count": 89,
   "metadata": {},
   "outputs": [
    {
     "data": {
      "text/html": [
       "<table>\n",
       "<tbody>\n",
       "\t<tr><td> 51</td><td>83 </td><td>15 </td><td>43 </td></tr>\n",
       "\t<tr><td>100</td><td>52 </td><td>79 </td><td>25 </td></tr>\n",
       "\t<tr><td>  4</td><td>72 </td><td>26 </td><td>46 </td></tr>\n",
       "\t<tr><td>  6</td><td> 1 </td><td> 5 </td><td>60 </td></tr>\n",
       "\t<tr><td> 64</td><td>34 </td><td>90 </td><td> 7 </td></tr>\n",
       "\t<tr><td> 49</td><td>95 </td><td>42 </td><td>82 </td></tr>\n",
       "\t<tr><td> 98</td><td>62 </td><td>29 </td><td>73 </td></tr>\n",
       "\t<tr><td> 18</td><td>97 </td><td>39 </td><td>92 </td></tr>\n",
       "\t<tr><td> 27</td><td>16 </td><td>94 </td><td>76 </td></tr>\n",
       "\t<tr><td> 88</td><td>81 </td><td>85 </td><td>36 </td></tr>\n",
       "</tbody>\n",
       "</table>\n"
      ],
      "text/latex": [
       "\\begin{tabular}{llll}\n",
       "\t  51 & 83  & 15  & 43 \\\\\n",
       "\t 100 & 52  & 79  & 25 \\\\\n",
       "\t   4 & 72  & 26  & 46 \\\\\n",
       "\t   6 &  1  &  5  & 60 \\\\\n",
       "\t  64 & 34  & 90  &  7 \\\\\n",
       "\t  49 & 95  & 42  & 82 \\\\\n",
       "\t  98 & 62  & 29  & 73 \\\\\n",
       "\t  18 & 97  & 39  & 92 \\\\\n",
       "\t  27 & 16  & 94  & 76 \\\\\n",
       "\t  88 & 81  & 85  & 36 \\\\\n",
       "\\end{tabular}\n"
      ],
      "text/markdown": [
       "\n",
       "|  51 | 83  | 15  | 43  |\n",
       "| 100 | 52  | 79  | 25  |\n",
       "|   4 | 72  | 26  | 46  |\n",
       "|   6 |  1  |  5  | 60  |\n",
       "|  64 | 34  | 90  |  7  |\n",
       "|  49 | 95  | 42  | 82  |\n",
       "|  98 | 62  | 29  | 73  |\n",
       "|  18 | 97  | 39  | 92  |\n",
       "|  27 | 16  | 94  | 76  |\n",
       "|  88 | 81  | 85  | 36  |\n",
       "\n"
      ],
      "text/plain": [
       "      [,1] [,2] [,3] [,4]\n",
       " [1,]  51  83   15   43  \n",
       " [2,] 100  52   79   25  \n",
       " [3,]   4  72   26   46  \n",
       " [4,]   6   1    5   60  \n",
       " [5,]  64  34   90    7  \n",
       " [6,]  49  95   42   82  \n",
       " [7,]  98  62   29   73  \n",
       " [8,]  18  97   39   92  \n",
       " [9,]  27  16   94   76  \n",
       "[10,]  88  81   85   36  "
      ]
     },
     "metadata": {},
     "output_type": "display_data"
    }
   ],
   "source": [
    "mat4"
   ]
  },
  {
   "cell_type": "code",
   "execution_count": 90,
   "metadata": {},
   "outputs": [
    {
     "data": {
      "text/html": [
       "<table>\n",
       "<tbody>\n",
       "\t<tr><td> 6</td><td> 1</td><td> 5</td><td>60</td></tr>\n",
       "\t<tr><td>64</td><td>34</td><td>90</td><td> 7</td></tr>\n",
       "\t<tr><td>27</td><td>16</td><td>94</td><td>76</td></tr>\n",
       "</tbody>\n",
       "</table>\n"
      ],
      "text/latex": [
       "\\begin{tabular}{llll}\n",
       "\t  6 &  1 &  5 & 60\\\\\n",
       "\t 64 & 34 & 90 &  7\\\\\n",
       "\t 27 & 16 & 94 & 76\\\\\n",
       "\\end{tabular}\n"
      ],
      "text/markdown": [
       "\n",
       "|  6 |  1 |  5 | 60 |\n",
       "| 64 | 34 | 90 |  7 |\n",
       "| 27 | 16 | 94 | 76 |\n",
       "\n"
      ],
      "text/plain": [
       "     [,1] [,2] [,3] [,4]\n",
       "[1,]  6    1    5   60  \n",
       "[2,] 64   34   90    7  \n",
       "[3,] 27   16   94   76  "
      ]
     },
     "metadata": {},
     "output_type": "display_data"
    }
   ],
   "source": [
    "mat4[mat4[,2] < 50,]"
   ]
  },
  {
   "cell_type": "markdown",
   "metadata": {},
   "source": [
    "afficher uniquemet les 3e et 4e colonnes"
   ]
  },
  {
   "cell_type": "code",
   "execution_count": 91,
   "metadata": {},
   "outputs": [
    {
     "data": {
      "text/html": [
       "<table>\n",
       "<tbody>\n",
       "\t<tr><td> 5</td><td>60</td></tr>\n",
       "\t<tr><td>90</td><td> 7</td></tr>\n",
       "\t<tr><td>94</td><td>76</td></tr>\n",
       "</tbody>\n",
       "</table>\n"
      ],
      "text/latex": [
       "\\begin{tabular}{ll}\n",
       "\t  5 & 60\\\\\n",
       "\t 90 &  7\\\\\n",
       "\t 94 & 76\\\\\n",
       "\\end{tabular}\n"
      ],
      "text/markdown": [
       "\n",
       "|  5 | 60 |\n",
       "| 90 |  7 |\n",
       "| 94 | 76 |\n",
       "\n"
      ],
      "text/plain": [
       "     [,1] [,2]\n",
       "[1,]  5   60  \n",
       "[2,] 90    7  \n",
       "[3,] 94   76  "
      ]
     },
     "metadata": {},
     "output_type": "display_data"
    }
   ],
   "source": [
    "mat4[mat4[,2] < 50, c(3:4)]"
   ]
  },
  {
   "cell_type": "markdown",
   "metadata": {},
   "source": [
    "#### II.D.9. Utilisez la fonction colnames() pour nommer les 4 colonnes de mat4 comme vous le souhaitez."
   ]
  },
  {
   "cell_type": "code",
   "execution_count": 92,
   "metadata": {},
   "outputs": [],
   "source": [
    "colnames(mat4) <- c(\"a\",\"b\",\"c\",\"d\")"
   ]
  },
  {
   "cell_type": "code",
   "execution_count": 93,
   "metadata": {},
   "outputs": [
    {
     "data": {
      "text/html": [
       "<table>\n",
       "<thead><tr><th scope=col>a</th><th scope=col>b</th><th scope=col>c</th><th scope=col>d</th></tr></thead>\n",
       "<tbody>\n",
       "\t<tr><td> 51</td><td>83 </td><td>15 </td><td>43 </td></tr>\n",
       "\t<tr><td>100</td><td>52 </td><td>79 </td><td>25 </td></tr>\n",
       "\t<tr><td>  4</td><td>72 </td><td>26 </td><td>46 </td></tr>\n",
       "\t<tr><td>  6</td><td> 1 </td><td> 5 </td><td>60 </td></tr>\n",
       "\t<tr><td> 64</td><td>34 </td><td>90 </td><td> 7 </td></tr>\n",
       "\t<tr><td> 49</td><td>95 </td><td>42 </td><td>82 </td></tr>\n",
       "\t<tr><td> 98</td><td>62 </td><td>29 </td><td>73 </td></tr>\n",
       "\t<tr><td> 18</td><td>97 </td><td>39 </td><td>92 </td></tr>\n",
       "\t<tr><td> 27</td><td>16 </td><td>94 </td><td>76 </td></tr>\n",
       "\t<tr><td> 88</td><td>81 </td><td>85 </td><td>36 </td></tr>\n",
       "</tbody>\n",
       "</table>\n"
      ],
      "text/latex": [
       "\\begin{tabular}{llll}\n",
       " a & b & c & d\\\\\n",
       "\\hline\n",
       "\t  51 & 83  & 15  & 43 \\\\\n",
       "\t 100 & 52  & 79  & 25 \\\\\n",
       "\t   4 & 72  & 26  & 46 \\\\\n",
       "\t   6 &  1  &  5  & 60 \\\\\n",
       "\t  64 & 34  & 90  &  7 \\\\\n",
       "\t  49 & 95  & 42  & 82 \\\\\n",
       "\t  98 & 62  & 29  & 73 \\\\\n",
       "\t  18 & 97  & 39  & 92 \\\\\n",
       "\t  27 & 16  & 94  & 76 \\\\\n",
       "\t  88 & 81  & 85  & 36 \\\\\n",
       "\\end{tabular}\n"
      ],
      "text/markdown": [
       "\n",
       "| a | b | c | d |\n",
       "|---|---|---|---|\n",
       "|  51 | 83  | 15  | 43  |\n",
       "| 100 | 52  | 79  | 25  |\n",
       "|   4 | 72  | 26  | 46  |\n",
       "|   6 |  1  |  5  | 60  |\n",
       "|  64 | 34  | 90  |  7  |\n",
       "|  49 | 95  | 42  | 82  |\n",
       "|  98 | 62  | 29  | 73  |\n",
       "|  18 | 97  | 39  | 92  |\n",
       "|  27 | 16  | 94  | 76  |\n",
       "|  88 | 81  | 85  | 36  |\n",
       "\n"
      ],
      "text/plain": [
       "      a   b  c  d \n",
       " [1,]  51 83 15 43\n",
       " [2,] 100 52 79 25\n",
       " [3,]   4 72 26 46\n",
       " [4,]   6  1  5 60\n",
       " [5,]  64 34 90  7\n",
       " [6,]  49 95 42 82\n",
       " [7,]  98 62 29 73\n",
       " [8,]  18 97 39 92\n",
       " [9,]  27 16 94 76\n",
       "[10,]  88 81 85 36"
      ]
     },
     "metadata": {},
     "output_type": "display_data"
    }
   ],
   "source": [
    "mat4"
   ]
  },
  {
   "cell_type": "markdown",
   "metadata": {},
   "source": [
    "#### II.D.10. Sélectionnez deux colonnes par leurs noms."
   ]
  },
  {
   "cell_type": "code",
   "execution_count": 94,
   "metadata": {},
   "outputs": [
    {
     "data": {
      "text/html": [
       "<table>\n",
       "<thead><tr><th scope=col>a</th><th scope=col>b</th></tr></thead>\n",
       "<tbody>\n",
       "\t<tr><td> 51</td><td>83 </td></tr>\n",
       "\t<tr><td>100</td><td>52 </td></tr>\n",
       "\t<tr><td>  4</td><td>72 </td></tr>\n",
       "\t<tr><td>  6</td><td> 1 </td></tr>\n",
       "\t<tr><td> 64</td><td>34 </td></tr>\n",
       "\t<tr><td> 49</td><td>95 </td></tr>\n",
       "\t<tr><td> 98</td><td>62 </td></tr>\n",
       "\t<tr><td> 18</td><td>97 </td></tr>\n",
       "\t<tr><td> 27</td><td>16 </td></tr>\n",
       "\t<tr><td> 88</td><td>81 </td></tr>\n",
       "</tbody>\n",
       "</table>\n"
      ],
      "text/latex": [
       "\\begin{tabular}{ll}\n",
       " a & b\\\\\n",
       "\\hline\n",
       "\t  51 & 83 \\\\\n",
       "\t 100 & 52 \\\\\n",
       "\t   4 & 72 \\\\\n",
       "\t   6 &  1 \\\\\n",
       "\t  64 & 34 \\\\\n",
       "\t  49 & 95 \\\\\n",
       "\t  98 & 62 \\\\\n",
       "\t  18 & 97 \\\\\n",
       "\t  27 & 16 \\\\\n",
       "\t  88 & 81 \\\\\n",
       "\\end{tabular}\n"
      ],
      "text/markdown": [
       "\n",
       "| a | b |\n",
       "|---|---|\n",
       "|  51 | 83  |\n",
       "| 100 | 52  |\n",
       "|   4 | 72  |\n",
       "|   6 |  1  |\n",
       "|  64 | 34  |\n",
       "|  49 | 95  |\n",
       "|  98 | 62  |\n",
       "|  18 | 97  |\n",
       "|  27 | 16  |\n",
       "|  88 | 81  |\n",
       "\n"
      ],
      "text/plain": [
       "      a   b \n",
       " [1,]  51 83\n",
       " [2,] 100 52\n",
       " [3,]   4 72\n",
       " [4,]   6  1\n",
       " [5,]  64 34\n",
       " [6,]  49 95\n",
       " [7,]  98 62\n",
       " [8,]  18 97\n",
       " [9,]  27 16\n",
       "[10,]  88 81"
      ]
     },
     "metadata": {},
     "output_type": "display_data"
    }
   ],
   "source": [
    "mat4[,c(\"a\",\"b\")]"
   ]
  },
  {
   "cell_type": "markdown",
   "metadata": {},
   "source": [
    "#### II.D.11. Essayez d’utiliser des fonctions de statistiques de base directement sur des matrices (somme, moyenne, min, max). Comment s’appliquent-elles?"
   ]
  },
  {
   "cell_type": "code",
   "execution_count": 96,
   "metadata": {},
   "outputs": [
    {
     "data": {
      "text/html": [
       "2142"
      ],
      "text/latex": [
       "2142"
      ],
      "text/markdown": [
       "2142"
      ],
      "text/plain": [
       "[1] 2142"
      ]
     },
     "metadata": {},
     "output_type": "display_data"
    }
   ],
   "source": [
    "#somme\n",
    "sum(mat4)"
   ]
  },
  {
   "cell_type": "code",
   "execution_count": 97,
   "metadata": {},
   "outputs": [
    {
     "data": {
      "text/html": [
       "53.55"
      ],
      "text/latex": [
       "53.55"
      ],
      "text/markdown": [
       "53.55"
      ],
      "text/plain": [
       "[1] 53.55"
      ]
     },
     "metadata": {},
     "output_type": "display_data"
    }
   ],
   "source": [
    "#moyenne\n",
    "mean(mat4)"
   ]
  },
  {
   "cell_type": "code",
   "execution_count": 98,
   "metadata": {},
   "outputs": [
    {
     "data": {
      "text/html": [
       "1"
      ],
      "text/latex": [
       "1"
      ],
      "text/markdown": [
       "1"
      ],
      "text/plain": [
       "[1] 1"
      ]
     },
     "metadata": {},
     "output_type": "display_data"
    }
   ],
   "source": [
    "#min\n",
    "min(mat4)"
   ]
  },
  {
   "cell_type": "code",
   "execution_count": 99,
   "metadata": {},
   "outputs": [
    {
     "data": {
      "text/html": [
       "100"
      ],
      "text/latex": [
       "100"
      ],
      "text/markdown": [
       "100"
      ],
      "text/plain": [
       "[1] 100"
      ]
     },
     "metadata": {},
     "output_type": "display_data"
    }
   ],
   "source": [
    "max(mat4)"
   ]
  },
  {
   "cell_type": "markdown",
   "metadata": {},
   "source": [
    "## III. Les conditions et les boucles"
   ]
  },
  {
   "cell_type": "markdown",
   "metadata": {},
   "source": [
    "### III.A. Les boucles"
   ]
  },
  {
   "cell_type": "markdown",
   "metadata": {},
   "source": [
    "Les boucles ont la même logique sur Python et sur R, mais la syntaxe diffère légèrement :"
   ]
  },
  {
   "cell_type": "code",
   "execution_count": 100,
   "metadata": {},
   "outputs": [
    {
     "name": "stdout",
     "output_type": "stream",
     "text": [
      "[1] 1\n",
      "[1] 2\n",
      "[1] 3\n",
      "[1] 4\n",
      "[1] 5\n",
      "[1] 6\n",
      "[1] 7\n",
      "[1] 8\n",
      "[1] 9\n",
      "[1] 10\n"
     ]
    }
   ],
   "source": [
    "for (i in c(1:10)){ \n",
    "  # ! N'oubliez pas de mettre la condition entre parenthèses après le for et \n",
    "  # de définir la boucle à l'intérieur d'accolades\n",
    "  print(i)\n",
    "}"
   ]
  },
  {
   "cell_type": "markdown",
   "metadata": {},
   "source": [
    "### III.B. If…then…\n",
    "\n",
    "Les conditions if et then ont également la même logique sur Python et sur R, la syntaxe est la suivante :"
   ]
  },
  {
   "cell_type": "code",
   "execution_count": 101,
   "metadata": {},
   "outputs": [
    {
     "name": "stdout",
     "output_type": "stream",
     "text": [
      "[1] 1\n",
      "[1] 2\n",
      "[1] 3\n",
      "[1] 4\n",
      "[1] 5\n",
      "[1] 600\n",
      "[1] 0\n",
      "[1] 0\n",
      "[1] 0\n",
      "[1] 0\n"
     ]
    }
   ],
   "source": [
    "for (i in c(1:10)){ \n",
    "  # ! N'oubliez pas de mettre la condition entre parenthèses après le for et \n",
    "  # de définir la boucle à l'intérieur d'accolades\n",
    "  if (i <= 5){\n",
    "    print(i)\n",
    "  } else if (i == 6) {\n",
    "    print(i * 100)\n",
    "  } else {\n",
    "    print(0)\n",
    "  }\n",
    "}"
   ]
  },
  {
   "cell_type": "markdown",
   "metadata": {},
   "source": [
    "Note : Les accolades ne servent que pour écrire les conditions sur plusieurs lignes, on peut de manière équivalente écrire :"
   ]
  },
  {
   "cell_type": "code",
   "execution_count": 102,
   "metadata": {},
   "outputs": [
    {
     "name": "stdout",
     "output_type": "stream",
     "text": [
      "[1] 1\n",
      "[1] 2\n",
      "[1] 3\n",
      "[1] 4\n",
      "[1] 5\n",
      "[1] 600\n",
      "[1] 0\n",
      "[1] 0\n",
      "[1] 0\n",
      "[1] 0\n"
     ]
    }
   ],
   "source": [
    "for (i in c(1:10)){ \n",
    "  # ! N'oubliez pas de mettre la condition entre parenthèses après le for et \n",
    "  # de définir la boucle à l'intérieur d'accolades\n",
    "  if (i <= 5) print(i) \n",
    "  else  if (i == 6) print(i * 100)\n",
    "  else print(0)\n",
    "}"
   ]
  },
  {
   "cell_type": "markdown",
   "metadata": {},
   "source": [
    "#### III.B.1. À vous! En faisant tourner une boucle, renvoyez les indices des lignes de mat4 dont la troisième colonne est < 40."
   ]
  },
  {
   "cell_type": "code",
   "execution_count": 104,
   "metadata": {},
   "outputs": [
    {
     "data": {
      "text/html": [
       "<table>\n",
       "<thead><tr><th scope=col>a</th><th scope=col>b</th><th scope=col>c</th><th scope=col>d</th></tr></thead>\n",
       "<tbody>\n",
       "\t<tr><td> 51</td><td>83 </td><td>15 </td><td>43 </td></tr>\n",
       "\t<tr><td>100</td><td>52 </td><td>79 </td><td>25 </td></tr>\n",
       "\t<tr><td>  4</td><td>72 </td><td>26 </td><td>46 </td></tr>\n",
       "\t<tr><td>  6</td><td> 1 </td><td> 5 </td><td>60 </td></tr>\n",
       "\t<tr><td> 64</td><td>34 </td><td>90 </td><td> 7 </td></tr>\n",
       "\t<tr><td> 49</td><td>95 </td><td>42 </td><td>82 </td></tr>\n",
       "\t<tr><td> 98</td><td>62 </td><td>29 </td><td>73 </td></tr>\n",
       "\t<tr><td> 18</td><td>97 </td><td>39 </td><td>92 </td></tr>\n",
       "\t<tr><td> 27</td><td>16 </td><td>94 </td><td>76 </td></tr>\n",
       "\t<tr><td> 88</td><td>81 </td><td>85 </td><td>36 </td></tr>\n",
       "</tbody>\n",
       "</table>\n"
      ],
      "text/latex": [
       "\\begin{tabular}{llll}\n",
       " a & b & c & d\\\\\n",
       "\\hline\n",
       "\t  51 & 83  & 15  & 43 \\\\\n",
       "\t 100 & 52  & 79  & 25 \\\\\n",
       "\t   4 & 72  & 26  & 46 \\\\\n",
       "\t   6 &  1  &  5  & 60 \\\\\n",
       "\t  64 & 34  & 90  &  7 \\\\\n",
       "\t  49 & 95  & 42  & 82 \\\\\n",
       "\t  98 & 62  & 29  & 73 \\\\\n",
       "\t  18 & 97  & 39  & 92 \\\\\n",
       "\t  27 & 16  & 94  & 76 \\\\\n",
       "\t  88 & 81  & 85  & 36 \\\\\n",
       "\\end{tabular}\n"
      ],
      "text/markdown": [
       "\n",
       "| a | b | c | d |\n",
       "|---|---|---|---|\n",
       "|  51 | 83  | 15  | 43  |\n",
       "| 100 | 52  | 79  | 25  |\n",
       "|   4 | 72  | 26  | 46  |\n",
       "|   6 |  1  |  5  | 60  |\n",
       "|  64 | 34  | 90  |  7  |\n",
       "|  49 | 95  | 42  | 82  |\n",
       "|  98 | 62  | 29  | 73  |\n",
       "|  18 | 97  | 39  | 92  |\n",
       "|  27 | 16  | 94  | 76  |\n",
       "|  88 | 81  | 85  | 36  |\n",
       "\n"
      ],
      "text/plain": [
       "      a   b  c  d \n",
       " [1,]  51 83 15 43\n",
       " [2,] 100 52 79 25\n",
       " [3,]   4 72 26 46\n",
       " [4,]   6  1  5 60\n",
       " [5,]  64 34 90  7\n",
       " [6,]  49 95 42 82\n",
       " [7,]  98 62 29 73\n",
       " [8,]  18 97 39 92\n",
       " [9,]  27 16 94 76\n",
       "[10,]  88 81 85 36"
      ]
     },
     "metadata": {},
     "output_type": "display_data"
    }
   ],
   "source": [
    "mat4"
   ]
  },
  {
   "cell_type": "code",
   "execution_count": 105,
   "metadata": {},
   "outputs": [
    {
     "data": {
      "text/html": [
       "<ol class=list-inline>\n",
       "\t<li>15</li>\n",
       "\t<li>79</li>\n",
       "\t<li>26</li>\n",
       "\t<li>5</li>\n",
       "\t<li>90</li>\n",
       "\t<li>42</li>\n",
       "\t<li>29</li>\n",
       "\t<li>39</li>\n",
       "\t<li>94</li>\n",
       "\t<li>85</li>\n",
       "</ol>\n"
      ],
      "text/latex": [
       "\\begin{enumerate*}\n",
       "\\item 15\n",
       "\\item 79\n",
       "\\item 26\n",
       "\\item 5\n",
       "\\item 90\n",
       "\\item 42\n",
       "\\item 29\n",
       "\\item 39\n",
       "\\item 94\n",
       "\\item 85\n",
       "\\end{enumerate*}\n"
      ],
      "text/markdown": [
       "1. 15\n",
       "2. 79\n",
       "3. 26\n",
       "4. 5\n",
       "5. 90\n",
       "6. 42\n",
       "7. 29\n",
       "8. 39\n",
       "9. 94\n",
       "10. 85\n",
       "\n",
       "\n"
      ],
      "text/plain": [
       " [1] 15 79 26  5 90 42 29 39 94 85"
      ]
     },
     "metadata": {},
     "output_type": "display_data"
    }
   ],
   "source": [
    "mat4[,c(\"c\")]"
   ]
  },
  {
   "cell_type": "code",
   "execution_count": 111,
   "metadata": {},
   "outputs": [
    {
     "name": "stdout",
     "output_type": "stream",
     "text": [
      "[1] 15\n",
      "[1] 26\n",
      "[1] 5\n",
      "[1] 29\n",
      "[1] 39\n"
     ]
    }
   ],
   "source": [
    "for (i in mat4[,c(\"c\")]){\n",
    "    if (i < 40) print(i)\n",
    "}"
   ]
  },
  {
   "cell_type": "code",
   "execution_count": null,
   "metadata": {},
   "outputs": [],
   "source": []
  },
  {
   "cell_type": "code",
   "execution_count": 142,
   "metadata": {},
   "outputs": [
    {
     "name": "stdout",
     "output_type": "stream",
     "text": [
      "[1] \"15 1\"\n",
      "[1] \"26 3\"\n",
      "[1] \"5 4\"\n",
      "[1] \"29 7\"\n",
      "[1] \"39 8\"\n"
     ]
    }
   ],
   "source": [
    "row = 0\n",
    "for (i in mat4[,c(\"c\")]){ \n",
    "    row = row + 1\n",
    "    if (i < 40){\n",
    "        r = as.character(row)\n",
    "        i = as.character(i)\n",
    "        #print(i, r)\n",
    "        str = paste(i, r, sep=\" \")\n",
    "        print(str)\n",
    "    }\n",
    "}"
   ]
  },
  {
   "cell_type": "markdown",
   "metadata": {},
   "source": [
    "#### III.B.2. Bonus : seriez-vous capables de me stocker les résultats dans un vecteur, comme je l’ai fait ici :"
   ]
  },
  {
   "cell_type": "code",
   "execution_count": 107,
   "metadata": {},
   "outputs": [],
   "source": [
    "## [1] 4 5 6 8"
   ]
  },
  {
   "cell_type": "code",
   "execution_count": 143,
   "metadata": {},
   "outputs": [],
   "source": [
    "vec = c(r)"
   ]
  },
  {
   "cell_type": "code",
   "execution_count": 144,
   "metadata": {},
   "outputs": [
    {
     "data": {
      "text/html": [
       "'8'"
      ],
      "text/latex": [
       "'8'"
      ],
      "text/markdown": [
       "'8'"
      ],
      "text/plain": [
       "[1] \"8\""
      ]
     },
     "metadata": {},
     "output_type": "display_data"
    }
   ],
   "source": [
    "vec"
   ]
  },
  {
   "cell_type": "markdown",
   "metadata": {},
   "source": [
    "## IV. Les listes et les fonctions"
   ]
  },
  {
   "cell_type": "markdown",
   "metadata": {},
   "source": [
    "### IV.A. Les listes\n",
    "\n",
    "Les listes sont des ensembles d’éléments pas forcément de même type. Une liste se définit avec la fonction list :"
   ]
  },
  {
   "cell_type": "code",
   "execution_count": 145,
   "metadata": {},
   "outputs": [
    {
     "data": {
      "text/html": [
       "<ol>\n",
       "\t<li>1</li>\n",
       "\t<li>'ah tiens'</li>\n",
       "\t<li>4</li>\n",
       "\t<li>' qu\\'est-ce que je fais à côté d\\'un 4'</li>\n",
       "</ol>\n"
      ],
      "text/latex": [
       "\\begin{enumerate}\n",
       "\\item 1\n",
       "\\item 'ah tiens'\n",
       "\\item 4\n",
       "\\item ' qu\\textbackslash{}'est-ce que je fais à côté d\\textbackslash{}'un 4'\n",
       "\\end{enumerate}\n"
      ],
      "text/markdown": [
       "1. 1\n",
       "2. 'ah tiens'\n",
       "3. 4\n",
       "4. ' qu\\'est-ce que je fais à côté d\\'un 4'\n",
       "\n",
       "\n"
      ],
      "text/plain": [
       "[[1]]\n",
       "[1] 1\n",
       "\n",
       "[[2]]\n",
       "[1] \"ah tiens\"\n",
       "\n",
       "[[3]]\n",
       "[1] 4\n",
       "\n",
       "[[4]]\n",
       "[1] \" qu'est-ce que je fais à côté d'un 4\"\n"
      ]
     },
     "metadata": {},
     "output_type": "display_data"
    }
   ],
   "source": [
    "l1 <- list(1, \"ah tiens\", 4, \" qu'est-ce que je fais à côté d'un 4\")\n",
    "l1"
   ]
  },
  {
   "cell_type": "markdown",
   "metadata": {},
   "source": [
    "Les éléments peuvent s’appeler avec leur position ou, lorsqu’ils en ont, de leur nom :"
   ]
  },
  {
   "cell_type": "code",
   "execution_count": 152,
   "metadata": {},
   "outputs": [
    {
     "data": {
      "text/html": [
       "4"
      ],
      "text/latex": [
       "4"
      ],
      "text/markdown": [
       "4"
      ],
      "text/plain": [
       "[1] 4"
      ]
     },
     "metadata": {},
     "output_type": "display_data"
    }
   ],
   "source": [
    "l2 <- list(\"var1\" = 1, \"var2\" = \"v'là autre chose\", \"var3\" = 4, \"var4\" = \"je ne suis pas un numéro\")\n",
    "l2[[\"var3\"]]"
   ]
  },
  {
   "cell_type": "code",
   "execution_count": 153,
   "metadata": {},
   "outputs": [
    {
     "data": {
      "text/html": [
       "4"
      ],
      "text/latex": [
       "4"
      ],
      "text/markdown": [
       "4"
      ],
      "text/plain": [
       "[1] 4"
      ]
     },
     "metadata": {},
     "output_type": "display_data"
    }
   ],
   "source": [
    "l2[[3]]"
   ]
  },
  {
   "cell_type": "markdown",
   "metadata": {},
   "source": [
    "Attention : [ renvoie à la sous-liste de l’élément demandé, ici le numéro 4 et le nom associé :"
   ]
  },
  {
   "cell_type": "code",
   "execution_count": 154,
   "metadata": {},
   "outputs": [
    {
     "data": {
      "text/html": [
       "<strong>$var3</strong> = 4"
      ],
      "text/latex": [
       "\\textbf{\\$var3} = 4"
      ],
      "text/markdown": [
       "**$var3** = 4"
      ],
      "text/plain": [
       "$var3\n",
       "[1] 4\n"
      ]
     },
     "metadata": {},
     "output_type": "display_data"
    }
   ],
   "source": [
    "l2[\"var3\"]"
   ]
  },
  {
   "cell_type": "markdown",
   "metadata": {},
   "source": [
    "Au contraire, [[ renvoie directement à l’élément, soit 4. Cette dernière notation est équivalent à l’appel avec $, lorsque la liste est nommée, que nous utiliserons le plus souvent pour faire appel à une variable d’un dataframe :"
   ]
  },
  {
   "cell_type": "code",
   "execution_count": 155,
   "metadata": {},
   "outputs": [
    {
     "data": {
      "text/html": [
       "4"
      ],
      "text/latex": [
       "4"
      ],
      "text/markdown": [
       "4"
      ],
      "text/plain": [
       "[1] 4"
      ]
     },
     "metadata": {},
     "output_type": "display_data"
    }
   ],
   "source": [
    "l2$var3"
   ]
  },
  {
   "cell_type": "markdown",
   "metadata": {},
   "source": [
    "Enfin, on peut concaténer des listes entre elles avec c() :"
   ]
  },
  {
   "cell_type": "code",
   "execution_count": 156,
   "metadata": {},
   "outputs": [
    {
     "name": "stdout",
     "output_type": "stream",
     "text": [
      "[[1]]\n",
      "[1] 1\n",
      "\n",
      "[[2]]\n",
      "[1] \"ah tiens\"\n",
      "\n",
      "[[3]]\n",
      "[1] 4\n",
      "\n",
      "[[4]]\n",
      "[1] \" qu'est-ce que je fais à côté d'un 4\"\n",
      "\n",
      "$var1\n",
      "[1] 1\n",
      "\n",
      "$var2\n",
      "[1] \"v'là autre chose\"\n",
      "\n",
      "$var3\n",
      "[1] 4\n",
      "\n",
      "$var4\n",
      "[1] \"je ne suis pas un numéro\"\n",
      "\n"
     ]
    }
   ],
   "source": [
    "l3 <- c(l1, l2)\n",
    "print(l3)"
   ]
  },
  {
   "cell_type": "markdown",
   "metadata": {},
   "source": [
    "#### IV.A.1. À vous! créez une liste contenant une matrice numérique que vous nommerez mat_liste, un charactère ch_liste et un booléen bool_liste. Faites la somme des éléments de la matrice appelée depuis la liste."
   ]
  },
  {
   "cell_type": "code",
   "execution_count": 158,
   "metadata": {},
   "outputs": [
    {
     "data": {
      "text/html": [
       "<table>\n",
       "<tbody>\n",
       "\t<tr><td>1</td><td>3</td></tr>\n",
       "\t<tr><td>2</td><td>4</td></tr>\n",
       "</tbody>\n",
       "</table>\n"
      ],
      "text/latex": [
       "\\begin{tabular}{ll}\n",
       "\t 1 & 3\\\\\n",
       "\t 2 & 4\\\\\n",
       "\\end{tabular}\n"
      ],
      "text/markdown": [
       "\n",
       "| 1 | 3 |\n",
       "| 2 | 4 |\n",
       "\n"
      ],
      "text/plain": [
       "     [,1] [,2]\n",
       "[1,] 1    3   \n",
       "[2,] 2    4   "
      ]
     },
     "metadata": {},
     "output_type": "display_data"
    }
   ],
   "source": [
    "# une matrice numérique\n",
    "mat_liste = matrix(data = 1:4, nrow = 2, ncol = 2)\n",
    "mat_liste"
   ]
  },
  {
   "cell_type": "code",
   "execution_count": 159,
   "metadata": {},
   "outputs": [
    {
     "data": {
      "text/html": [
       "'v\\'là autre chose'"
      ],
      "text/latex": [
       "'v\\textbackslash{}'là autre chose'"
      ],
      "text/markdown": [
       "'v\\'là autre chose'"
      ],
      "text/plain": [
       "[1] \"v'là autre chose\""
      ]
     },
     "metadata": {},
     "output_type": "display_data"
    }
   ],
   "source": [
    "ch_liste = \"v'là autre chose\"\n",
    "ch_liste"
   ]
  },
  {
   "cell_type": "code",
   "execution_count": 160,
   "metadata": {},
   "outputs": [],
   "source": [
    "bool_liste = TRUE"
   ]
  },
  {
   "cell_type": "code",
   "execution_count": 161,
   "metadata": {},
   "outputs": [],
   "source": [
    "l4 <- c(mat_liste , ch_liste, bool_liste)"
   ]
  },
  {
   "cell_type": "code",
   "execution_count": 162,
   "metadata": {},
   "outputs": [
    {
     "data": {
      "text/html": [
       "<ol class=list-inline>\n",
       "\t<li>'1'</li>\n",
       "\t<li>'2'</li>\n",
       "\t<li>'3'</li>\n",
       "\t<li>'4'</li>\n",
       "\t<li>'v\\'là autre chose'</li>\n",
       "\t<li>'TRUE'</li>\n",
       "</ol>\n"
      ],
      "text/latex": [
       "\\begin{enumerate*}\n",
       "\\item '1'\n",
       "\\item '2'\n",
       "\\item '3'\n",
       "\\item '4'\n",
       "\\item 'v\\textbackslash{}'là autre chose'\n",
       "\\item 'TRUE'\n",
       "\\end{enumerate*}\n"
      ],
      "text/markdown": [
       "1. '1'\n",
       "2. '2'\n",
       "3. '3'\n",
       "4. '4'\n",
       "5. 'v\\'là autre chose'\n",
       "6. 'TRUE'\n",
       "\n",
       "\n"
      ],
      "text/plain": [
       "[1] \"1\"                \"2\"                \"3\"                \"4\"               \n",
       "[5] \"v'là autre chose\" \"TRUE\"            "
      ]
     },
     "metadata": {},
     "output_type": "display_data"
    }
   ],
   "source": [
    "l4"
   ]
  },
  {
   "cell_type": "code",
   "execution_count": 179,
   "metadata": {},
   "outputs": [
    {
     "name": "stderr",
     "output_type": "stream",
     "text": [
      "Warning message in which(l4 == as.integer(l4)):\n",
      "\"NAs introduits lors de la conversion automatique\""
     ]
    },
    {
     "data": {
      "text/html": [
       "10"
      ],
      "text/latex": [
       "10"
      ],
      "text/markdown": [
       "10"
      ],
      "text/plain": [
       "[1] 10"
      ]
     },
     "metadata": {},
     "output_type": "display_data"
    }
   ],
   "source": [
    "sum(which(l4==as.integer(l4)))"
   ]
  },
  {
   "cell_type": "markdown",
   "metadata": {},
   "source": [
    "### IV.B. Les fonctions\n",
    "\n",
    "Les fonctions dans R se définissent ainsi :"
   ]
  },
  {
   "cell_type": "code",
   "execution_count": 136,
   "metadata": {},
   "outputs": [
    {
     "data": {
      "text/html": [
       "10"
      ],
      "text/latex": [
       "10"
      ],
      "text/markdown": [
       "10"
      ],
      "text/plain": [
       "[1] 10"
      ]
     },
     "metadata": {},
     "output_type": "display_data"
    }
   ],
   "source": [
    "ma_fonc <- function(x1, x2){\n",
    "  x3 <- x1 + x2\n",
    "  return(x3)\n",
    "}\n",
    "ma_fonc(4, 6)"
   ]
  },
  {
   "cell_type": "markdown",
   "metadata": {},
   "source": [
    "On peut définir des valeurs par défaut :"
   ]
  },
  {
   "cell_type": "code",
   "execution_count": 137,
   "metadata": {},
   "outputs": [
    {
     "data": {
      "text/html": [
       "6"
      ],
      "text/latex": [
       "6"
      ],
      "text/markdown": [
       "6"
      ],
      "text/plain": [
       "[1] 6"
      ]
     },
     "metadata": {},
     "output_type": "display_data"
    }
   ],
   "source": [
    "ma_fonc <- function(x1 = 2, x2 = 4){\n",
    "  x3 <- x1 + x2\n",
    "  return(x3)\n",
    "}\n",
    "ma_fonc()"
   ]
  },
  {
   "cell_type": "code",
   "execution_count": 138,
   "metadata": {},
   "outputs": [
    {
     "data": {
      "text/html": [
       "10"
      ],
      "text/latex": [
       "10"
      ],
      "text/markdown": [
       "10"
      ],
      "text/plain": [
       "[1] 10"
      ]
     },
     "metadata": {},
     "output_type": "display_data"
    }
   ],
   "source": [
    "ma_fonc(4, 6)"
   ]
  },
  {
   "cell_type": "markdown",
   "metadata": {},
   "source": [
    "Enfin, on peut définir des sorties multiples :"
   ]
  },
  {
   "cell_type": "code",
   "execution_count": 139,
   "metadata": {},
   "outputs": [
    {
     "data": {
      "text/html": [
       "<ol>\n",
       "\t<li>10</li>\n",
       "\t<li>24</li>\n",
       "</ol>\n"
      ],
      "text/latex": [
       "\\begin{enumerate}\n",
       "\\item 10\n",
       "\\item 24\n",
       "\\end{enumerate}\n"
      ],
      "text/markdown": [
       "1. 10\n",
       "2. 24\n",
       "\n",
       "\n"
      ],
      "text/plain": [
       "[[1]]\n",
       "[1] 10\n",
       "\n",
       "[[2]]\n",
       "[1] 24\n"
      ]
     },
     "metadata": {},
     "output_type": "display_data"
    }
   ],
   "source": [
    "ma_fonc <- function(x1 = 2, x2 = 4){\n",
    "  x3 <- x1 + x2\n",
    "  x4 <- x1 * x2\n",
    "  return(list(x3, x4))\n",
    "}\n",
    "ma_fonc(4, 6)"
   ]
  },
  {
   "cell_type": "markdown",
   "metadata": {},
   "source": [
    "#### IV.B.1. À vous! Créez une fonction is_pair\n",
    "qui renvoie TRUE si le paramètre en entrée est pair, FALSE sinon. \n",
    "Faites en sorte qu’une erreur s’affiche si le paramètre en entrée n’est pas une variable numérique\n",
    "(utilisez pour cela la fonction stop())\n",
    "\n",
    "On a les mêmes résultats ? :"
   ]
  },
  {
   "cell_type": "code",
   "execution_count": 182,
   "metadata": {},
   "outputs": [],
   "source": [
    "is_pair <- function(x){\n",
    "    if (x==is.character(x)) stop()\n",
    "    else if (x%%2 == 0) return(TRUE)\n",
    "    else return(FALSE)\n",
    "}"
   ]
  },
  {
   "cell_type": "code",
   "execution_count": 183,
   "metadata": {},
   "outputs": [
    {
     "data": {
      "text/html": [
       "TRUE"
      ],
      "text/latex": [
       "TRUE"
      ],
      "text/markdown": [
       "TRUE"
      ],
      "text/plain": [
       "[1] TRUE"
      ]
     },
     "metadata": {},
     "output_type": "display_data"
    }
   ],
   "source": [
    "is_pair(2)"
   ]
  },
  {
   "cell_type": "code",
   "execution_count": 184,
   "metadata": {},
   "outputs": [
    {
     "data": {
      "text/html": [
       "FALSE"
      ],
      "text/latex": [
       "FALSE"
      ],
      "text/markdown": [
       "FALSE"
      ],
      "text/plain": [
       "[1] FALSE"
      ]
     },
     "metadata": {},
     "output_type": "display_data"
    }
   ],
   "source": [
    "is_pair(5)"
   ]
  },
  {
   "cell_type": "code",
   "execution_count": 185,
   "metadata": {},
   "outputs": [
    {
     "data": {
      "text/html": [
       "TRUE"
      ],
      "text/latex": [
       "TRUE"
      ],
      "text/markdown": [
       "TRUE"
      ],
      "text/plain": [
       "[1] TRUE"
      ]
     },
     "metadata": {},
     "output_type": "display_data"
    }
   ],
   "source": [
    "is_pair(3895874)"
   ]
  },
  {
   "cell_type": "code",
   "execution_count": 186,
   "metadata": {},
   "outputs": [
    {
     "ename": "ERROR",
     "evalue": "Error in x%%2: argument non numérique pour un opérateur binaire\n",
     "output_type": "error",
     "traceback": [
      "Error in x%%2: argument non numérique pour un opérateur binaire\nTraceback:\n",
      "1. is_pair(\"mais enfin\")"
     ]
    }
   ],
   "source": [
    "is_pair(\"mais enfin\")"
   ]
  },
  {
   "cell_type": "markdown",
   "metadata": {},
   "source": [
    "## VI. Appliquer des fonctions à un ensemble d’éléments avec *apply"
   ]
  },
  {
   "cell_type": "markdown",
   "metadata": {},
   "source": [
    "La fonction apply permet d’appliquer une fonction à une certaine dimension d’une matrice. \n",
    "Elle s’écrit apply(X, MARGIN, FUN, ...) avec \n",
    "* X la matrice (ou le dataframe) considéré, \n",
    "* MARGIN le numéro correspondant à la marge (1 si on applique sur les lignes, 2 sur les colonnes)."
   ]
  },
  {
   "cell_type": "markdown",
   "metadata": {},
   "source": [
    "### VI.1 Exemple : Créez une matrice numérique mat5 de dimension 20 * 3 avec la fonction sample. \n",
    "Lancez sum(mat5), apply(mat5, 1, sum) et apply(mat5, 2, sum). Expliquez les résultats."
   ]
  },
  {
   "cell_type": "code",
   "execution_count": 188,
   "metadata": {},
   "outputs": [
    {
     "name": "stdout",
     "output_type": "stream",
     "text": [
      "      [,1] [,2] [,3]\n",
      " [1,]   78    4   86\n",
      " [2,]   85   45   29\n",
      " [3,]   46   26   40\n",
      " [4,]   20   97    8\n",
      " [5,]   69   32   76\n",
      " [6,]   37    2   62\n",
      " [7,]   74   28   56\n",
      " [8,]   91   38   51\n",
      " [9,]   70   82   11\n",
      "[10,]    7   35   66\n",
      "[11,]   75   17   22\n",
      "[12,]   83   81   77\n",
      "[13,]   64   27   92\n",
      "[14,]   18   63   33\n",
      "[15,]   23   94   87\n",
      "[16,]   55   39   19\n",
      "[17,]   36   60   47\n",
      "[18,]   30    3  100\n",
      "[19,]   43   73   50\n",
      "[20,]   48   93   79\n"
     ]
    }
   ],
   "source": [
    "mat5 <- matrix(sample(1:100, 60), nrow = 20, ncol = 3)\n",
    "print(mat5)"
   ]
  },
  {
   "cell_type": "code",
   "execution_count": 189,
   "metadata": {},
   "outputs": [
    {
     "data": {
      "text/html": [
       "3082"
      ],
      "text/latex": [
       "3082"
      ],
      "text/markdown": [
       "3082"
      ],
      "text/plain": [
       "[1] 3082"
      ]
     },
     "metadata": {},
     "output_type": "display_data"
    }
   ],
   "source": [
    "sum(mat5)"
   ]
  },
  {
   "cell_type": "code",
   "execution_count": 190,
   "metadata": {},
   "outputs": [
    {
     "data": {
      "text/html": [
       "<ol class=list-inline>\n",
       "\t<li>168</li>\n",
       "\t<li>159</li>\n",
       "\t<li>112</li>\n",
       "\t<li>125</li>\n",
       "\t<li>177</li>\n",
       "\t<li>101</li>\n",
       "\t<li>158</li>\n",
       "\t<li>180</li>\n",
       "\t<li>163</li>\n",
       "\t<li>108</li>\n",
       "\t<li>114</li>\n",
       "\t<li>241</li>\n",
       "\t<li>183</li>\n",
       "\t<li>114</li>\n",
       "\t<li>204</li>\n",
       "\t<li>113</li>\n",
       "\t<li>143</li>\n",
       "\t<li>133</li>\n",
       "\t<li>166</li>\n",
       "\t<li>220</li>\n",
       "</ol>\n"
      ],
      "text/latex": [
       "\\begin{enumerate*}\n",
       "\\item 168\n",
       "\\item 159\n",
       "\\item 112\n",
       "\\item 125\n",
       "\\item 177\n",
       "\\item 101\n",
       "\\item 158\n",
       "\\item 180\n",
       "\\item 163\n",
       "\\item 108\n",
       "\\item 114\n",
       "\\item 241\n",
       "\\item 183\n",
       "\\item 114\n",
       "\\item 204\n",
       "\\item 113\n",
       "\\item 143\n",
       "\\item 133\n",
       "\\item 166\n",
       "\\item 220\n",
       "\\end{enumerate*}\n"
      ],
      "text/markdown": [
       "1. 168\n",
       "2. 159\n",
       "3. 112\n",
       "4. 125\n",
       "5. 177\n",
       "6. 101\n",
       "7. 158\n",
       "8. 180\n",
       "9. 163\n",
       "10. 108\n",
       "11. 114\n",
       "12. 241\n",
       "13. 183\n",
       "14. 114\n",
       "15. 204\n",
       "16. 113\n",
       "17. 143\n",
       "18. 133\n",
       "19. 166\n",
       "20. 220\n",
       "\n",
       "\n"
      ],
      "text/plain": [
       " [1] 168 159 112 125 177 101 158 180 163 108 114 241 183 114 204 113 143 133 166\n",
       "[20] 220"
      ]
     },
     "metadata": {},
     "output_type": "display_data"
    }
   ],
   "source": [
    "apply(mat5, 1, sum)"
   ]
  },
  {
   "cell_type": "code",
   "execution_count": 191,
   "metadata": {},
   "outputs": [
    {
     "data": {
      "text/html": [
       "<ol class=list-inline>\n",
       "\t<li>1052</li>\n",
       "\t<li>939</li>\n",
       "\t<li>1091</li>\n",
       "</ol>\n"
      ],
      "text/latex": [
       "\\begin{enumerate*}\n",
       "\\item 1052\n",
       "\\item 939\n",
       "\\item 1091\n",
       "\\end{enumerate*}\n"
      ],
      "text/markdown": [
       "1. 1052\n",
       "2. 939\n",
       "3. 1091\n",
       "\n",
       "\n"
      ],
      "text/plain": [
       "[1] 1052  939 1091"
      ]
     },
     "metadata": {},
     "output_type": "display_data"
    }
   ],
   "source": [
    "apply(mat5, 2, sum)"
   ]
  },
  {
   "cell_type": "markdown",
   "metadata": {},
   "source": [
    "### VI.2. Sortez le numéro de la ligne de votre matrice correspondant à la plus faible somme des colonnes.\n",
    "!!! ? erreur lignes ?"
   ]
  },
  {
   "cell_type": "code",
   "execution_count": 192,
   "metadata": {},
   "outputs": [
    {
     "data": {
      "text/html": [
       "101"
      ],
      "text/latex": [
       "101"
      ],
      "text/markdown": [
       "101"
      ],
      "text/plain": [
       "[1] 101"
      ]
     },
     "metadata": {},
     "output_type": "display_data"
    }
   ],
   "source": [
    "min(apply(mat5, 1, sum))"
   ]
  },
  {
   "cell_type": "code",
   "execution_count": 208,
   "metadata": {},
   "outputs": [
    {
     "name": "stdout",
     "output_type": "stream",
     "text": [
      "[1] 6\n"
     ]
    }
   ],
   "source": [
    "row = 0\n",
    "sumrows = apply(mat5, 1, sum)\n",
    "for (i in sumrows){\n",
    "    row = row +1\n",
    "    #print(i)\n",
    "    if (i == min(sumrows)){\n",
    "            print(row)\n",
    "        }\n",
    "    }"
   ]
  },
  {
   "cell_type": "markdown",
   "metadata": {},
   "source": [
    "### VI.3. En utilisant sum et is_pair, sortez le numéro de la ligne contenant le plus de nombres pairs."
   ]
  },
  {
   "cell_type": "markdown",
   "metadata": {},
   "source": [
    "Question étrange : il y a plusieurs ligne qui ont toutes les valeurs pairs"
   ]
  },
  {
   "cell_type": "code",
   "execution_count": null,
   "metadata": {},
   "outputs": [],
   "source": []
  },
  {
   "cell_type": "code",
   "execution_count": 210,
   "metadata": {},
   "outputs": [],
   "source": []
  },
  {
   "cell_type": "code",
   "execution_count": 212,
   "metadata": {},
   "outputs": [],
   "source": [
    "pair = lapply(mat5, is_pair)"
   ]
  },
  {
   "cell_type": "code",
   "execution_count": 215,
   "metadata": {},
   "outputs": [
    {
     "data": {
      "text/html": [
       "<ol>\n",
       "\t<li>TRUE</li>\n",
       "\t<li>FALSE</li>\n",
       "\t<li>TRUE</li>\n",
       "\t<li>TRUE</li>\n",
       "\t<li>FALSE</li>\n",
       "\t<li>FALSE</li>\n",
       "\t<li>TRUE</li>\n",
       "\t<li>FALSE</li>\n",
       "\t<li>TRUE</li>\n",
       "\t<li>FALSE</li>\n",
       "\t<li>FALSE</li>\n",
       "\t<li>FALSE</li>\n",
       "\t<li>TRUE</li>\n",
       "\t<li>TRUE</li>\n",
       "\t<li>FALSE</li>\n",
       "\t<li>FALSE</li>\n",
       "\t<li>TRUE</li>\n",
       "\t<li>TRUE</li>\n",
       "\t<li>FALSE</li>\n",
       "\t<li>TRUE</li>\n",
       "\t<li>TRUE</li>\n",
       "\t<li>FALSE</li>\n",
       "\t<li>TRUE</li>\n",
       "\t<li>FALSE</li>\n",
       "\t<li>TRUE</li>\n",
       "\t<li>TRUE</li>\n",
       "\t<li>TRUE</li>\n",
       "\t<li>TRUE</li>\n",
       "\t<li>TRUE</li>\n",
       "\t<li>FALSE</li>\n",
       "\t<li>FALSE</li>\n",
       "\t<li>FALSE</li>\n",
       "\t<li>FALSE</li>\n",
       "\t<li>FALSE</li>\n",
       "\t<li>TRUE</li>\n",
       "\t<li>FALSE</li>\n",
       "\t<li>TRUE</li>\n",
       "\t<li>FALSE</li>\n",
       "\t<li>FALSE</li>\n",
       "\t<li>FALSE</li>\n",
       "\t<li>TRUE</li>\n",
       "\t<li>FALSE</li>\n",
       "\t<li>TRUE</li>\n",
       "\t<li>TRUE</li>\n",
       "\t<li>TRUE</li>\n",
       "\t<li>TRUE</li>\n",
       "\t<li>TRUE</li>\n",
       "\t<li>FALSE</li>\n",
       "\t<li>FALSE</li>\n",
       "\t<li>TRUE</li>\n",
       "\t<li>TRUE</li>\n",
       "\t<li>FALSE</li>\n",
       "\t<li>TRUE</li>\n",
       "\t<li>FALSE</li>\n",
       "\t<li>FALSE</li>\n",
       "\t<li>FALSE</li>\n",
       "\t<li>FALSE</li>\n",
       "\t<li>TRUE</li>\n",
       "\t<li>TRUE</li>\n",
       "\t<li>FALSE</li>\n",
       "</ol>\n"
      ],
      "text/latex": [
       "\\begin{enumerate}\n",
       "\\item TRUE\n",
       "\\item FALSE\n",
       "\\item TRUE\n",
       "\\item TRUE\n",
       "\\item FALSE\n",
       "\\item FALSE\n",
       "\\item TRUE\n",
       "\\item FALSE\n",
       "\\item TRUE\n",
       "\\item FALSE\n",
       "\\item FALSE\n",
       "\\item FALSE\n",
       "\\item TRUE\n",
       "\\item TRUE\n",
       "\\item FALSE\n",
       "\\item FALSE\n",
       "\\item TRUE\n",
       "\\item TRUE\n",
       "\\item FALSE\n",
       "\\item TRUE\n",
       "\\item TRUE\n",
       "\\item FALSE\n",
       "\\item TRUE\n",
       "\\item FALSE\n",
       "\\item TRUE\n",
       "\\item TRUE\n",
       "\\item TRUE\n",
       "\\item TRUE\n",
       "\\item TRUE\n",
       "\\item FALSE\n",
       "\\item FALSE\n",
       "\\item FALSE\n",
       "\\item FALSE\n",
       "\\item FALSE\n",
       "\\item TRUE\n",
       "\\item FALSE\n",
       "\\item TRUE\n",
       "\\item FALSE\n",
       "\\item FALSE\n",
       "\\item FALSE\n",
       "\\item TRUE\n",
       "\\item FALSE\n",
       "\\item TRUE\n",
       "\\item TRUE\n",
       "\\item TRUE\n",
       "\\item TRUE\n",
       "\\item TRUE\n",
       "\\item FALSE\n",
       "\\item FALSE\n",
       "\\item TRUE\n",
       "\\item TRUE\n",
       "\\item FALSE\n",
       "\\item TRUE\n",
       "\\item FALSE\n",
       "\\item FALSE\n",
       "\\item FALSE\n",
       "\\item FALSE\n",
       "\\item TRUE\n",
       "\\item TRUE\n",
       "\\item FALSE\n",
       "\\end{enumerate}\n"
      ],
      "text/markdown": [
       "1. TRUE\n",
       "2. FALSE\n",
       "3. TRUE\n",
       "4. TRUE\n",
       "5. FALSE\n",
       "6. FALSE\n",
       "7. TRUE\n",
       "8. FALSE\n",
       "9. TRUE\n",
       "10. FALSE\n",
       "11. FALSE\n",
       "12. FALSE\n",
       "13. TRUE\n",
       "14. TRUE\n",
       "15. FALSE\n",
       "16. FALSE\n",
       "17. TRUE\n",
       "18. TRUE\n",
       "19. FALSE\n",
       "20. TRUE\n",
       "21. TRUE\n",
       "22. FALSE\n",
       "23. TRUE\n",
       "24. FALSE\n",
       "25. TRUE\n",
       "26. TRUE\n",
       "27. TRUE\n",
       "28. TRUE\n",
       "29. TRUE\n",
       "30. FALSE\n",
       "31. FALSE\n",
       "32. FALSE\n",
       "33. FALSE\n",
       "34. FALSE\n",
       "35. TRUE\n",
       "36. FALSE\n",
       "37. TRUE\n",
       "38. FALSE\n",
       "39. FALSE\n",
       "40. FALSE\n",
       "41. TRUE\n",
       "42. FALSE\n",
       "43. TRUE\n",
       "44. TRUE\n",
       "45. TRUE\n",
       "46. TRUE\n",
       "47. TRUE\n",
       "48. FALSE\n",
       "49. FALSE\n",
       "50. TRUE\n",
       "51. TRUE\n",
       "52. FALSE\n",
       "53. TRUE\n",
       "54. FALSE\n",
       "55. FALSE\n",
       "56. FALSE\n",
       "57. FALSE\n",
       "58. TRUE\n",
       "59. TRUE\n",
       "60. FALSE\n",
       "\n",
       "\n"
      ],
      "text/plain": [
       "[[1]]\n",
       "[1] TRUE\n",
       "\n",
       "[[2]]\n",
       "[1] FALSE\n",
       "\n",
       "[[3]]\n",
       "[1] TRUE\n",
       "\n",
       "[[4]]\n",
       "[1] TRUE\n",
       "\n",
       "[[5]]\n",
       "[1] FALSE\n",
       "\n",
       "[[6]]\n",
       "[1] FALSE\n",
       "\n",
       "[[7]]\n",
       "[1] TRUE\n",
       "\n",
       "[[8]]\n",
       "[1] FALSE\n",
       "\n",
       "[[9]]\n",
       "[1] TRUE\n",
       "\n",
       "[[10]]\n",
       "[1] FALSE\n",
       "\n",
       "[[11]]\n",
       "[1] FALSE\n",
       "\n",
       "[[12]]\n",
       "[1] FALSE\n",
       "\n",
       "[[13]]\n",
       "[1] TRUE\n",
       "\n",
       "[[14]]\n",
       "[1] TRUE\n",
       "\n",
       "[[15]]\n",
       "[1] FALSE\n",
       "\n",
       "[[16]]\n",
       "[1] FALSE\n",
       "\n",
       "[[17]]\n",
       "[1] TRUE\n",
       "\n",
       "[[18]]\n",
       "[1] TRUE\n",
       "\n",
       "[[19]]\n",
       "[1] FALSE\n",
       "\n",
       "[[20]]\n",
       "[1] TRUE\n",
       "\n",
       "[[21]]\n",
       "[1] TRUE\n",
       "\n",
       "[[22]]\n",
       "[1] FALSE\n",
       "\n",
       "[[23]]\n",
       "[1] TRUE\n",
       "\n",
       "[[24]]\n",
       "[1] FALSE\n",
       "\n",
       "[[25]]\n",
       "[1] TRUE\n",
       "\n",
       "[[26]]\n",
       "[1] TRUE\n",
       "\n",
       "[[27]]\n",
       "[1] TRUE\n",
       "\n",
       "[[28]]\n",
       "[1] TRUE\n",
       "\n",
       "[[29]]\n",
       "[1] TRUE\n",
       "\n",
       "[[30]]\n",
       "[1] FALSE\n",
       "\n",
       "[[31]]\n",
       "[1] FALSE\n",
       "\n",
       "[[32]]\n",
       "[1] FALSE\n",
       "\n",
       "[[33]]\n",
       "[1] FALSE\n",
       "\n",
       "[[34]]\n",
       "[1] FALSE\n",
       "\n",
       "[[35]]\n",
       "[1] TRUE\n",
       "\n",
       "[[36]]\n",
       "[1] FALSE\n",
       "\n",
       "[[37]]\n",
       "[1] TRUE\n",
       "\n",
       "[[38]]\n",
       "[1] FALSE\n",
       "\n",
       "[[39]]\n",
       "[1] FALSE\n",
       "\n",
       "[[40]]\n",
       "[1] FALSE\n",
       "\n",
       "[[41]]\n",
       "[1] TRUE\n",
       "\n",
       "[[42]]\n",
       "[1] FALSE\n",
       "\n",
       "[[43]]\n",
       "[1] TRUE\n",
       "\n",
       "[[44]]\n",
       "[1] TRUE\n",
       "\n",
       "[[45]]\n",
       "[1] TRUE\n",
       "\n",
       "[[46]]\n",
       "[1] TRUE\n",
       "\n",
       "[[47]]\n",
       "[1] TRUE\n",
       "\n",
       "[[48]]\n",
       "[1] FALSE\n",
       "\n",
       "[[49]]\n",
       "[1] FALSE\n",
       "\n",
       "[[50]]\n",
       "[1] TRUE\n",
       "\n",
       "[[51]]\n",
       "[1] TRUE\n",
       "\n",
       "[[52]]\n",
       "[1] FALSE\n",
       "\n",
       "[[53]]\n",
       "[1] TRUE\n",
       "\n",
       "[[54]]\n",
       "[1] FALSE\n",
       "\n",
       "[[55]]\n",
       "[1] FALSE\n",
       "\n",
       "[[56]]\n",
       "[1] FALSE\n",
       "\n",
       "[[57]]\n",
       "[1] FALSE\n",
       "\n",
       "[[58]]\n",
       "[1] TRUE\n",
       "\n",
       "[[59]]\n",
       "[1] TRUE\n",
       "\n",
       "[[60]]\n",
       "[1] FALSE\n"
      ]
     },
     "metadata": {},
     "output_type": "display_data"
    }
   ],
   "source": [
    "pair"
   ]
  },
  {
   "cell_type": "code",
   "execution_count": 214,
   "metadata": {},
   "outputs": [
    {
     "ename": "ERROR",
     "evalue": "Error in mat5[pair]: type 'list' d'indice incorrect\n",
     "output_type": "error",
     "traceback": [
      "Error in mat5[pair]: type 'list' d'indice incorrect\nTraceback:\n"
     ]
    }
   ],
   "source": [
    "mat5[pair]"
   ]
  },
  {
   "cell_type": "code",
   "execution_count": 213,
   "metadata": {},
   "outputs": [
    {
     "ename": "ERROR",
     "evalue": "Error in mat5[pair]: type 'list' d'indice incorrect\n",
     "output_type": "error",
     "traceback": [
      "Error in mat5[pair]: type 'list' d'indice incorrect\nTraceback:\n",
      "1. apply(mat5[pair], 1, sum)"
     ]
    }
   ],
   "source": [
    "sumpair = apply(mat5[pair], 1, sum)"
   ]
  },
  {
   "cell_type": "markdown",
   "metadata": {},
   "source": [
    "## Pour illustrer tapply, nous allons définir la matrice mat6 ainsi :"
   ]
  },
  {
   "cell_type": "code",
   "execution_count": 148,
   "metadata": {},
   "outputs": [
    {
     "data": {
      "text/html": [
       "<table>\n",
       "<tbody>\n",
       "\t<tr><td>1  </td><td>71 </td><td> 41</td><td>24 </td></tr>\n",
       "\t<tr><td>1  </td><td>47 </td><td> 20</td><td>94 </td></tr>\n",
       "\t<tr><td>1  </td><td>18 </td><td> 10</td><td> 6 </td></tr>\n",
       "\t<tr><td>1  </td><td>50 </td><td> 69</td><td>29 </td></tr>\n",
       "\t<tr><td>1  </td><td>15 </td><td>  9</td><td>56 </td></tr>\n",
       "\t<tr><td>2  </td><td>75 </td><td>100</td><td> 1 </td></tr>\n",
       "\t<tr><td>2  </td><td>81 </td><td> 48</td><td>57 </td></tr>\n",
       "\t<tr><td>2  </td><td>22 </td><td> 76</td><td>19 </td></tr>\n",
       "\t<tr><td>2  </td><td>80 </td><td> 84</td><td>34 </td></tr>\n",
       "\t<tr><td>2  </td><td>90 </td><td> 61</td><td>93 </td></tr>\n",
       "\t<tr><td>3  </td><td>77 </td><td> 38</td><td> 8 </td></tr>\n",
       "\t<tr><td>3  </td><td>79 </td><td> 25</td><td>85 </td></tr>\n",
       "\t<tr><td>3  </td><td>26 </td><td> 83</td><td>87 </td></tr>\n",
       "\t<tr><td>3  </td><td> 4 </td><td> 44</td><td>67 </td></tr>\n",
       "\t<tr><td>3  </td><td>42 </td><td> 58</td><td>43 </td></tr>\n",
       "\t<tr><td>4  </td><td>52 </td><td> 14</td><td>37 </td></tr>\n",
       "\t<tr><td>4  </td><td>88 </td><td> 49</td><td>68 </td></tr>\n",
       "\t<tr><td>4  </td><td>63 </td><td> 70</td><td>74 </td></tr>\n",
       "\t<tr><td>4  </td><td> 2 </td><td> 96</td><td>66 </td></tr>\n",
       "\t<tr><td>4  </td><td>32 </td><td> 99</td><td>51 </td></tr>\n",
       "</tbody>\n",
       "</table>\n"
      ],
      "text/latex": [
       "\\begin{tabular}{llll}\n",
       "\t 1   & 71  &  41 & 24 \\\\\n",
       "\t 1   & 47  &  20 & 94 \\\\\n",
       "\t 1   & 18  &  10 &  6 \\\\\n",
       "\t 1   & 50  &  69 & 29 \\\\\n",
       "\t 1   & 15  &   9 & 56 \\\\\n",
       "\t 2   & 75  & 100 &  1 \\\\\n",
       "\t 2   & 81  &  48 & 57 \\\\\n",
       "\t 2   & 22  &  76 & 19 \\\\\n",
       "\t 2   & 80  &  84 & 34 \\\\\n",
       "\t 2   & 90  &  61 & 93 \\\\\n",
       "\t 3   & 77  &  38 &  8 \\\\\n",
       "\t 3   & 79  &  25 & 85 \\\\\n",
       "\t 3   & 26  &  83 & 87 \\\\\n",
       "\t 3   &  4  &  44 & 67 \\\\\n",
       "\t 3   & 42  &  58 & 43 \\\\\n",
       "\t 4   & 52  &  14 & 37 \\\\\n",
       "\t 4   & 88  &  49 & 68 \\\\\n",
       "\t 4   & 63  &  70 & 74 \\\\\n",
       "\t 4   &  2  &  96 & 66 \\\\\n",
       "\t 4   & 32  &  99 & 51 \\\\\n",
       "\\end{tabular}\n"
      ],
      "text/markdown": [
       "\n",
       "| 1   | 71  |  41 | 24  |\n",
       "| 1   | 47  |  20 | 94  |\n",
       "| 1   | 18  |  10 |  6  |\n",
       "| 1   | 50  |  69 | 29  |\n",
       "| 1   | 15  |   9 | 56  |\n",
       "| 2   | 75  | 100 |  1  |\n",
       "| 2   | 81  |  48 | 57  |\n",
       "| 2   | 22  |  76 | 19  |\n",
       "| 2   | 80  |  84 | 34  |\n",
       "| 2   | 90  |  61 | 93  |\n",
       "| 3   | 77  |  38 |  8  |\n",
       "| 3   | 79  |  25 | 85  |\n",
       "| 3   | 26  |  83 | 87  |\n",
       "| 3   |  4  |  44 | 67  |\n",
       "| 3   | 42  |  58 | 43  |\n",
       "| 4   | 52  |  14 | 37  |\n",
       "| 4   | 88  |  49 | 68  |\n",
       "| 4   | 63  |  70 | 74  |\n",
       "| 4   |  2  |  96 | 66  |\n",
       "| 4   | 32  |  99 | 51  |\n",
       "\n"
      ],
      "text/plain": [
       "      [,1] [,2] [,3] [,4]\n",
       " [1,] 1    71    41  24  \n",
       " [2,] 1    47    20  94  \n",
       " [3,] 1    18    10   6  \n",
       " [4,] 1    50    69  29  \n",
       " [5,] 1    15     9  56  \n",
       " [6,] 2    75   100   1  \n",
       " [7,] 2    81    48  57  \n",
       " [8,] 2    22    76  19  \n",
       " [9,] 2    80    84  34  \n",
       "[10,] 2    90    61  93  \n",
       "[11,] 3    77    38   8  \n",
       "[12,] 3    79    25  85  \n",
       "[13,] 3    26    83  87  \n",
       "[14,] 3     4    44  67  \n",
       "[15,] 3    42    58  43  \n",
       "[16,] 4    52    14  37  \n",
       "[17,] 4    88    49  68  \n",
       "[18,] 4    63    70  74  \n",
       "[19,] 4     2    96  66  \n",
       "[20,] 4    32    99  51  "
      ]
     },
     "metadata": {},
     "output_type": "display_data"
    }
   ],
   "source": [
    "mat6 <- matrix(c(rep(1,5), rep(2,5), rep(3,5), rep(4, 5), sample(1:100, 60)), nrow = 20)\n",
    "mat6\n"
   ]
  },
  {
   "cell_type": "code",
   "execution_count": 149,
   "metadata": {},
   "outputs": [
    {
     "data": {
      "text/html": [
       "<dl class=dl-horizontal>\n",
       "\t<dt>1</dt>\n",
       "\t\t<dd>201</dd>\n",
       "\t<dt>2</dt>\n",
       "\t\t<dd>348</dd>\n",
       "\t<dt>3</dt>\n",
       "\t\t<dd>228</dd>\n",
       "\t<dt>4</dt>\n",
       "\t\t<dd>237</dd>\n",
       "</dl>\n"
      ],
      "text/latex": [
       "\\begin{description*}\n",
       "\\item[1] 201\n",
       "\\item[2] 348\n",
       "\\item[3] 228\n",
       "\\item[4] 237\n",
       "\\end{description*}\n"
      ],
      "text/markdown": [
       "1\n",
       ":   2012\n",
       ":   3483\n",
       ":   2284\n",
       ":   237\n",
       "\n"
      ],
      "text/plain": [
       "  1   2   3   4 \n",
       "201 348 228 237 "
      ]
     },
     "metadata": {},
     "output_type": "display_data"
    }
   ],
   "source": [
    "tapply(mat6[, 2], mat6[, 1], sum)"
   ]
  },
  {
   "cell_type": "markdown",
   "metadata": {},
   "source": [
    "tapply(X, INDEX, FUN) va appliquer la fonction définie à un vecteur X pour chaque unique valeur d’un autre vecteur INDEX de la même taille. On peut par exemple obtenir le max de la colonne 2 pour chaque unique valeur de la colonne 1 :"
   ]
  },
  {
   "cell_type": "code",
   "execution_count": 150,
   "metadata": {},
   "outputs": [
    {
     "data": {
      "text/html": [
       "<dl class=dl-horizontal>\n",
       "\t<dt>1</dt>\n",
       "\t\t<dd>71</dd>\n",
       "\t<dt>2</dt>\n",
       "\t\t<dd>90</dd>\n",
       "\t<dt>3</dt>\n",
       "\t\t<dd>79</dd>\n",
       "\t<dt>4</dt>\n",
       "\t\t<dd>88</dd>\n",
       "</dl>\n"
      ],
      "text/latex": [
       "\\begin{description*}\n",
       "\\item[1] 71\n",
       "\\item[2] 90\n",
       "\\item[3] 79\n",
       "\\item[4] 88\n",
       "\\end{description*}\n"
      ],
      "text/markdown": [
       "1\n",
       ":   712\n",
       ":   903\n",
       ":   794\n",
       ":   88\n",
       "\n"
      ],
      "text/plain": [
       " 1  2  3  4 \n",
       "71 90 79 88 "
      ]
     },
     "metadata": {},
     "output_type": "display_data"
    }
   ],
   "source": [
    "tapply(mat6[, 2], mat6[, 1], max)"
   ]
  },
  {
   "cell_type": "markdown",
   "metadata": {},
   "source": [
    "Enfin, la fonction lapply permet d’appliquer une fonction à l’ensemble des éléments d’une liste. Si on prend par exemple la liste suivante :"
   ]
  },
  {
   "cell_type": "code",
   "execution_count": 151,
   "metadata": {},
   "outputs": [
    {
     "data": {
      "text/html": [
       "<dl>\n",
       "\t<dt>$mat</dt>\n",
       "\t\t<dd><table>\n",
       "<tbody>\n",
       "\t<tr><td> 1 </td><td> 51</td></tr>\n",
       "\t<tr><td> 2 </td><td> 52</td></tr>\n",
       "\t<tr><td> 3 </td><td> 53</td></tr>\n",
       "\t<tr><td> 4 </td><td> 54</td></tr>\n",
       "\t<tr><td> 5 </td><td> 55</td></tr>\n",
       "\t<tr><td> 6 </td><td> 56</td></tr>\n",
       "\t<tr><td> 7 </td><td> 57</td></tr>\n",
       "\t<tr><td> 8 </td><td> 58</td></tr>\n",
       "\t<tr><td> 9 </td><td> 59</td></tr>\n",
       "\t<tr><td>10 </td><td> 60</td></tr>\n",
       "\t<tr><td>11 </td><td> 61</td></tr>\n",
       "\t<tr><td>12 </td><td> 62</td></tr>\n",
       "\t<tr><td>13 </td><td> 63</td></tr>\n",
       "\t<tr><td>14 </td><td> 64</td></tr>\n",
       "\t<tr><td>15 </td><td> 65</td></tr>\n",
       "\t<tr><td>16 </td><td> 66</td></tr>\n",
       "\t<tr><td>17 </td><td> 67</td></tr>\n",
       "\t<tr><td>18 </td><td> 68</td></tr>\n",
       "\t<tr><td>19 </td><td> 69</td></tr>\n",
       "\t<tr><td>20 </td><td> 70</td></tr>\n",
       "\t<tr><td>21 </td><td> 71</td></tr>\n",
       "\t<tr><td>22 </td><td> 72</td></tr>\n",
       "\t<tr><td>23 </td><td> 73</td></tr>\n",
       "\t<tr><td>24 </td><td> 74</td></tr>\n",
       "\t<tr><td>25 </td><td> 75</td></tr>\n",
       "\t<tr><td>26 </td><td> 76</td></tr>\n",
       "\t<tr><td>27 </td><td> 77</td></tr>\n",
       "\t<tr><td>28 </td><td> 78</td></tr>\n",
       "\t<tr><td>29 </td><td> 79</td></tr>\n",
       "\t<tr><td>30 </td><td> 80</td></tr>\n",
       "\t<tr><td>31 </td><td> 81</td></tr>\n",
       "\t<tr><td>32 </td><td> 82</td></tr>\n",
       "\t<tr><td>33 </td><td> 83</td></tr>\n",
       "\t<tr><td>34 </td><td> 84</td></tr>\n",
       "\t<tr><td>35 </td><td> 85</td></tr>\n",
       "\t<tr><td>36 </td><td> 86</td></tr>\n",
       "\t<tr><td>37 </td><td> 87</td></tr>\n",
       "\t<tr><td>38 </td><td> 88</td></tr>\n",
       "\t<tr><td>39 </td><td> 89</td></tr>\n",
       "\t<tr><td>40 </td><td> 90</td></tr>\n",
       "\t<tr><td>41 </td><td> 91</td></tr>\n",
       "\t<tr><td>42 </td><td> 92</td></tr>\n",
       "\t<tr><td>43 </td><td> 93</td></tr>\n",
       "\t<tr><td>44 </td><td> 94</td></tr>\n",
       "\t<tr><td>45 </td><td> 95</td></tr>\n",
       "\t<tr><td>46 </td><td> 96</td></tr>\n",
       "\t<tr><td>47 </td><td> 97</td></tr>\n",
       "\t<tr><td>48 </td><td> 98</td></tr>\n",
       "\t<tr><td>49 </td><td> 99</td></tr>\n",
       "\t<tr><td>50 </td><td>100</td></tr>\n",
       "</tbody>\n",
       "</table>\n",
       "</dd>\n",
       "\t<dt>$vec</dt>\n",
       "\t\t<dd><ol class=list-inline>\n",
       "\t<li>1</li>\n",
       "\t<li>5</li>\n",
       "\t<li>8</li>\n",
       "\t<li>9</li>\n",
       "</ol>\n",
       "</dd>\n",
       "\t<dt>$num</dt>\n",
       "\t\t<dd>2</dd>\n",
       "\t<dt>$ch</dt>\n",
       "\t\t<dd>'Voilà'</dd>\n",
       "</dl>\n"
      ],
      "text/latex": [
       "\\begin{description}\n",
       "\\item[\\$mat] \\begin{tabular}{ll}\n",
       "\t  1  &  51\\\\\n",
       "\t  2  &  52\\\\\n",
       "\t  3  &  53\\\\\n",
       "\t  4  &  54\\\\\n",
       "\t  5  &  55\\\\\n",
       "\t  6  &  56\\\\\n",
       "\t  7  &  57\\\\\n",
       "\t  8  &  58\\\\\n",
       "\t  9  &  59\\\\\n",
       "\t 10  &  60\\\\\n",
       "\t 11  &  61\\\\\n",
       "\t 12  &  62\\\\\n",
       "\t 13  &  63\\\\\n",
       "\t 14  &  64\\\\\n",
       "\t 15  &  65\\\\\n",
       "\t 16  &  66\\\\\n",
       "\t 17  &  67\\\\\n",
       "\t 18  &  68\\\\\n",
       "\t 19  &  69\\\\\n",
       "\t 20  &  70\\\\\n",
       "\t 21  &  71\\\\\n",
       "\t 22  &  72\\\\\n",
       "\t 23  &  73\\\\\n",
       "\t 24  &  74\\\\\n",
       "\t 25  &  75\\\\\n",
       "\t 26  &  76\\\\\n",
       "\t 27  &  77\\\\\n",
       "\t 28  &  78\\\\\n",
       "\t 29  &  79\\\\\n",
       "\t 30  &  80\\\\\n",
       "\t 31  &  81\\\\\n",
       "\t 32  &  82\\\\\n",
       "\t 33  &  83\\\\\n",
       "\t 34  &  84\\\\\n",
       "\t 35  &  85\\\\\n",
       "\t 36  &  86\\\\\n",
       "\t 37  &  87\\\\\n",
       "\t 38  &  88\\\\\n",
       "\t 39  &  89\\\\\n",
       "\t 40  &  90\\\\\n",
       "\t 41  &  91\\\\\n",
       "\t 42  &  92\\\\\n",
       "\t 43  &  93\\\\\n",
       "\t 44  &  94\\\\\n",
       "\t 45  &  95\\\\\n",
       "\t 46  &  96\\\\\n",
       "\t 47  &  97\\\\\n",
       "\t 48  &  98\\\\\n",
       "\t 49  &  99\\\\\n",
       "\t 50  & 100\\\\\n",
       "\\end{tabular}\n",
       "\n",
       "\\item[\\$vec] \\begin{enumerate*}\n",
       "\\item 1\n",
       "\\item 5\n",
       "\\item 8\n",
       "\\item 9\n",
       "\\end{enumerate*}\n",
       "\n",
       "\\item[\\$num] 2\n",
       "\\item[\\$ch] 'Voilà'\n",
       "\\end{description}\n"
      ],
      "text/markdown": [
       "$mat\n",
       ":   \n",
       "|  1  |  51 |\n",
       "|  2  |  52 |\n",
       "|  3  |  53 |\n",
       "|  4  |  54 |\n",
       "|  5  |  55 |\n",
       "|  6  |  56 |\n",
       "|  7  |  57 |\n",
       "|  8  |  58 |\n",
       "|  9  |  59 |\n",
       "| 10  |  60 |\n",
       "| 11  |  61 |\n",
       "| 12  |  62 |\n",
       "| 13  |  63 |\n",
       "| 14  |  64 |\n",
       "| 15  |  65 |\n",
       "| 16  |  66 |\n",
       "| 17  |  67 |\n",
       "| 18  |  68 |\n",
       "| 19  |  69 |\n",
       "| 20  |  70 |\n",
       "| 21  |  71 |\n",
       "| 22  |  72 |\n",
       "| 23  |  73 |\n",
       "| 24  |  74 |\n",
       "| 25  |  75 |\n",
       "| 26  |  76 |\n",
       "| 27  |  77 |\n",
       "| 28  |  78 |\n",
       "| 29  |  79 |\n",
       "| 30  |  80 |\n",
       "| 31  |  81 |\n",
       "| 32  |  82 |\n",
       "| 33  |  83 |\n",
       "| 34  |  84 |\n",
       "| 35  |  85 |\n",
       "| 36  |  86 |\n",
       "| 37  |  87 |\n",
       "| 38  |  88 |\n",
       "| 39  |  89 |\n",
       "| 40  |  90 |\n",
       "| 41  |  91 |\n",
       "| 42  |  92 |\n",
       "| 43  |  93 |\n",
       "| 44  |  94 |\n",
       "| 45  |  95 |\n",
       "| 46  |  96 |\n",
       "| 47  |  97 |\n",
       "| 48  |  98 |\n",
       "| 49  |  99 |\n",
       "| 50  | 100 |\n",
       "\n",
       "\n",
       "$vec\n",
       ":   1. 1\n",
       "2. 5\n",
       "3. 8\n",
       "4. 9\n",
       "\n",
       "\n",
       "\n",
       "$num\n",
       ":   2\n",
       "$ch\n",
       ":   'Voilà'\n",
       "\n",
       "\n"
      ],
      "text/plain": [
       "$mat\n",
       "      [,1] [,2]\n",
       " [1,]    1   51\n",
       " [2,]    2   52\n",
       " [3,]    3   53\n",
       " [4,]    4   54\n",
       " [5,]    5   55\n",
       " [6,]    6   56\n",
       " [7,]    7   57\n",
       " [8,]    8   58\n",
       " [9,]    9   59\n",
       "[10,]   10   60\n",
       "[11,]   11   61\n",
       "[12,]   12   62\n",
       "[13,]   13   63\n",
       "[14,]   14   64\n",
       "[15,]   15   65\n",
       "[16,]   16   66\n",
       "[17,]   17   67\n",
       "[18,]   18   68\n",
       "[19,]   19   69\n",
       "[20,]   20   70\n",
       "[21,]   21   71\n",
       "[22,]   22   72\n",
       "[23,]   23   73\n",
       "[24,]   24   74\n",
       "[25,]   25   75\n",
       "[26,]   26   76\n",
       "[27,]   27   77\n",
       "[28,]   28   78\n",
       "[29,]   29   79\n",
       "[30,]   30   80\n",
       "[31,]   31   81\n",
       "[32,]   32   82\n",
       "[33,]   33   83\n",
       "[34,]   34   84\n",
       "[35,]   35   85\n",
       "[36,]   36   86\n",
       "[37,]   37   87\n",
       "[38,]   38   88\n",
       "[39,]   39   89\n",
       "[40,]   40   90\n",
       "[41,]   41   91\n",
       "[42,]   42   92\n",
       "[43,]   43   93\n",
       "[44,]   44   94\n",
       "[45,]   45   95\n",
       "[46,]   46   96\n",
       "[47,]   47   97\n",
       "[48,]   48   98\n",
       "[49,]   49   99\n",
       "[50,]   50  100\n",
       "\n",
       "$vec\n",
       "[1] 1 5 8 9\n",
       "\n",
       "$num\n",
       "[1] 2\n",
       "\n",
       "$ch\n",
       "[1] \"Voilà\"\n"
      ]
     },
     "metadata": {},
     "output_type": "display_data"
    }
   ],
   "source": [
    "l4 <- list(\"mat\" = matrix(c(1:100), nrow = 50), \"vec\" = c(1,5,8,9), \"num\" = 2, \"ch\" = \"Voilà\")\n",
    "l4"
   ]
  },
  {
   "cell_type": "markdown",
   "metadata": {},
   "source": [
    "On peut par exemple sortir directement le type de chaque objet de la liste :"
   ]
  },
  {
   "cell_type": "code",
   "execution_count": 153,
   "metadata": {},
   "outputs": [
    {
     "data": {
      "text/html": [
       "<dl>\n",
       "\t<dt>$mat</dt>\n",
       "\t\t<dd>'matrix'</dd>\n",
       "\t<dt>$vec</dt>\n",
       "\t\t<dd>'numeric'</dd>\n",
       "\t<dt>$num</dt>\n",
       "\t\t<dd>'numeric'</dd>\n",
       "\t<dt>$ch</dt>\n",
       "\t\t<dd>'character'</dd>\n",
       "</dl>\n"
      ],
      "text/latex": [
       "\\begin{description}\n",
       "\\item[\\$mat] 'matrix'\n",
       "\\item[\\$vec] 'numeric'\n",
       "\\item[\\$num] 'numeric'\n",
       "\\item[\\$ch] 'character'\n",
       "\\end{description}\n"
      ],
      "text/markdown": [
       "$mat\n",
       ":   'matrix'\n",
       "$vec\n",
       ":   'numeric'\n",
       "$num\n",
       ":   'numeric'\n",
       "$ch\n",
       ":   'character'\n",
       "\n",
       "\n"
      ],
      "text/plain": [
       "$mat\n",
       "[1] \"matrix\"\n",
       "\n",
       "$vec\n",
       "[1] \"numeric\"\n",
       "\n",
       "$num\n",
       "[1] \"numeric\"\n",
       "\n",
       "$ch\n",
       "[1] \"character\"\n"
      ]
     },
     "metadata": {},
     "output_type": "display_data"
    }
   ],
   "source": [
    "lapply(l4, class)"
   ]
  },
  {
   "cell_type": "markdown",
   "metadata": {},
   "source": [
    "Les familles de fonctions *apply sont optimisées sous R et souvent bien plus rapides que les boucles :"
   ]
  },
  {
   "cell_type": "code",
   "execution_count": 163,
   "metadata": {},
   "outputs": [
    {
     "data": {
      "text/html": [
       "<table>\n",
       "<thead><tr><th scope=col>expr</th><th scope=col>time</th></tr></thead>\n",
       "<tbody>\n",
       "\t<tr><td>boucle </td><td>2753500</td></tr>\n",
       "\t<tr><td>boucle </td><td>2365900</td></tr>\n",
       "\t<tr><td>boucle </td><td>2344500</td></tr>\n",
       "\t<tr><td>boucle </td><td>2372400</td></tr>\n",
       "\t<tr><td>boucle </td><td>2952500</td></tr>\n",
       "\t<tr><td>Lapply </td><td>   9500</td></tr>\n",
       "\t<tr><td>Lapply </td><td>   4200</td></tr>\n",
       "\t<tr><td>Lapply </td><td>   2900</td></tr>\n",
       "\t<tr><td>Lapply </td><td>   3000</td></tr>\n",
       "\t<tr><td>boucle </td><td>2379300</td></tr>\n",
       "\t<tr><td>boucle </td><td>2332000</td></tr>\n",
       "\t<tr><td>boucle </td><td>2402000</td></tr>\n",
       "\t<tr><td>boucle </td><td>2331800</td></tr>\n",
       "\t<tr><td>Lapply </td><td>   8100</td></tr>\n",
       "\t<tr><td>boucle </td><td>2329400</td></tr>\n",
       "\t<tr><td>boucle </td><td>2392200</td></tr>\n",
       "\t<tr><td>boucle </td><td>2416400</td></tr>\n",
       "\t<tr><td>Lapply </td><td>   9000</td></tr>\n",
       "\t<tr><td>Lapply </td><td>   4100</td></tr>\n",
       "\t<tr><td>Lapply </td><td>   3300</td></tr>\n",
       "\t<tr><td>Lapply </td><td>   3000</td></tr>\n",
       "\t<tr><td>boucle </td><td>2329600</td></tr>\n",
       "\t<tr><td>Lapply </td><td>   6900</td></tr>\n",
       "\t<tr><td>boucle </td><td>2365100</td></tr>\n",
       "\t<tr><td>boucle </td><td>2369900</td></tr>\n",
       "\t<tr><td>boucle </td><td>2290400</td></tr>\n",
       "\t<tr><td>Lapply </td><td>   7400</td></tr>\n",
       "\t<tr><td>boucle </td><td>2299700</td></tr>\n",
       "\t<tr><td>boucle </td><td>2412300</td></tr>\n",
       "\t<tr><td>boucle </td><td>2287300</td></tr>\n",
       "\t<tr><td>...</td><td>...</td></tr>\n",
       "\t<tr><td>Lapply </td><td>   3400</td></tr>\n",
       "\t<tr><td>boucle </td><td>2378000</td></tr>\n",
       "\t<tr><td>boucle </td><td>2385200</td></tr>\n",
       "\t<tr><td>boucle </td><td>2443600</td></tr>\n",
       "\t<tr><td>Lapply </td><td>   8600</td></tr>\n",
       "\t<tr><td>boucle </td><td>2360100</td></tr>\n",
       "\t<tr><td>boucle </td><td>2337700</td></tr>\n",
       "\t<tr><td>boucle </td><td>2407000</td></tr>\n",
       "\t<tr><td>boucle </td><td>2307400</td></tr>\n",
       "\t<tr><td>boucle </td><td>2269400</td></tr>\n",
       "\t<tr><td>Lapply </td><td>   8200</td></tr>\n",
       "\t<tr><td>Lapply </td><td>   3500</td></tr>\n",
       "\t<tr><td>Lapply </td><td>   3300</td></tr>\n",
       "\t<tr><td>Lapply </td><td>   2800</td></tr>\n",
       "\t<tr><td>Lapply </td><td>   2900</td></tr>\n",
       "\t<tr><td>boucle </td><td>2271200</td></tr>\n",
       "\t<tr><td>boucle </td><td>2361400</td></tr>\n",
       "\t<tr><td>boucle </td><td>2361600</td></tr>\n",
       "\t<tr><td>Lapply </td><td>   7400</td></tr>\n",
       "\t<tr><td>Lapply </td><td>   3800</td></tr>\n",
       "\t<tr><td>Lapply </td><td>   3500</td></tr>\n",
       "\t<tr><td>boucle </td><td>2290600</td></tr>\n",
       "\t<tr><td>boucle </td><td>2436200</td></tr>\n",
       "\t<tr><td>boucle </td><td>2367100</td></tr>\n",
       "\t<tr><td>Lapply </td><td>   7700</td></tr>\n",
       "\t<tr><td>Lapply </td><td>   4700</td></tr>\n",
       "\t<tr><td>boucle </td><td>4119700</td></tr>\n",
       "\t<tr><td>Lapply </td><td>   8800</td></tr>\n",
       "\t<tr><td>boucle </td><td>2313800</td></tr>\n",
       "\t<tr><td>boucle </td><td>2325100</td></tr>\n",
       "</tbody>\n",
       "</table>\n"
      ],
      "text/latex": [
       "\\begin{tabular}{r|ll}\n",
       " expr & time\\\\\n",
       "\\hline\n",
       "\t boucle  & 2753500\\\\\n",
       "\t boucle  & 2365900\\\\\n",
       "\t boucle  & 2344500\\\\\n",
       "\t boucle  & 2372400\\\\\n",
       "\t boucle  & 2952500\\\\\n",
       "\t Lapply  &    9500\\\\\n",
       "\t Lapply  &    4200\\\\\n",
       "\t Lapply  &    2900\\\\\n",
       "\t Lapply  &    3000\\\\\n",
       "\t boucle  & 2379300\\\\\n",
       "\t boucle  & 2332000\\\\\n",
       "\t boucle  & 2402000\\\\\n",
       "\t boucle  & 2331800\\\\\n",
       "\t Lapply  &    8100\\\\\n",
       "\t boucle  & 2329400\\\\\n",
       "\t boucle  & 2392200\\\\\n",
       "\t boucle  & 2416400\\\\\n",
       "\t Lapply  &    9000\\\\\n",
       "\t Lapply  &    4100\\\\\n",
       "\t Lapply  &    3300\\\\\n",
       "\t Lapply  &    3000\\\\\n",
       "\t boucle  & 2329600\\\\\n",
       "\t Lapply  &    6900\\\\\n",
       "\t boucle  & 2365100\\\\\n",
       "\t boucle  & 2369900\\\\\n",
       "\t boucle  & 2290400\\\\\n",
       "\t Lapply  &    7400\\\\\n",
       "\t boucle  & 2299700\\\\\n",
       "\t boucle  & 2412300\\\\\n",
       "\t boucle  & 2287300\\\\\n",
       "\t ... & ...\\\\\n",
       "\t Lapply  &    3400\\\\\n",
       "\t boucle  & 2378000\\\\\n",
       "\t boucle  & 2385200\\\\\n",
       "\t boucle  & 2443600\\\\\n",
       "\t Lapply  &    8600\\\\\n",
       "\t boucle  & 2360100\\\\\n",
       "\t boucle  & 2337700\\\\\n",
       "\t boucle  & 2407000\\\\\n",
       "\t boucle  & 2307400\\\\\n",
       "\t boucle  & 2269400\\\\\n",
       "\t Lapply  &    8200\\\\\n",
       "\t Lapply  &    3500\\\\\n",
       "\t Lapply  &    3300\\\\\n",
       "\t Lapply  &    2800\\\\\n",
       "\t Lapply  &    2900\\\\\n",
       "\t boucle  & 2271200\\\\\n",
       "\t boucle  & 2361400\\\\\n",
       "\t boucle  & 2361600\\\\\n",
       "\t Lapply  &    7400\\\\\n",
       "\t Lapply  &    3800\\\\\n",
       "\t Lapply  &    3500\\\\\n",
       "\t boucle  & 2290600\\\\\n",
       "\t boucle  & 2436200\\\\\n",
       "\t boucle  & 2367100\\\\\n",
       "\t Lapply  &    7700\\\\\n",
       "\t Lapply  &    4700\\\\\n",
       "\t boucle  & 4119700\\\\\n",
       "\t Lapply  &    8800\\\\\n",
       "\t boucle  & 2313800\\\\\n",
       "\t boucle  & 2325100\\\\\n",
       "\\end{tabular}\n"
      ],
      "text/markdown": [
       "\n",
       "| expr | time |\n",
       "|---|---|\n",
       "| boucle  | 2753500 |\n",
       "| boucle  | 2365900 |\n",
       "| boucle  | 2344500 |\n",
       "| boucle  | 2372400 |\n",
       "| boucle  | 2952500 |\n",
       "| Lapply  |    9500 |\n",
       "| Lapply  |    4200 |\n",
       "| Lapply  |    2900 |\n",
       "| Lapply  |    3000 |\n",
       "| boucle  | 2379300 |\n",
       "| boucle  | 2332000 |\n",
       "| boucle  | 2402000 |\n",
       "| boucle  | 2331800 |\n",
       "| Lapply  |    8100 |\n",
       "| boucle  | 2329400 |\n",
       "| boucle  | 2392200 |\n",
       "| boucle  | 2416400 |\n",
       "| Lapply  |    9000 |\n",
       "| Lapply  |    4100 |\n",
       "| Lapply  |    3300 |\n",
       "| Lapply  |    3000 |\n",
       "| boucle  | 2329600 |\n",
       "| Lapply  |    6900 |\n",
       "| boucle  | 2365100 |\n",
       "| boucle  | 2369900 |\n",
       "| boucle  | 2290400 |\n",
       "| Lapply  |    7400 |\n",
       "| boucle  | 2299700 |\n",
       "| boucle  | 2412300 |\n",
       "| boucle  | 2287300 |\n",
       "| ... | ... |\n",
       "| Lapply  |    3400 |\n",
       "| boucle  | 2378000 |\n",
       "| boucle  | 2385200 |\n",
       "| boucle  | 2443600 |\n",
       "| Lapply  |    8600 |\n",
       "| boucle  | 2360100 |\n",
       "| boucle  | 2337700 |\n",
       "| boucle  | 2407000 |\n",
       "| boucle  | 2307400 |\n",
       "| boucle  | 2269400 |\n",
       "| Lapply  |    8200 |\n",
       "| Lapply  |    3500 |\n",
       "| Lapply  |    3300 |\n",
       "| Lapply  |    2800 |\n",
       "| Lapply  |    2900 |\n",
       "| boucle  | 2271200 |\n",
       "| boucle  | 2361400 |\n",
       "| boucle  | 2361600 |\n",
       "| Lapply  |    7400 |\n",
       "| Lapply  |    3800 |\n",
       "| Lapply  |    3500 |\n",
       "| boucle  | 2290600 |\n",
       "| boucle  | 2436200 |\n",
       "| boucle  | 2367100 |\n",
       "| Lapply  |    7700 |\n",
       "| Lapply  |    4700 |\n",
       "| boucle  | 4119700 |\n",
       "| Lapply  |    8800 |\n",
       "| boucle  | 2313800 |\n",
       "| boucle  | 2325100 |\n",
       "\n"
      ],
      "text/plain": [
       "    expr   time   \n",
       "1   boucle 2753500\n",
       "2   boucle 2365900\n",
       "3   boucle 2344500\n",
       "4   boucle 2372400\n",
       "5   boucle 2952500\n",
       "6   Lapply    9500\n",
       "7   Lapply    4200\n",
       "8   Lapply    2900\n",
       "9   Lapply    3000\n",
       "10  boucle 2379300\n",
       "11  boucle 2332000\n",
       "12  boucle 2402000\n",
       "13  boucle 2331800\n",
       "14  Lapply    8100\n",
       "15  boucle 2329400\n",
       "16  boucle 2392200\n",
       "17  boucle 2416400\n",
       "18  Lapply    9000\n",
       "19  Lapply    4100\n",
       "20  Lapply    3300\n",
       "21  Lapply    3000\n",
       "22  boucle 2329600\n",
       "23  Lapply    6900\n",
       "24  boucle 2365100\n",
       "25  boucle 2369900\n",
       "26  boucle 2290400\n",
       "27  Lapply    7400\n",
       "28  boucle 2299700\n",
       "29  boucle 2412300\n",
       "30  boucle 2287300\n",
       "... ...    ...    \n",
       "171 Lapply    3400\n",
       "172 boucle 2378000\n",
       "173 boucle 2385200\n",
       "174 boucle 2443600\n",
       "175 Lapply    8600\n",
       "176 boucle 2360100\n",
       "177 boucle 2337700\n",
       "178 boucle 2407000\n",
       "179 boucle 2307400\n",
       "180 boucle 2269400\n",
       "181 Lapply    8200\n",
       "182 Lapply    3500\n",
       "183 Lapply    3300\n",
       "184 Lapply    2800\n",
       "185 Lapply    2900\n",
       "186 boucle 2271200\n",
       "187 boucle 2361400\n",
       "188 boucle 2361600\n",
       "189 Lapply    7400\n",
       "190 Lapply    3800\n",
       "191 Lapply    3500\n",
       "192 boucle 2290600\n",
       "193 boucle 2436200\n",
       "194 boucle 2367100\n",
       "195 Lapply    7700\n",
       "196 Lapply    4700\n",
       "197 boucle 4119700\n",
       "198 Lapply    8800\n",
       "199 boucle 2313800\n",
       "200 boucle 2325100"
      ]
     },
     "metadata": {},
     "output_type": "display_data"
    }
   ],
   "source": [
    "microbenchmark::microbenchmark(\n",
    "  times = 100L,\n",
    "  \"Lapply\" = results_ <- lapply(l4, class),\n",
    "  \"boucle\" = {\n",
    "    results <- list()\n",
    "    for (i in c(1:length(l4))){\n",
    "      results <- c(results, class(l4[i]))\n",
    "    }\n",
    "  })"
   ]
  },
  {
   "cell_type": "markdown",
   "metadata": {},
   "source": [
    "## VII. Les packages"
   ]
  },
  {
   "cell_type": "markdown",
   "metadata": {},
   "source": [
    "### VII.1. Trouvez comment installer un package sous R et installez le package readxl."
   ]
  },
  {
   "cell_type": "markdown",
   "metadata": {},
   "source": [
    "installé via anaconda"
   ]
  },
  {
   "cell_type": "markdown",
   "metadata": {},
   "source": [
    "### VII.2. Trouvez comment charger le package dans votre session pour accéder aux fonctions. Pouvez-vous ne charger qu’une des fonctions du package? Comment?"
   ]
  },
  {
   "cell_type": "code",
   "execution_count": null,
   "metadata": {},
   "outputs": [],
   "source": [
    "# Chargement du package \"readxl\"\n",
    "library(readxl)"
   ]
  }
 ],
 "metadata": {
  "kernelspec": {
   "display_name": "R",
   "language": "R",
   "name": "ir"
  },
  "language_info": {
   "codemirror_mode": "r",
   "file_extension": ".r",
   "mimetype": "text/x-r-source",
   "name": "R",
   "pygments_lexer": "r",
   "version": "3.6.1"
  },
  "toc": {
   "base_numbering": 1,
   "nav_menu": {
    "height": "171px",
    "width": "378px"
   },
   "number_sections": false,
   "sideBar": true,
   "skip_h1_title": false,
   "title_cell": "Table of Contents",
   "title_sidebar": "Contents",
   "toc_cell": true,
   "toc_position": {
    "height": "calc(100% - 180px)",
    "left": "10px",
    "top": "150px",
    "width": "281.6px"
   },
   "toc_section_display": true,
   "toc_window_display": true
  }
 },
 "nbformat": 4,
 "nbformat_minor": 2
}
